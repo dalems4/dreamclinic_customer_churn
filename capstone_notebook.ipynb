{
 "cells": [
  {
   "cell_type": "markdown",
   "metadata": {},
   "source": [
    "# Dreamclinic Client Churn"
   ]
  },
  {
   "cell_type": "code",
   "execution_count": null,
   "metadata": {},
   "outputs": [],
   "source": [
    "import pandas as pd\n",
    "import numpy as np\n",
    "import matplotlib.pyplot as plt\n",
    "import seaborn as sns\n",
    "import sqlalchemy\n",
    "import datetime as dt"
   ]
  },
  {
   "cell_type": "code",
   "execution_count": null,
   "metadata": {},
   "outputs": [],
   "source": [
    "pep8 = \"0987654321\" * 8"
   ]
  },
  {
   "cell_type": "code",
   "execution_count": null,
   "metadata": {},
   "outputs": [],
   "source": [
    "pep8"
   ]
  },
  {
   "cell_type": "code",
   "execution_count": null,
   "metadata": {},
   "outputs": [],
   "source": [
    "client_df = pd.read_excel(\"~/dales_work/clinic_services_8-1-2016_to_8-3-2019.xlsx\")\n"
   ]
  },
  {
   "cell_type": "code",
   "execution_count": null,
   "metadata": {},
   "outputs": [],
   "source": [
    "client_df.drop('Name_Full', axis=1, inplace=True)\n",
    "\n",
    "# remove rows where HrsWorked = 0 because they are just used by the front desk staff\n",
    "client_df  = client_df[client_df['HrsWorked'] != 0]\n",
    "\n",
    "# fill NaN values in 'Service_Category with 'Massage'\n",
    "client_df['Service_Category'].fillna(value='Massage', inplace=True)\n",
    "\n",
    "# remove white space from Therapist names\n",
    "client_df['Therapist'] = client_df['Therapist'].str.strip()\n",
    "\n",
    "# make all therapist names lowercase to avoid typos in data entry\n",
    "client_df['Therapist'] = client_df['Therapist'].str.lower()\n",
    "\n",
    "# make all therapist names lowercase to avoid typos in data entry\n",
    "client_df['Therapist'] = client_df['Therapist'].str.lower()\n",
    "\n",
    "# find and replace nicknames with domain knowledge\n",
    "client_df = client_df.replace('abby thomson', 'abigail thomson')\n",
    "\n",
    "#Drop Address_City and Addres_State Columns from Dataframe\n",
    "client_df.drop(['Address_City', 'Address_State'], axis=1, inplace=True)"
   ]
  },
  {
   "cell_type": "code",
   "execution_count": null,
   "metadata": {},
   "outputs": [],
   "source": [
    "# Drop rows without a clientID\n",
    "client_df.dropna(subset=['clientID'], inplace=True)"
   ]
  },
  {
   "cell_type": "code",
   "execution_count": null,
   "metadata": {},
   "outputs": [],
   "source": [
    "# Adds year and month columns to dataframe\n",
    "client_df['Year'] = client_df['TransactionDate'].map(lambda x: x.year)\n",
    "\n",
    "client_df['Month'] = client_df['TransactionDate'].map(lambda x: x.month)"
   ]
  },
  {
   "cell_type": "code",
   "execution_count": null,
   "metadata": {},
   "outputs": [],
   "source": [
    "# creates a Dataframe that groups by year and month and counts unique clients\n",
    "counts_by_month_df = client_df.groupby(['Year', 'Month']).nunique()"
   ]
  },
  {
   "cell_type": "code",
   "execution_count": null,
   "metadata": {
    "scrolled": true
   },
   "outputs": [],
   "source": [
    "# Cleans the counts_by_month_df to only include data that is applicaple to it's EDA\n",
    "counts_by_month_df.rename(columns={\"clientID\" : \"unique_client_count\", \n",
    "                                   \"Therapist\" : \"therapists_employed\", \n",
    "                                   \"Zipcode\" :\"zipcodes_reached\"}, inplace=True)"
   ]
  },
  {
   "cell_type": "code",
   "execution_count": null,
   "metadata": {
    "scrolled": true
   },
   "outputs": [],
   "source": [
    "#Drop unnessesary columns\n",
    "counts_by_month_df.drop([\"TransactionDate\", \"Invoice_Category\", \"HrsWorked\", \"Year\", \"Month\"], axis=1, inplace=True)"
   ]
  },
  {
   "cell_type": "code",
   "execution_count": null,
   "metadata": {},
   "outputs": [],
   "source": [
    "counts_by_month_df.head()"
   ]
  },
  {
   "cell_type": "code",
   "execution_count": null,
   "metadata": {},
   "outputs": [],
   "source": [
    "months = client_df.TransactionDate.dt.to_period(\"M\")"
   ]
  },
  {
   "cell_type": "code",
   "execution_count": null,
   "metadata": {},
   "outputs": [],
   "source": [
    "g = client_df.groupby(per)"
   ]
  },
  {
   "cell_type": "code",
   "execution_count": null,
   "metadata": {
    "scrolled": true
   },
   "outputs": [],
   "source": [
    "client_count_df = g.nunique()  #"
   ]
  },
  {
   "cell_type": "code",
   "execution_count": null,
   "metadata": {},
   "outputs": [],
   "source": [
    "client_count_df.drop('TransactionDate', axis=1, inplace= True)"
   ]
  },
  {
   "cell_type": "code",
   "execution_count": null,
   "metadata": {},
   "outputs": [],
   "source": [
    "client_count_df.reset_index(inplace=True)"
   ]
  },
  {
   "cell_type": "code",
   "execution_count": null,
   "metadata": {},
   "outputs": [],
   "source": [
    "client_count_df[\"client_count\"] = client_count_df['clientID']"
   ]
  },
  {
   "cell_type": "code",
   "execution_count": null,
   "metadata": {},
   "outputs": [],
   "source": [
    "client_count_df.drop('clientID', axis=1, inplace=True)"
   ]
  },
  {
   "cell_type": "code",
   "execution_count": null,
   "metadata": {},
   "outputs": [],
   "source": [
    "client_count_df['TransactionDate'] = client_count_df['TransactionDate'].astype('str')"
   ]
  },
  {
   "cell_type": "code",
   "execution_count": null,
   "metadata": {},
   "outputs": [],
   "source": [
    "client_count_df.rename(columns={\"clientID\" : \"unique_client_count\", \n",
    "                                   \"Therapist\" : \"therapists_employed\", \n",
    "                                   \"Zipcode\" :\"zipcodes_reached\"}, inplace=True)\n"
   ]
  },
  {
   "cell_type": "code",
   "execution_count": null,
   "metadata": {},
   "outputs": [],
   "source": [
    "client_count_df.drop([\"Invoice_Category\", \"HrsWorked\", \"Year\", \"Month\"], axis=1, inplace=True)\n",
    "client_count_df"
   ]
  },
  {
   "cell_type": "code",
   "execution_count": null,
   "metadata": {},
   "outputs": [],
   "source": [
    "client_count_df.drop(['Service_Category'],axis=1,  inplace=True)"
   ]
  },
  {
   "cell_type": "code",
   "execution_count": null,
   "metadata": {},
   "outputs": [],
   "source": [
    "client_count_df.head()"
   ]
  },
  {
   "cell_type": "markdown",
   "metadata": {},
   "source": [
    "# Graph of unique client counts per month from August, 2016"
   ]
  },
  {
   "cell_type": "code",
   "execution_count": null,
   "metadata": {},
   "outputs": [],
   "source": [
    "# the dip in Febuary of 2019 is explained by the 1 week snow closure of Seattle\n",
    "x = client_count_df['TransactionDate']\n",
    "y = client_count_df['client_count']\n",
    "\n",
    "\n",
    "fig, ax = plt.subplots(figsize=(30,22))\n",
    "sns.barplot(x= client_count_df['TransactionDate'], \n",
    "             y= client_count_df['client_count'],\n",
    "             ax=ax);\n"
   ]
  },
  {
   "cell_type": "code",
   "execution_count": null,
   "metadata": {},
   "outputs": [],
   "source": [
    "service_given_df = g.count()"
   ]
  },
  {
   "cell_type": "code",
   "execution_count": null,
   "metadata": {},
   "outputs": [],
   "source": [
    "service_given_df.drop(['TransactionDate', 'Address_Zip'], axis=1, inplace=True)"
   ]
  },
  {
   "cell_type": "code",
   "execution_count": null,
   "metadata": {},
   "outputs": [],
   "source": [
    "service_given_df.reset_index(inplace=True)"
   ]
  },
  {
   "cell_type": "code",
   "execution_count": null,
   "metadata": {},
   "outputs": [],
   "source": [
    "service_given_df.rename(columns={'clientID': 'services_performed'}, inplace=True)"
   ]
  },
  {
   "cell_type": "code",
   "execution_count": null,
   "metadata": {},
   "outputs": [],
   "source": [
    "services_given_df = service_given_df[[\"TransactionDate\", \"services_performed\"]]\n"
   ]
  },
  {
   "cell_type": "code",
   "execution_count": null,
   "metadata": {},
   "outputs": [],
   "source": [
    "services_given_df = services_given_df.rename(columns={\"TransactionDate\" : \"month\"})"
   ]
  },
  {
   "cell_type": "code",
   "execution_count": null,
   "metadata": {
    "scrolled": true
   },
   "outputs": [],
   "source": [
    "x = services_given_df['month']\n",
    "y = services_given_df['services_performed']\n",
    "\n",
    "\n",
    "fig, ax = plt.subplots(figsize=(30,22))\n",
    "sns.barplot(x= service_given_df['TransactionDate'], \n",
    "             y= service_given_df['services_performed'],\n",
    "             ax=ax);"
   ]
  },
  {
   "cell_type": "code",
   "execution_count": null,
   "metadata": {},
   "outputs": [],
   "source": []
  },
  {
   "cell_type": "code",
   "execution_count": null,
   "metadata": {},
   "outputs": [],
   "source": []
  },
  {
   "cell_type": "markdown",
   "metadata": {},
   "source": [
    "# How many sessions did the average client from 2016-08 to 2019-08 receive?"
   ]
  },
  {
   "cell_type": "code",
   "execution_count": null,
   "metadata": {},
   "outputs": [],
   "source": [
    "session_count = client_df.groupby('clientID').nunique()['TransactionDate']"
   ]
  },
  {
   "cell_type": "markdown",
   "metadata": {},
   "source": [
    "The average number of sessions a client recieves is ~5.5.\n",
    "\n",
    "The highest number of massages received is 175 by the CEO of the company\n"
   ]
  },
  {
   "cell_type": "code",
   "execution_count": 89,
   "metadata": {},
   "outputs": [
    {
     "data": {
      "image/png": "[encoded data removed]",
      "text/plain": [
       "<Figure size 432x288 with 1 Axes>"
      ]
     },
     "metadata": {
      "needs_background": "light"
     },
     "output_type": "display_data"
    }
   ],
   "source": [
    "fig, ax = plt.subplots()\n",
    "ax.hist(session_count, bins=10, range=(1,10))\n",
    "plt.xlabel('# of clients')\n",
    "plt.ylabel('# of sessions')\n",
    "plt.title('Count of number of session');"
   ]
  },
  {
   "cell_type": "code",
   "execution_count": null,
   "metadata": {},
   "outputs": [],
   "source": [
    "client_df.groupby('clientID').nunique()"
   ]
  },
  {
   "cell_type": "markdown",
   "metadata": {},
   "source": [
    "## The average client get 5.5 sessions and sees 2.5 different therapists.\n",
    "## People tend to get 1.25 hour sessions which is almost split between the 1h and 1.5h offerings we have."
   ]
  },
  {
   "cell_type": "code",
   "execution_count": 90,
   "metadata": {},
   "outputs": [
    {
     "data": {
      "text/plain": [
       "TransactionDate     5.567647\n",
       "clientID            1.000000\n",
       "Therapist           2.577686\n",
       "Address_Zip         0.920891\n",
       "Invoice_Category    1.090646\n",
       "Service_Category    1.075064\n",
       "HrsWorked           1.242721\n",
       "Year                1.514458\n",
       "Month               2.887429\n",
       "dtype: float64"
      ]
     },
     "execution_count": 90,
     "metadata": {},
     "output_type": "execute_result"
    }
   ],
   "source": [
    "client_df.groupby('clientID').nunique().mean()"
   ]
  },
  {
   "cell_type": "markdown",
   "metadata": {},
   "source": [
    "# Mark Clients with Churned or Not Churned for further modeling"
   ]
  },
  {
   "cell_type": "code",
   "execution_count": 97,
   "metadata": {},
   "outputs": [
    {
     "data": {
      "text/plain": [
       "array([40156., 60005., 43420., ..., 83337., 83461., 28219.])"
      ]
     },
     "execution_count": 97,
     "metadata": {},
     "output_type": "execute_result"
    }
   ],
   "source": [
    "# last 2 months of unique client ids\n",
    "client_df['clientID'].unique()"
   ]
  },
  {
   "cell_type": "code",
   "execution_count": 106,
   "metadata": {},
   "outputs": [
    {
     "name": "stdout",
     "output_type": "stream",
     "text": [
      "<class 'pandas.core.frame.DataFrame'>\n",
      "Int64Index: 113021 entries, 0 to 120496\n",
      "Data columns (total 9 columns):\n",
      "TransactionDate     113021 non-null datetime64[ns]\n",
      "clientID            113021 non-null float64\n",
      "Therapist           113020 non-null object\n",
      "Address_Zip         110777 non-null object\n",
      "Invoice_Category    113021 non-null object\n",
      "Service_Category    113021 non-null object\n",
      "HrsWorked           113021 non-null float64\n",
      "Year                113021 non-null int64\n",
      "Month               113021 non-null int64\n",
      "dtypes: datetime64[ns](1), float64(2), int64(2), object(4)\n",
      "memory usage: 8.6+ MB\n"
     ]
    }
   ],
   "source": [
    "client_df.info()"
   ]
  },
  {
   "cell_type": "code",
   "execution_count": 146,
   "metadata": {},
   "outputs": [],
   "source": [
    "start = client_df['TransactionDate'].searchsorted(dt.datetime(2019, 6, 1))\n",
    "end = client_df['TransactionDate'].searchsorted(dt.datetime(2019, 8, 1))"
   ]
  },
  {
   "cell_type": "code",
   "execution_count": 147,
   "metadata": {},
   "outputs": [],
   "source": [
    "not_churn_df = client_df.iloc[start:end]"
   ]
  },
  {
   "cell_type": "code",
   "execution_count": 112,
   "metadata": {},
   "outputs": [
    {
     "name": "stderr",
     "output_type": "stream",
     "text": [
      "/anaconda3/lib/python3.7/site-packages/ipykernel_launcher.py:1: SettingWithCopyWarning: \n",
      "A value is trying to be set on a copy of a slice from a DataFrame.\n",
      "Try using .loc[row_indexer,col_indexer] = value instead\n",
      "\n",
      "See the caveats in the documentation: http://pandas.pydata.org/pandas-docs/stable/indexing.html#indexing-view-versus-copy\n",
      "  \"\"\"Entry point for launching an IPython kernel.\n"
     ]
    }
   ],
   "source": [
    "not_churn_df['churn'] = False"
   ]
  },
  {
   "cell_type": "code",
   "execution_count": 160,
   "metadata": {},
   "outputs": [],
   "source": [
    "client_ID_churn_false = pd.DataFrame(not_churn_df['clientID'].unique())"
   ]
  },
  {
   "cell_type": "code",
   "execution_count": 161,
   "metadata": {},
   "outputs": [],
   "source": [
    "client_ID_churn_false['churn'] = False"
   ]
  },
  {
   "cell_type": "code",
   "execution_count": 162,
   "metadata": {},
   "outputs": [
    {
     "data": {
      "text/plain": [
       "Index([0, 'churn'], dtype='object')"
      ]
     },
     "execution_count": 162,
     "metadata": {},
     "output_type": "execute_result"
    }
   ],
   "source": [
    "client_ID_churn_false.columns"
   ]
  },
  {
   "cell_type": "code",
   "execution_count": 163,
   "metadata": {},
   "outputs": [],
   "source": [
    "client_ID_churn_false.rename({0 : 'clientID'},axis=1, inplace=True)"
   ]
  },
  {
   "cell_type": "code",
   "execution_count": 165,
   "metadata": {},
   "outputs": [
    {
     "data": {
      "text/plain": [
       "(3309, 2)"
      ]
     },
     "execution_count": 165,
     "metadata": {},
     "output_type": "execute_result"
    }
   ],
   "source": [
    "client_ID_churn_false.shape"
   ]
  },
  {
   "cell_type": "code",
   "execution_count": 168,
   "metadata": {},
   "outputs": [],
   "source": [
    "churn_df = client_df.merge(client_ID_churn_false, how='left', on='clientID')"
   ]
  },
  {
   "cell_type": "code",
   "execution_count": 172,
   "metadata": {},
   "outputs": [],
   "source": [
    "churn_df['churn'].fillna(True, inplace=True)"
   ]
  },
  {
   "cell_type": "code",
   "execution_count": 173,
   "metadata": {},
   "outputs": [
    {
     "data": {
      "text/html": [
       "<div>\n",
       "<style scoped>\n",
       "    .dataframe tbody tr th:only-of-type {\n",
       "        vertical-align: middle;\n",
       "    }\n",
       "\n",
       "    .dataframe tbody tr th {\n",
       "        vertical-align: top;\n",
       "    }\n",
       "\n",
       "    .dataframe thead th {\n",
       "        text-align: right;\n",
       "    }\n",
       "</style>\n",
       "<table border=\"1\" class=\"dataframe\">\n",
       "  <thead>\n",
       "    <tr style=\"text-align: right;\">\n",
       "      <th></th>\n",
       "      <th>TransactionDate</th>\n",
       "      <th>clientID</th>\n",
       "      <th>Therapist</th>\n",
       "      <th>Address_Zip</th>\n",
       "      <th>Invoice_Category</th>\n",
       "      <th>Service_Category</th>\n",
       "      <th>HrsWorked</th>\n",
       "      <th>Year</th>\n",
       "      <th>Month</th>\n",
       "      <th>churn</th>\n",
       "    </tr>\n",
       "  </thead>\n",
       "  <tbody>\n",
       "    <tr>\n",
       "      <th>0</th>\n",
       "      <td>2016-08-02</td>\n",
       "      <td>40156.0</td>\n",
       "      <td>michael jacobus</td>\n",
       "      <td>98109</td>\n",
       "      <td>Clinic_Ins</td>\n",
       "      <td>Massage</td>\n",
       "      <td>1.0</td>\n",
       "      <td>2016</td>\n",
       "      <td>8</td>\n",
       "      <td>True</td>\n",
       "    </tr>\n",
       "    <tr>\n",
       "      <th>1</th>\n",
       "      <td>2016-08-02</td>\n",
       "      <td>60005.0</td>\n",
       "      <td>lauren anderson</td>\n",
       "      <td>98119</td>\n",
       "      <td>Clinic_CA</td>\n",
       "      <td>Massage</td>\n",
       "      <td>1.0</td>\n",
       "      <td>2016</td>\n",
       "      <td>8</td>\n",
       "      <td>False</td>\n",
       "    </tr>\n",
       "    <tr>\n",
       "      <th>2</th>\n",
       "      <td>2016-08-02</td>\n",
       "      <td>43420.0</td>\n",
       "      <td>stefanie smith</td>\n",
       "      <td>98144</td>\n",
       "      <td>Clinic_Ins</td>\n",
       "      <td>Massage</td>\n",
       "      <td>1.0</td>\n",
       "      <td>2016</td>\n",
       "      <td>8</td>\n",
       "      <td>False</td>\n",
       "    </tr>\n",
       "    <tr>\n",
       "      <th>3</th>\n",
       "      <td>2016-08-02</td>\n",
       "      <td>56100.0</td>\n",
       "      <td>elizabeth panelo</td>\n",
       "      <td>98203</td>\n",
       "      <td>Clinic_Ins</td>\n",
       "      <td>Massage</td>\n",
       "      <td>1.0</td>\n",
       "      <td>2016</td>\n",
       "      <td>8</td>\n",
       "      <td>False</td>\n",
       "    </tr>\n",
       "    <tr>\n",
       "      <th>4</th>\n",
       "      <td>2016-08-02</td>\n",
       "      <td>57367.0</td>\n",
       "      <td>daniel cook</td>\n",
       "      <td>98115</td>\n",
       "      <td>Clinic_Ins</td>\n",
       "      <td>Massage</td>\n",
       "      <td>1.0</td>\n",
       "      <td>2016</td>\n",
       "      <td>8</td>\n",
       "      <td>True</td>\n",
       "    </tr>\n",
       "  </tbody>\n",
       "</table>\n",
       "</div>"
      ],
      "text/plain": [
       "  TransactionDate  clientID         Therapist Address_Zip Invoice_Category  \\\n",
       "0      2016-08-02   40156.0   michael jacobus       98109       Clinic_Ins   \n",
       "1      2016-08-02   60005.0   lauren anderson       98119        Clinic_CA   \n",
       "2      2016-08-02   43420.0    stefanie smith       98144       Clinic_Ins   \n",
       "3      2016-08-02   56100.0  elizabeth panelo       98203       Clinic_Ins   \n",
       "4      2016-08-02   57367.0       daniel cook       98115       Clinic_Ins   \n",
       "\n",
       "  Service_Category  HrsWorked  Year  Month  churn  \n",
       "0          Massage        1.0  2016      8   True  \n",
       "1          Massage        1.0  2016      8  False  \n",
       "2          Massage        1.0  2016      8  False  \n",
       "3          Massage        1.0  2016      8  False  \n",
       "4          Massage        1.0  2016      8   True  "
      ]
     },
     "execution_count": 173,
     "metadata": {},
     "output_type": "execute_result"
    }
   ],
   "source": [
    "churn_df.head()"
   ]
  },
  {
   "cell_type": "code",
   "execution_count": 135,
   "metadata": {},
   "outputs": [],
   "source": [
    "churn_df = not_churn_df.merge(client_df, how='right', on='clientID')"
   ]
  },
  {
   "cell_type": "code",
   "execution_count": 136,
   "metadata": {},
   "outputs": [],
   "source": [
    "churn_df.drop(['TransactionDate_x', 'Therapist_x', 'Address_Zip_x',\n",
    "       'Invoice_Category_x', 'Service_Category_x', 'HrsWorked_x', 'Year_x',\n",
    "       'Month_x'], axis=1, inplace=True)"
   ]
  },
  {
   "cell_type": "code",
   "execution_count": 137,
   "metadata": {},
   "outputs": [
    {
     "data": {
      "text/plain": [
       "Index(['clientID', 'churn', 'TransactionDate_y', 'Therapist_y',\n",
       "       'Address_Zip_y', 'Invoice_Category_y', 'Service_Category_y',\n",
       "       'HrsWorked_y', 'Year_y', 'Month_y'],\n",
       "      dtype='object')"
      ]
     },
     "execution_count": 137,
     "metadata": {},
     "output_type": "execute_result"
    }
   ],
   "source": [
    "churn_df.columns"
   ]
  },
  {
   "cell_type": "code",
   "execution_count": 138,
   "metadata": {},
   "outputs": [],
   "source": [
    "churn_df.drop(['Invoice_Category_y', 'Year_y', 'Month_y'], axis=1, inplace=True)"
   ]
  },
  {
   "cell_type": "code",
   "execution_count": 142,
   "metadata": {},
   "outputs": [],
   "source": [
    "churn_df.drop_duplicates(subset=['clientID', \"TransactionDate_y\"], \n",
    "                     keep = False, inplace = True) "
   ]
  },
  {
   "cell_type": "code",
   "execution_count": 127,
   "metadata": {},
   "outputs": [],
   "source": []
  },
  {
   "cell_type": "code",
   "execution_count": 145,
   "metadata": {},
   "outputs": [
    {
     "data": {
      "text/html": [
       "<div>\n",
       "<style scoped>\n",
       "    .dataframe tbody tr th:only-of-type {\n",
       "        vertical-align: middle;\n",
       "    }\n",
       "\n",
       "    .dataframe tbody tr th {\n",
       "        vertical-align: top;\n",
       "    }\n",
       "\n",
       "    .dataframe thead th {\n",
       "        text-align: right;\n",
       "    }\n",
       "</style>\n",
       "<table border=\"1\" class=\"dataframe\">\n",
       "  <thead>\n",
       "    <tr style=\"text-align: right;\">\n",
       "      <th></th>\n",
       "      <th>clientID</th>\n",
       "      <th>churn</th>\n",
       "      <th>TransactionDate_y</th>\n",
       "      <th>Therapist_y</th>\n",
       "      <th>Address_Zip_y</th>\n",
       "      <th>Service_Category_y</th>\n",
       "      <th>HrsWorked_y</th>\n",
       "    </tr>\n",
       "  </thead>\n",
       "  <tbody>\n",
       "    <tr>\n",
       "      <th>1360</th>\n",
       "      <td>34893.0</td>\n",
       "      <td>False</td>\n",
       "      <td>2016-10-15</td>\n",
       "      <td>rilla al-haddar</td>\n",
       "      <td>98109</td>\n",
       "      <td>Massage</td>\n",
       "      <td>1.0</td>\n",
       "    </tr>\n",
       "    <tr>\n",
       "      <th>1361</th>\n",
       "      <td>34893.0</td>\n",
       "      <td>False</td>\n",
       "      <td>2016-10-22</td>\n",
       "      <td>rilla al-haddar</td>\n",
       "      <td>98109</td>\n",
       "      <td>Massage</td>\n",
       "      <td>1.0</td>\n",
       "    </tr>\n",
       "    <tr>\n",
       "      <th>1362</th>\n",
       "      <td>34893.0</td>\n",
       "      <td>False</td>\n",
       "      <td>2016-11-01</td>\n",
       "      <td>christian curtis</td>\n",
       "      <td>98109</td>\n",
       "      <td>Massage</td>\n",
       "      <td>1.0</td>\n",
       "    </tr>\n",
       "    <tr>\n",
       "      <th>1363</th>\n",
       "      <td>34893.0</td>\n",
       "      <td>False</td>\n",
       "      <td>2016-11-05</td>\n",
       "      <td>rilla al-haddar</td>\n",
       "      <td>98109</td>\n",
       "      <td>Massage</td>\n",
       "      <td>1.0</td>\n",
       "    </tr>\n",
       "    <tr>\n",
       "      <th>1364</th>\n",
       "      <td>34893.0</td>\n",
       "      <td>False</td>\n",
       "      <td>2016-11-15</td>\n",
       "      <td>christian curtis</td>\n",
       "      <td>98109</td>\n",
       "      <td>Acupuncture</td>\n",
       "      <td>1.5</td>\n",
       "    </tr>\n",
       "    <tr>\n",
       "      <th>1365</th>\n",
       "      <td>34893.0</td>\n",
       "      <td>False</td>\n",
       "      <td>2016-11-19</td>\n",
       "      <td>rilla al-haddar</td>\n",
       "      <td>98109</td>\n",
       "      <td>Massage</td>\n",
       "      <td>1.0</td>\n",
       "    </tr>\n",
       "    <tr>\n",
       "      <th>1368</th>\n",
       "      <td>34893.0</td>\n",
       "      <td>False</td>\n",
       "      <td>2016-12-17</td>\n",
       "      <td>rilla al-haddar</td>\n",
       "      <td>98109</td>\n",
       "      <td>Massage</td>\n",
       "      <td>1.0</td>\n",
       "    </tr>\n",
       "    <tr>\n",
       "      <th>1369</th>\n",
       "      <td>34893.0</td>\n",
       "      <td>False</td>\n",
       "      <td>2016-12-24</td>\n",
       "      <td>rilla al-haddar</td>\n",
       "      <td>98109</td>\n",
       "      <td>Massage</td>\n",
       "      <td>1.0</td>\n",
       "    </tr>\n",
       "    <tr>\n",
       "      <th>1370</th>\n",
       "      <td>34893.0</td>\n",
       "      <td>False</td>\n",
       "      <td>2016-12-31</td>\n",
       "      <td>rilla al-haddar</td>\n",
       "      <td>98109</td>\n",
       "      <td>Massage</td>\n",
       "      <td>1.0</td>\n",
       "    </tr>\n",
       "    <tr>\n",
       "      <th>1371</th>\n",
       "      <td>34893.0</td>\n",
       "      <td>False</td>\n",
       "      <td>2017-01-07</td>\n",
       "      <td>rilla al-haddar</td>\n",
       "      <td>98109</td>\n",
       "      <td>Massage</td>\n",
       "      <td>1.0</td>\n",
       "    </tr>\n",
       "    <tr>\n",
       "      <th>1372</th>\n",
       "      <td>34893.0</td>\n",
       "      <td>False</td>\n",
       "      <td>2017-01-10</td>\n",
       "      <td>christian curtis</td>\n",
       "      <td>98109</td>\n",
       "      <td>Acupuncture</td>\n",
       "      <td>1.0</td>\n",
       "    </tr>\n",
       "    <tr>\n",
       "      <th>1373</th>\n",
       "      <td>34893.0</td>\n",
       "      <td>False</td>\n",
       "      <td>2017-02-09</td>\n",
       "      <td>rilla al-haddar</td>\n",
       "      <td>98109</td>\n",
       "      <td>Massage</td>\n",
       "      <td>1.0</td>\n",
       "    </tr>\n",
       "    <tr>\n",
       "      <th>1374</th>\n",
       "      <td>34893.0</td>\n",
       "      <td>False</td>\n",
       "      <td>2017-04-06</td>\n",
       "      <td>christian curtis</td>\n",
       "      <td>98109</td>\n",
       "      <td>Massage</td>\n",
       "      <td>1.0</td>\n",
       "    </tr>\n",
       "    <tr>\n",
       "      <th>1375</th>\n",
       "      <td>34893.0</td>\n",
       "      <td>False</td>\n",
       "      <td>2017-04-11</td>\n",
       "      <td>rilla al-haddar</td>\n",
       "      <td>98109</td>\n",
       "      <td>Massage</td>\n",
       "      <td>1.0</td>\n",
       "    </tr>\n",
       "    <tr>\n",
       "      <th>1376</th>\n",
       "      <td>34893.0</td>\n",
       "      <td>False</td>\n",
       "      <td>2017-04-22</td>\n",
       "      <td>rilla al-haddar</td>\n",
       "      <td>98109</td>\n",
       "      <td>Massage</td>\n",
       "      <td>1.0</td>\n",
       "    </tr>\n",
       "    <tr>\n",
       "      <th>1377</th>\n",
       "      <td>34893.0</td>\n",
       "      <td>False</td>\n",
       "      <td>2017-04-25</td>\n",
       "      <td>christian curtis</td>\n",
       "      <td>98109</td>\n",
       "      <td>Acupuncture</td>\n",
       "      <td>1.0</td>\n",
       "    </tr>\n",
       "    <tr>\n",
       "      <th>1378</th>\n",
       "      <td>34893.0</td>\n",
       "      <td>False</td>\n",
       "      <td>2017-05-10</td>\n",
       "      <td>rilla al-haddar</td>\n",
       "      <td>98109</td>\n",
       "      <td>Massage</td>\n",
       "      <td>1.0</td>\n",
       "    </tr>\n",
       "    <tr>\n",
       "      <th>1379</th>\n",
       "      <td>34893.0</td>\n",
       "      <td>False</td>\n",
       "      <td>2017-05-25</td>\n",
       "      <td>christian curtis</td>\n",
       "      <td>98109</td>\n",
       "      <td>Acupuncture</td>\n",
       "      <td>1.0</td>\n",
       "    </tr>\n",
       "    <tr>\n",
       "      <th>1380</th>\n",
       "      <td>34893.0</td>\n",
       "      <td>False</td>\n",
       "      <td>2017-06-08</td>\n",
       "      <td>rilla al-haddar</td>\n",
       "      <td>98109</td>\n",
       "      <td>Massage</td>\n",
       "      <td>1.0</td>\n",
       "    </tr>\n",
       "    <tr>\n",
       "      <th>1381</th>\n",
       "      <td>34893.0</td>\n",
       "      <td>False</td>\n",
       "      <td>2017-09-09</td>\n",
       "      <td>dennis corum</td>\n",
       "      <td>98109</td>\n",
       "      <td>Massage</td>\n",
       "      <td>1.0</td>\n",
       "    </tr>\n",
       "    <tr>\n",
       "      <th>1382</th>\n",
       "      <td>34893.0</td>\n",
       "      <td>False</td>\n",
       "      <td>2019-02-20</td>\n",
       "      <td>philip cohen</td>\n",
       "      <td>98109</td>\n",
       "      <td>Massage</td>\n",
       "      <td>1.0</td>\n",
       "    </tr>\n",
       "    <tr>\n",
       "      <th>1383</th>\n",
       "      <td>34893.0</td>\n",
       "      <td>False</td>\n",
       "      <td>2019-03-13</td>\n",
       "      <td>philip cohen</td>\n",
       "      <td>98109</td>\n",
       "      <td>Massage</td>\n",
       "      <td>1.0</td>\n",
       "    </tr>\n",
       "    <tr>\n",
       "      <th>1384</th>\n",
       "      <td>34893.0</td>\n",
       "      <td>False</td>\n",
       "      <td>2019-05-11</td>\n",
       "      <td>georgia cuddeback</td>\n",
       "      <td>98109</td>\n",
       "      <td>Massage</td>\n",
       "      <td>1.0</td>\n",
       "    </tr>\n",
       "    <tr>\n",
       "      <th>1385</th>\n",
       "      <td>34893.0</td>\n",
       "      <td>False</td>\n",
       "      <td>2019-06-01</td>\n",
       "      <td>georgia cuddeback</td>\n",
       "      <td>98109</td>\n",
       "      <td>Massage</td>\n",
       "      <td>1.0</td>\n",
       "    </tr>\n",
       "    <tr>\n",
       "      <th>1386</th>\n",
       "      <td>73891.0</td>\n",
       "      <td>False</td>\n",
       "      <td>2018-09-17</td>\n",
       "      <td>renee hudon</td>\n",
       "      <td>98101</td>\n",
       "      <td>Massage</td>\n",
       "      <td>1.0</td>\n",
       "    </tr>\n",
       "    <tr>\n",
       "      <th>1387</th>\n",
       "      <td>73891.0</td>\n",
       "      <td>False</td>\n",
       "      <td>2019-02-15</td>\n",
       "      <td>bill ames</td>\n",
       "      <td>98101</td>\n",
       "      <td>Massage</td>\n",
       "      <td>1.5</td>\n",
       "    </tr>\n",
       "    <tr>\n",
       "      <th>1388</th>\n",
       "      <td>73891.0</td>\n",
       "      <td>False</td>\n",
       "      <td>2019-03-01</td>\n",
       "      <td>corey bedard</td>\n",
       "      <td>98101</td>\n",
       "      <td>Massage</td>\n",
       "      <td>1.5</td>\n",
       "    </tr>\n",
       "    <tr>\n",
       "      <th>1389</th>\n",
       "      <td>73891.0</td>\n",
       "      <td>False</td>\n",
       "      <td>2019-03-22</td>\n",
       "      <td>bill ames</td>\n",
       "      <td>98101</td>\n",
       "      <td>Massage</td>\n",
       "      <td>1.0</td>\n",
       "    </tr>\n",
       "    <tr>\n",
       "      <th>1390</th>\n",
       "      <td>73891.0</td>\n",
       "      <td>False</td>\n",
       "      <td>2019-05-11</td>\n",
       "      <td>ty green</td>\n",
       "      <td>98101</td>\n",
       "      <td>Massage</td>\n",
       "      <td>1.0</td>\n",
       "    </tr>\n",
       "    <tr>\n",
       "      <th>1391</th>\n",
       "      <td>73891.0</td>\n",
       "      <td>False</td>\n",
       "      <td>2019-06-01</td>\n",
       "      <td>alisa popova</td>\n",
       "      <td>98101</td>\n",
       "      <td>Massage</td>\n",
       "      <td>1.0</td>\n",
       "    </tr>\n",
       "    <tr>\n",
       "      <th>...</th>\n",
       "      <td>...</td>\n",
       "      <td>...</td>\n",
       "      <td>...</td>\n",
       "      <td>...</td>\n",
       "      <td>...</td>\n",
       "      <td>...</td>\n",
       "      <td>...</td>\n",
       "    </tr>\n",
       "    <tr>\n",
       "      <th>208032</th>\n",
       "      <td>81797.0</td>\n",
       "      <td>NaN</td>\n",
       "      <td>2019-08-02</td>\n",
       "      <td>brenna lowery</td>\n",
       "      <td>NaN</td>\n",
       "      <td>Massage</td>\n",
       "      <td>1.5</td>\n",
       "    </tr>\n",
       "    <tr>\n",
       "      <th>208033</th>\n",
       "      <td>83397.0</td>\n",
       "      <td>NaN</td>\n",
       "      <td>2019-08-02</td>\n",
       "      <td>timothy miller</td>\n",
       "      <td>NaN</td>\n",
       "      <td>Acupuncture</td>\n",
       "      <td>1.0</td>\n",
       "    </tr>\n",
       "    <tr>\n",
       "      <th>208034</th>\n",
       "      <td>83421.0</td>\n",
       "      <td>NaN</td>\n",
       "      <td>2019-08-02</td>\n",
       "      <td>brenna lowery</td>\n",
       "      <td>NaN</td>\n",
       "      <td>Massage</td>\n",
       "      <td>1.5</td>\n",
       "    </tr>\n",
       "    <tr>\n",
       "      <th>208039</th>\n",
       "      <td>83442.0</td>\n",
       "      <td>NaN</td>\n",
       "      <td>2019-08-02</td>\n",
       "      <td>jude ulmschneider</td>\n",
       "      <td>98105</td>\n",
       "      <td>Massage</td>\n",
       "      <td>1.0</td>\n",
       "    </tr>\n",
       "    <tr>\n",
       "      <th>208040</th>\n",
       "      <td>83432.0</td>\n",
       "      <td>NaN</td>\n",
       "      <td>2019-08-02</td>\n",
       "      <td>alex meyer</td>\n",
       "      <td>98109</td>\n",
       "      <td>Massage</td>\n",
       "      <td>1.0</td>\n",
       "    </tr>\n",
       "    <tr>\n",
       "      <th>208041</th>\n",
       "      <td>21350.0</td>\n",
       "      <td>NaN</td>\n",
       "      <td>2019-08-02</td>\n",
       "      <td>juli koplan</td>\n",
       "      <td>98115</td>\n",
       "      <td>Massage</td>\n",
       "      <td>1.0</td>\n",
       "    </tr>\n",
       "    <tr>\n",
       "      <th>208042</th>\n",
       "      <td>83429.0</td>\n",
       "      <td>NaN</td>\n",
       "      <td>2019-08-02</td>\n",
       "      <td>shae dupuy</td>\n",
       "      <td>98115</td>\n",
       "      <td>Massage</td>\n",
       "      <td>0.5</td>\n",
       "    </tr>\n",
       "    <tr>\n",
       "      <th>208043</th>\n",
       "      <td>83441.0</td>\n",
       "      <td>NaN</td>\n",
       "      <td>2019-08-02</td>\n",
       "      <td>ana roar</td>\n",
       "      <td>NaN</td>\n",
       "      <td>Massage</td>\n",
       "      <td>1.0</td>\n",
       "    </tr>\n",
       "    <tr>\n",
       "      <th>208044</th>\n",
       "      <td>82644.0</td>\n",
       "      <td>NaN</td>\n",
       "      <td>2019-08-02</td>\n",
       "      <td>rachel streitenberger</td>\n",
       "      <td>98115</td>\n",
       "      <td>Massage</td>\n",
       "      <td>1.0</td>\n",
       "    </tr>\n",
       "    <tr>\n",
       "      <th>208045</th>\n",
       "      <td>79656.0</td>\n",
       "      <td>NaN</td>\n",
       "      <td>2019-08-03</td>\n",
       "      <td>marianne brennan</td>\n",
       "      <td>98034</td>\n",
       "      <td>Massage</td>\n",
       "      <td>1.0</td>\n",
       "    </tr>\n",
       "    <tr>\n",
       "      <th>208046</th>\n",
       "      <td>83433.0</td>\n",
       "      <td>NaN</td>\n",
       "      <td>2019-08-03</td>\n",
       "      <td>roger leach</td>\n",
       "      <td>78722</td>\n",
       "      <td>Massage</td>\n",
       "      <td>1.0</td>\n",
       "    </tr>\n",
       "    <tr>\n",
       "      <th>208047</th>\n",
       "      <td>83443.0</td>\n",
       "      <td>NaN</td>\n",
       "      <td>2019-08-03</td>\n",
       "      <td>ashlen hodge</td>\n",
       "      <td>98125</td>\n",
       "      <td>Massage</td>\n",
       "      <td>1.0</td>\n",
       "    </tr>\n",
       "    <tr>\n",
       "      <th>208048</th>\n",
       "      <td>83406.0</td>\n",
       "      <td>NaN</td>\n",
       "      <td>2019-08-03</td>\n",
       "      <td>jason vernon</td>\n",
       "      <td>98102</td>\n",
       "      <td>Massage</td>\n",
       "      <td>1.0</td>\n",
       "    </tr>\n",
       "    <tr>\n",
       "      <th>208049</th>\n",
       "      <td>83430.0</td>\n",
       "      <td>NaN</td>\n",
       "      <td>2019-08-03</td>\n",
       "      <td>ty green</td>\n",
       "      <td>98199</td>\n",
       "      <td>Massage</td>\n",
       "      <td>1.0</td>\n",
       "    </tr>\n",
       "    <tr>\n",
       "      <th>208050</th>\n",
       "      <td>83449.0</td>\n",
       "      <td>NaN</td>\n",
       "      <td>2019-08-03</td>\n",
       "      <td>aera barnette</td>\n",
       "      <td>98109</td>\n",
       "      <td>Massage</td>\n",
       "      <td>1.0</td>\n",
       "    </tr>\n",
       "    <tr>\n",
       "      <th>208051</th>\n",
       "      <td>83326.0</td>\n",
       "      <td>NaN</td>\n",
       "      <td>2019-08-03</td>\n",
       "      <td>corey bedard</td>\n",
       "      <td>98121</td>\n",
       "      <td>Massage</td>\n",
       "      <td>1.0</td>\n",
       "    </tr>\n",
       "    <tr>\n",
       "      <th>208052</th>\n",
       "      <td>83325.0</td>\n",
       "      <td>NaN</td>\n",
       "      <td>2019-08-03</td>\n",
       "      <td>aera barnette</td>\n",
       "      <td>98121</td>\n",
       "      <td>Massage</td>\n",
       "      <td>1.0</td>\n",
       "    </tr>\n",
       "    <tr>\n",
       "      <th>208053</th>\n",
       "      <td>42320.0</td>\n",
       "      <td>NaN</td>\n",
       "      <td>2019-08-03</td>\n",
       "      <td>amy senesac</td>\n",
       "      <td>98115</td>\n",
       "      <td>Massage</td>\n",
       "      <td>1.0</td>\n",
       "    </tr>\n",
       "    <tr>\n",
       "      <th>208054</th>\n",
       "      <td>83454.0</td>\n",
       "      <td>NaN</td>\n",
       "      <td>2019-08-03</td>\n",
       "      <td>tasha clinton</td>\n",
       "      <td>NaN</td>\n",
       "      <td>Massage</td>\n",
       "      <td>1.5</td>\n",
       "    </tr>\n",
       "    <tr>\n",
       "      <th>208055</th>\n",
       "      <td>83451.0</td>\n",
       "      <td>NaN</td>\n",
       "      <td>2019-08-03</td>\n",
       "      <td>cameron cozart</td>\n",
       "      <td>98102</td>\n",
       "      <td>Massage</td>\n",
       "      <td>1.0</td>\n",
       "    </tr>\n",
       "    <tr>\n",
       "      <th>208056</th>\n",
       "      <td>83457.0</td>\n",
       "      <td>NaN</td>\n",
       "      <td>2019-08-03</td>\n",
       "      <td>dene hager</td>\n",
       "      <td>98008</td>\n",
       "      <td>Massage</td>\n",
       "      <td>1.0</td>\n",
       "    </tr>\n",
       "    <tr>\n",
       "      <th>208057</th>\n",
       "      <td>83446.0</td>\n",
       "      <td>NaN</td>\n",
       "      <td>2019-08-03</td>\n",
       "      <td>rachel streitenberger</td>\n",
       "      <td>98125</td>\n",
       "      <td>Massage</td>\n",
       "      <td>1.0</td>\n",
       "    </tr>\n",
       "    <tr>\n",
       "      <th>208058</th>\n",
       "      <td>83458.0</td>\n",
       "      <td>NaN</td>\n",
       "      <td>2019-08-03</td>\n",
       "      <td>ashlen hodge</td>\n",
       "      <td>95926</td>\n",
       "      <td>Massage</td>\n",
       "      <td>1.0</td>\n",
       "    </tr>\n",
       "    <tr>\n",
       "      <th>208059</th>\n",
       "      <td>83407.0</td>\n",
       "      <td>NaN</td>\n",
       "      <td>2019-08-03</td>\n",
       "      <td>shae dupuy</td>\n",
       "      <td>98103</td>\n",
       "      <td>Massage</td>\n",
       "      <td>1.5</td>\n",
       "    </tr>\n",
       "    <tr>\n",
       "      <th>208060</th>\n",
       "      <td>83299.0</td>\n",
       "      <td>NaN</td>\n",
       "      <td>2019-08-03</td>\n",
       "      <td>elmar aliev</td>\n",
       "      <td>98052</td>\n",
       "      <td>Massage</td>\n",
       "      <td>1.0</td>\n",
       "    </tr>\n",
       "    <tr>\n",
       "      <th>208061</th>\n",
       "      <td>83394.0</td>\n",
       "      <td>NaN</td>\n",
       "      <td>2019-08-04</td>\n",
       "      <td>cameron cozart</td>\n",
       "      <td>98101</td>\n",
       "      <td>Massage</td>\n",
       "      <td>1.5</td>\n",
       "    </tr>\n",
       "    <tr>\n",
       "      <th>208062</th>\n",
       "      <td>18581.0</td>\n",
       "      <td>NaN</td>\n",
       "      <td>2019-08-04</td>\n",
       "      <td>edward kim</td>\n",
       "      <td>98115</td>\n",
       "      <td>Massage</td>\n",
       "      <td>1.0</td>\n",
       "    </tr>\n",
       "    <tr>\n",
       "      <th>208063</th>\n",
       "      <td>83337.0</td>\n",
       "      <td>NaN</td>\n",
       "      <td>2019-08-04</td>\n",
       "      <td>cameron cozart</td>\n",
       "      <td>NaN</td>\n",
       "      <td>Massage</td>\n",
       "      <td>1.0</td>\n",
       "    </tr>\n",
       "    <tr>\n",
       "      <th>208064</th>\n",
       "      <td>83461.0</td>\n",
       "      <td>NaN</td>\n",
       "      <td>2019-08-04</td>\n",
       "      <td>ty green</td>\n",
       "      <td>NaN</td>\n",
       "      <td>Massage</td>\n",
       "      <td>1.0</td>\n",
       "    </tr>\n",
       "    <tr>\n",
       "      <th>208065</th>\n",
       "      <td>28219.0</td>\n",
       "      <td>NaN</td>\n",
       "      <td>2019-08-04</td>\n",
       "      <td>corey bedard</td>\n",
       "      <td>53711</td>\n",
       "      <td>Massage</td>\n",
       "      <td>1.0</td>\n",
       "    </tr>\n",
       "  </tbody>\n",
       "</table>\n",
       "<p>78421 rows × 7 columns</p>\n",
       "</div>"
      ],
      "text/plain": [
       "        clientID  churn TransactionDate_y            Therapist_y  \\\n",
       "1360     34893.0  False        2016-10-15        rilla al-haddar   \n",
       "1361     34893.0  False        2016-10-22        rilla al-haddar   \n",
       "1362     34893.0  False        2016-11-01       christian curtis   \n",
       "1363     34893.0  False        2016-11-05        rilla al-haddar   \n",
       "1364     34893.0  False        2016-11-15       christian curtis   \n",
       "1365     34893.0  False        2016-11-19        rilla al-haddar   \n",
       "1368     34893.0  False        2016-12-17        rilla al-haddar   \n",
       "1369     34893.0  False        2016-12-24        rilla al-haddar   \n",
       "1370     34893.0  False        2016-12-31        rilla al-haddar   \n",
       "1371     34893.0  False        2017-01-07        rilla al-haddar   \n",
       "1372     34893.0  False        2017-01-10       christian curtis   \n",
       "1373     34893.0  False        2017-02-09        rilla al-haddar   \n",
       "1374     34893.0  False        2017-04-06       christian curtis   \n",
       "1375     34893.0  False        2017-04-11        rilla al-haddar   \n",
       "1376     34893.0  False        2017-04-22        rilla al-haddar   \n",
       "1377     34893.0  False        2017-04-25       christian curtis   \n",
       "1378     34893.0  False        2017-05-10        rilla al-haddar   \n",
       "1379     34893.0  False        2017-05-25       christian curtis   \n",
       "1380     34893.0  False        2017-06-08        rilla al-haddar   \n",
       "1381     34893.0  False        2017-09-09           dennis corum   \n",
       "1382     34893.0  False        2019-02-20           philip cohen   \n",
       "1383     34893.0  False        2019-03-13           philip cohen   \n",
       "1384     34893.0  False        2019-05-11      georgia cuddeback   \n",
       "1385     34893.0  False        2019-06-01      georgia cuddeback   \n",
       "1386     73891.0  False        2018-09-17            renee hudon   \n",
       "1387     73891.0  False        2019-02-15              bill ames   \n",
       "1388     73891.0  False        2019-03-01           corey bedard   \n",
       "1389     73891.0  False        2019-03-22              bill ames   \n",
       "1390     73891.0  False        2019-05-11               ty green   \n",
       "1391     73891.0  False        2019-06-01           alisa popova   \n",
       "...          ...    ...               ...                    ...   \n",
       "208032   81797.0    NaN        2019-08-02          brenna lowery   \n",
       "208033   83397.0    NaN        2019-08-02         timothy miller   \n",
       "208034   83421.0    NaN        2019-08-02          brenna lowery   \n",
       "208039   83442.0    NaN        2019-08-02      jude ulmschneider   \n",
       "208040   83432.0    NaN        2019-08-02             alex meyer   \n",
       "208041   21350.0    NaN        2019-08-02            juli koplan   \n",
       "208042   83429.0    NaN        2019-08-02             shae dupuy   \n",
       "208043   83441.0    NaN        2019-08-02               ana roar   \n",
       "208044   82644.0    NaN        2019-08-02  rachel streitenberger   \n",
       "208045   79656.0    NaN        2019-08-03       marianne brennan   \n",
       "208046   83433.0    NaN        2019-08-03            roger leach   \n",
       "208047   83443.0    NaN        2019-08-03           ashlen hodge   \n",
       "208048   83406.0    NaN        2019-08-03           jason vernon   \n",
       "208049   83430.0    NaN        2019-08-03               ty green   \n",
       "208050   83449.0    NaN        2019-08-03          aera barnette   \n",
       "208051   83326.0    NaN        2019-08-03           corey bedard   \n",
       "208052   83325.0    NaN        2019-08-03          aera barnette   \n",
       "208053   42320.0    NaN        2019-08-03            amy senesac   \n",
       "208054   83454.0    NaN        2019-08-03          tasha clinton   \n",
       "208055   83451.0    NaN        2019-08-03         cameron cozart   \n",
       "208056   83457.0    NaN        2019-08-03             dene hager   \n",
       "208057   83446.0    NaN        2019-08-03  rachel streitenberger   \n",
       "208058   83458.0    NaN        2019-08-03           ashlen hodge   \n",
       "208059   83407.0    NaN        2019-08-03             shae dupuy   \n",
       "208060   83299.0    NaN        2019-08-03            elmar aliev   \n",
       "208061   83394.0    NaN        2019-08-04         cameron cozart   \n",
       "208062   18581.0    NaN        2019-08-04             edward kim   \n",
       "208063   83337.0    NaN        2019-08-04         cameron cozart   \n",
       "208064   83461.0    NaN        2019-08-04               ty green   \n",
       "208065   28219.0    NaN        2019-08-04           corey bedard   \n",
       "\n",
       "       Address_Zip_y Service_Category_y  HrsWorked_y  \n",
       "1360           98109            Massage          1.0  \n",
       "1361           98109            Massage          1.0  \n",
       "1362           98109            Massage          1.0  \n",
       "1363           98109            Massage          1.0  \n",
       "1364           98109        Acupuncture          1.5  \n",
       "1365           98109            Massage          1.0  \n",
       "1368           98109            Massage          1.0  \n",
       "1369           98109            Massage          1.0  \n",
       "1370           98109            Massage          1.0  \n",
       "1371           98109            Massage          1.0  \n",
       "1372           98109        Acupuncture          1.0  \n",
       "1373           98109            Massage          1.0  \n",
       "1374           98109            Massage          1.0  \n",
       "1375           98109            Massage          1.0  \n",
       "1376           98109            Massage          1.0  \n",
       "1377           98109        Acupuncture          1.0  \n",
       "1378           98109            Massage          1.0  \n",
       "1379           98109        Acupuncture          1.0  \n",
       "1380           98109            Massage          1.0  \n",
       "1381           98109            Massage          1.0  \n",
       "1382           98109            Massage          1.0  \n",
       "1383           98109            Massage          1.0  \n",
       "1384           98109            Massage          1.0  \n",
       "1385           98109            Massage          1.0  \n",
       "1386           98101            Massage          1.0  \n",
       "1387           98101            Massage          1.5  \n",
       "1388           98101            Massage          1.5  \n",
       "1389           98101            Massage          1.0  \n",
       "1390           98101            Massage          1.0  \n",
       "1391           98101            Massage          1.0  \n",
       "...              ...                ...          ...  \n",
       "208032           NaN            Massage          1.5  \n",
       "208033           NaN        Acupuncture          1.0  \n",
       "208034           NaN            Massage          1.5  \n",
       "208039         98105            Massage          1.0  \n",
       "208040         98109            Massage          1.0  \n",
       "208041         98115            Massage          1.0  \n",
       "208042         98115            Massage          0.5  \n",
       "208043           NaN            Massage          1.0  \n",
       "208044         98115            Massage          1.0  \n",
       "208045         98034            Massage          1.0  \n",
       "208046         78722            Massage          1.0  \n",
       "208047         98125            Massage          1.0  \n",
       "208048         98102            Massage          1.0  \n",
       "208049         98199            Massage          1.0  \n",
       "208050         98109            Massage          1.0  \n",
       "208051         98121            Massage          1.0  \n",
       "208052         98121            Massage          1.0  \n",
       "208053         98115            Massage          1.0  \n",
       "208054           NaN            Massage          1.5  \n",
       "208055         98102            Massage          1.0  \n",
       "208056         98008            Massage          1.0  \n",
       "208057         98125            Massage          1.0  \n",
       "208058         95926            Massage          1.0  \n",
       "208059         98103            Massage          1.5  \n",
       "208060         98052            Massage          1.0  \n",
       "208061         98101            Massage          1.5  \n",
       "208062         98115            Massage          1.0  \n",
       "208063           NaN            Massage          1.0  \n",
       "208064           NaN            Massage          1.0  \n",
       "208065         53711            Massage          1.0  \n",
       "\n",
       "[78421 rows x 7 columns]"
      ]
     },
     "execution_count": 145,
     "metadata": {},
     "output_type": "execute_result"
    }
   ],
   "source": [
    "churn_df"
   ]
  },
  {
   "cell_type": "code",
   "execution_count": null,
   "metadata": {},
   "outputs": [],
   "source": []
  }
 ],
 "metadata": {
  "kernelspec": {
   "display_name": "Python 3",
   "language": "python",
   "name": "python3"
  },
  "language_info": {
   "codemirror_mode": {
    "name": "ipython",
    "version": 3
   },
   "file_extension": ".py",
   "mimetype": "text/x-python",
   "name": "python",
   "nbconvert_exporter": "python",
   "pygments_lexer": "ipython3",
   "version": "3.7.3"
  }
 },
 "nbformat": 4,
 "nbformat_minor": 2
}

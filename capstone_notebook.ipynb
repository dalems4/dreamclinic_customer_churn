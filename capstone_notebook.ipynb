{
 "cells": [
  {
   "cell_type": "markdown",
   "metadata": {},
   "source": [
    "# Dreamclinic Client Churn"
   ]
  },
  {
   "cell_type": "code",
   "execution_count": 174,
   "metadata": {},
   "outputs": [],
   "source": [
    "import pandas as pd\n",
    "import numpy as np\n",
    "import matplotlib.pyplot as plt\n",
    "import seaborn as sns\n",
    "import sqlalchemy\n",
    "import datetime as dt\n",
    "\n",
    "from sklearn.linear_model import LogisticRegression"
   ]
  },
  {
   "cell_type": "code",
   "execution_count": 191,
   "metadata": {},
   "outputs": [],
   "source": [
    "pep8 = \"0987654321\" * 8"
   ]
  },
  {
   "cell_type": "code",
   "execution_count": 192,
   "metadata": {},
   "outputs": [
    {
     "data": {
      "text/plain": [
       "'09876543210987654321098765432109876543210987654321098765432109876543210987654321'"
      ]
     },
     "execution_count": 192,
     "metadata": {},
     "output_type": "execute_result"
    }
   ],
   "source": [
    "pep8"
   ]
  },
  {
   "cell_type": "code",
   "execution_count": 193,
   "metadata": {},
   "outputs": [],
   "source": [
    "client_df = pd.read_excel(\"~/dales_work/clinic_services_8-1-2016_to_8-3-2019.xlsx\")\n"
   ]
  },
  {
   "cell_type": "code",
   "execution_count": 194,
   "metadata": {},
   "outputs": [],
   "source": [
    "client_df.drop('Name_Full', axis=1, inplace=True)"
   ]
  },
  {
   "cell_type": "code",
   "execution_count": 197,
   "metadata": {},
   "outputs": [
    {
     "data": {
      "text/html": [
       "<div>\n",
       "<style scoped>\n",
       "    .dataframe tbody tr th:only-of-type {\n",
       "        vertical-align: middle;\n",
       "    }\n",
       "\n",
       "    .dataframe tbody tr th {\n",
       "        vertical-align: top;\n",
       "    }\n",
       "\n",
       "    .dataframe thead th {\n",
       "        text-align: right;\n",
       "    }\n",
       "</style>\n",
       "<table border=\"1\" class=\"dataframe\">\n",
       "  <thead>\n",
       "    <tr style=\"text-align: right;\">\n",
       "      <th></th>\n",
       "      <th>TransactionDate</th>\n",
       "      <th>clientID</th>\n",
       "      <th>Therapist</th>\n",
       "      <th>Address_City</th>\n",
       "      <th>Address_State</th>\n",
       "      <th>Address_Zip</th>\n",
       "      <th>Invoice_Category</th>\n",
       "      <th>Service_Category</th>\n",
       "      <th>HrsWorked</th>\n",
       "    </tr>\n",
       "  </thead>\n",
       "  <tbody>\n",
       "    <tr>\n",
       "      <th>0</th>\n",
       "      <td>2016-08-02</td>\n",
       "      <td>40156.0</td>\n",
       "      <td>Michael Jacobus</td>\n",
       "      <td>Seattle</td>\n",
       "      <td>Wa</td>\n",
       "      <td>98109</td>\n",
       "      <td>Clinic_Ins</td>\n",
       "      <td>NaN</td>\n",
       "      <td>1.0</td>\n",
       "    </tr>\n",
       "    <tr>\n",
       "      <th>1</th>\n",
       "      <td>2016-08-02</td>\n",
       "      <td>60005.0</td>\n",
       "      <td>Lauren Anderson</td>\n",
       "      <td>seattle</td>\n",
       "      <td>wa</td>\n",
       "      <td>98119</td>\n",
       "      <td>Clinic_CA</td>\n",
       "      <td>Massage</td>\n",
       "      <td>1.0</td>\n",
       "    </tr>\n",
       "    <tr>\n",
       "      <th>2</th>\n",
       "      <td>2016-08-02</td>\n",
       "      <td>43420.0</td>\n",
       "      <td>Stefanie Smith</td>\n",
       "      <td>Seattle</td>\n",
       "      <td>WA</td>\n",
       "      <td>98144</td>\n",
       "      <td>Clinic_Ins</td>\n",
       "      <td>NaN</td>\n",
       "      <td>1.0</td>\n",
       "    </tr>\n",
       "    <tr>\n",
       "      <th>3</th>\n",
       "      <td>2016-08-02</td>\n",
       "      <td>56100.0</td>\n",
       "      <td>Elizabeth Panelo</td>\n",
       "      <td>Seattle</td>\n",
       "      <td>Wa</td>\n",
       "      <td>98203</td>\n",
       "      <td>Clinic_Ins</td>\n",
       "      <td>NaN</td>\n",
       "      <td>1.0</td>\n",
       "    </tr>\n",
       "    <tr>\n",
       "      <th>4</th>\n",
       "      <td>2016-08-02</td>\n",
       "      <td>57367.0</td>\n",
       "      <td>Daniel Cook</td>\n",
       "      <td>Seattle</td>\n",
       "      <td>WA</td>\n",
       "      <td>98115</td>\n",
       "      <td>Clinic_Ins</td>\n",
       "      <td>NaN</td>\n",
       "      <td>1.0</td>\n",
       "    </tr>\n",
       "  </tbody>\n",
       "</table>\n",
       "</div>"
      ],
      "text/plain": [
       "  TransactionDate  clientID         Therapist Address_City Address_State  \\\n",
       "0      2016-08-02   40156.0   Michael Jacobus      Seattle            Wa   \n",
       "1      2016-08-02   60005.0   Lauren Anderson      seattle            wa   \n",
       "2      2016-08-02   43420.0    Stefanie Smith      Seattle            WA   \n",
       "3      2016-08-02   56100.0  Elizabeth Panelo      Seattle            Wa   \n",
       "4      2016-08-02   57367.0       Daniel Cook      Seattle            WA   \n",
       "\n",
       "  Address_Zip Invoice_Category Service_Category  HrsWorked  \n",
       "0       98109       Clinic_Ins              NaN        1.0  \n",
       "1       98119        Clinic_CA          Massage        1.0  \n",
       "2       98144       Clinic_Ins              NaN        1.0  \n",
       "3       98203       Clinic_Ins              NaN        1.0  \n",
       "4       98115       Clinic_Ins              NaN        1.0  "
      ]
     },
     "execution_count": 197,
     "metadata": {},
     "output_type": "execute_result"
    }
   ],
   "source": [
    "client_df.head()"
   ]
  },
  {
   "cell_type": "code",
   "execution_count": 198,
   "metadata": {},
   "outputs": [],
   "source": [
    "# remove rows where HrsWorked = 0 because they are just used by the front desk \n",
    "# staff\n",
    "client_df  = client_df[client_df['HrsWorked'] != 0]\n",
    "\n",
    "# fill NaN values in 'Service_Category with 'Massage'\n",
    "client_df['Service_Category'].fillna(value='Massage', inplace=True)\n",
    "\n",
    "# remove white space from Therapist names\n",
    "client_df['Therapist'] = client_df['Therapist'].str.strip()\n",
    "\n",
    "# make all therapist names lowercase to avoid typos in data entry\n",
    "client_df['Therapist'] = client_df['Therapist'].str.lower()\n",
    "\n",
    "# find and replace nicknames with domain knowledge\n",
    "client_df = client_df.replace('abby thomson', 'abigail thomson')\n",
    "\n",
    "#Drop Address_City and Addres_State Columns from Dataframe\n",
    "client_df.drop(['Address_City', 'Address_State'], axis=1, inplace=True)"
   ]
  },
  {
   "cell_type": "code",
   "execution_count": 199,
   "metadata": {},
   "outputs": [],
   "source": [
    "# Drop rows without a clientID\n",
    "client_df.dropna(subset=['clientID'], inplace=True)"
   ]
  },
  {
   "cell_type": "code",
   "execution_count": null,
   "metadata": {},
   "outputs": [],
   "source": [
    "# Adds year and month columns to dataframe\n",
    "# client_df['Year'] = client_df['TransactionDate'].map(lambda x: x.year)\n",
    "\n",
    "# client_df['Month'] = client_df['TransactionDate'].map(lambda x: x.month)"
   ]
  },
  {
   "cell_type": "code",
   "execution_count": null,
   "metadata": {},
   "outputs": [],
   "source": [
    "# creates a Dataframe that groups by year and month and counts unique clients\n",
    "# counts_by_month_df = client_df.groupby(['Year', 'Month']).nunique()"
   ]
  },
  {
   "cell_type": "code",
   "execution_count": null,
   "metadata": {
    "scrolled": true
   },
   "outputs": [],
   "source": [
    "# Cleans the counts_by_month_df to only include data that is applicaple to it's EDA\n",
    "# counts_by_month_df.rename(columns={\"clientID\" : \"unique_client_count\", \n",
    "#                                    \"Therapist\" : \"therapists_employed\", \n",
    "#                                    \"Zipcode\" :\"zipcodes_reached\"}, inplace=True)"
   ]
  },
  {
   "cell_type": "code",
   "execution_count": null,
   "metadata": {
    "scrolled": true
   },
   "outputs": [],
   "source": [
    "#Drop unnessesary columns\n",
    "# counts_by_month_df.drop([\"TransactionDate\", \"Invoice_Category\", \"HrsWorked\", \"Year\", \"Month\"], axis=1, inplace=True)"
   ]
  },
  {
   "cell_type": "code",
   "execution_count": null,
   "metadata": {},
   "outputs": [],
   "source": [
    "# counts_by_month_df.head()"
   ]
  },
  {
   "cell_type": "code",
   "execution_count": 200,
   "metadata": {},
   "outputs": [],
   "source": [
    "months = client_df.TransactionDate.dt.to_period(\"M\")"
   ]
  },
  {
   "cell_type": "code",
   "execution_count": 201,
   "metadata": {},
   "outputs": [],
   "source": [
    "g = client_df.groupby(per)"
   ]
  },
  {
   "cell_type": "code",
   "execution_count": 202,
   "metadata": {
    "scrolled": true
   },
   "outputs": [],
   "source": [
    "client_count_df = g.nunique()  #"
   ]
  },
  {
   "cell_type": "code",
   "execution_count": 203,
   "metadata": {},
   "outputs": [],
   "source": [
    "client_count_df.drop('TransactionDate', axis=1, inplace= True)"
   ]
  },
  {
   "cell_type": "code",
   "execution_count": 204,
   "metadata": {},
   "outputs": [],
   "source": [
    "client_count_df.reset_index(inplace=True)"
   ]
  },
  {
   "cell_type": "code",
   "execution_count": 205,
   "metadata": {},
   "outputs": [],
   "source": [
    "client_count_df[\"client_count\"] = client_count_df['clientID']"
   ]
  },
  {
   "cell_type": "code",
   "execution_count": 184,
   "metadata": {},
   "outputs": [],
   "source": [
    "client_count_df.drop('clientID', axis=1, inplace=True)"
   ]
  },
  {
   "cell_type": "code",
   "execution_count": 185,
   "metadata": {},
   "outputs": [],
   "source": [
    "client_count_df['TransactionDate'] = client_count_df['TransactionDate'].astype('str')"
   ]
  },
  {
   "cell_type": "code",
   "execution_count": 186,
   "metadata": {},
   "outputs": [],
   "source": [
    "client_count_df.rename(columns={\"clientID\" : \"unique_client_count\", \n",
    "                                   \"Therapist\" : \"therapists_employed\", \n",
    "                                   \"Zipcode\" :\"zipcodes_reached\"}, inplace=True)\n"
   ]
  },
  {
   "cell_type": "code",
   "execution_count": null,
   "metadata": {},
   "outputs": [],
   "source": [
    "client_count_df.drop([\"Invoice_Category\", \"HrsWorked\", \"Year\", \"Month\"], axis=1, inplace=True)"
   ]
  },
  {
   "cell_type": "code",
   "execution_count": 188,
   "metadata": {},
   "outputs": [],
   "source": [
    "client_count_df.drop(['Service_Category'],axis=1,  inplace=True)"
   ]
  },
  {
   "cell_type": "code",
   "execution_count": 189,
   "metadata": {},
   "outputs": [
    {
     "data": {
      "text/html": [
       "<div>\n",
       "<style scoped>\n",
       "    .dataframe tbody tr th:only-of-type {\n",
       "        vertical-align: middle;\n",
       "    }\n",
       "\n",
       "    .dataframe tbody tr th {\n",
       "        vertical-align: top;\n",
       "    }\n",
       "\n",
       "    .dataframe thead th {\n",
       "        text-align: right;\n",
       "    }\n",
       "</style>\n",
       "<table border=\"1\" class=\"dataframe\">\n",
       "  <thead>\n",
       "    <tr style=\"text-align: right;\">\n",
       "      <th></th>\n",
       "      <th>TransactionDate</th>\n",
       "      <th>therapists_employed</th>\n",
       "      <th>Address_Zip</th>\n",
       "      <th>Invoice_Category</th>\n",
       "      <th>HrsWorked</th>\n",
       "      <th>client_count</th>\n",
       "    </tr>\n",
       "  </thead>\n",
       "  <tbody>\n",
       "    <tr>\n",
       "      <th>0</th>\n",
       "      <td>2016-08</td>\n",
       "      <td>59</td>\n",
       "      <td>163</td>\n",
       "      <td>2</td>\n",
       "      <td>6</td>\n",
       "      <td>1651</td>\n",
       "    </tr>\n",
       "    <tr>\n",
       "      <th>1</th>\n",
       "      <td>2016-09</td>\n",
       "      <td>55</td>\n",
       "      <td>166</td>\n",
       "      <td>2</td>\n",
       "      <td>6</td>\n",
       "      <td>1670</td>\n",
       "    </tr>\n",
       "    <tr>\n",
       "      <th>2</th>\n",
       "      <td>2016-10</td>\n",
       "      <td>54</td>\n",
       "      <td>153</td>\n",
       "      <td>2</td>\n",
       "      <td>7</td>\n",
       "      <td>1670</td>\n",
       "    </tr>\n",
       "    <tr>\n",
       "      <th>3</th>\n",
       "      <td>2016-11</td>\n",
       "      <td>56</td>\n",
       "      <td>158</td>\n",
       "      <td>2</td>\n",
       "      <td>7</td>\n",
       "      <td>1604</td>\n",
       "    </tr>\n",
       "    <tr>\n",
       "      <th>4</th>\n",
       "      <td>2016-12</td>\n",
       "      <td>57</td>\n",
       "      <td>155</td>\n",
       "      <td>2</td>\n",
       "      <td>10</td>\n",
       "      <td>1664</td>\n",
       "    </tr>\n",
       "  </tbody>\n",
       "</table>\n",
       "</div>"
      ],
      "text/plain": [
       "  TransactionDate  therapists_employed  Address_Zip  Invoice_Category  \\\n",
       "0         2016-08                   59          163                 2   \n",
       "1         2016-09                   55          166                 2   \n",
       "2         2016-10                   54          153                 2   \n",
       "3         2016-11                   56          158                 2   \n",
       "4         2016-12                   57          155                 2   \n",
       "\n",
       "   HrsWorked  client_count  \n",
       "0          6          1651  \n",
       "1          6          1670  \n",
       "2          7          1670  \n",
       "3          7          1604  \n",
       "4         10          1664  "
      ]
     },
     "execution_count": 189,
     "metadata": {},
     "output_type": "execute_result"
    }
   ],
   "source": [
    "client_count_df.head()"
   ]
  },
  {
   "cell_type": "markdown",
   "metadata": {},
   "source": [
    "# Graph of unique client counts per month from August, 2016"
   ]
  },
  {
   "cell_type": "code",
   "execution_count": 190,
   "metadata": {},
   "outputs": [
    {
     "data": {
      "image/png": "[encoded data removed]",
      "text/plain": [
       "<Figure size 2160x1584 with 1 Axes>"
      ]
     },
     "metadata": {
      "needs_background": "light"
     },
     "output_type": "display_data"
    }
   ],
   "source": [
    "# the dip in Febuary of 2019 is explained by the 1 week snow closure of Seattle\n",
    "x = client_count_df['TransactionDate']\n",
    "y = client_count_df['client_count']\n",
    "\n",
    "\n",
    "fig, ax = plt.subplots(figsize=(30,22))\n",
    "sns.barplot(x= client_count_df['TransactionDate'], \n",
    "             y= client_count_df['client_count'],\n",
    "             ax=ax);\n"
   ]
  },
  {
   "cell_type": "code",
   "execution_count": null,
   "metadata": {},
   "outputs": [],
   "source": [
    "service_given_df = g.count()"
   ]
  },
  {
   "cell_type": "code",
   "execution_count": null,
   "metadata": {},
   "outputs": [],
   "source": [
    "service_given_df.drop(['TransactionDate', 'Address_Zip'], axis=1, inplace=True)"
   ]
  },
  {
   "cell_type": "code",
   "execution_count": null,
   "metadata": {},
   "outputs": [],
   "source": [
    "service_given_df.reset_index(inplace=True)"
   ]
  },
  {
   "cell_type": "code",
   "execution_count": null,
   "metadata": {},
   "outputs": [],
   "source": [
    "service_given_df.rename(columns={'clientID': 'services_performed'}, inplace=True)"
   ]
  },
  {
   "cell_type": "code",
   "execution_count": null,
   "metadata": {},
   "outputs": [],
   "source": [
    "services_given_df = service_given_df[[\"TransactionDate\", \"services_performed\"]]\n"
   ]
  },
  {
   "cell_type": "code",
   "execution_count": null,
   "metadata": {},
   "outputs": [],
   "source": [
    "services_given_df = services_given_df.rename(columns={\"TransactionDate\" : \"month\"})"
   ]
  },
  {
   "cell_type": "code",
   "execution_count": 206,
   "metadata": {
    "scrolled": false
   },
   "outputs": [
    {
     "data": {
      "image/png": "[encoded data removed]",
      "text/plain": [
       "<Figure size 2160x1584 with 1 Axes>"
      ]
     },
     "metadata": {
      "needs_background": "light"
     },
     "output_type": "display_data"
    }
   ],
   "source": [
    "x = services_given_df['month']\n",
    "y = services_given_df['services_performed']\n",
    "\n",
    "\n",
    "fig, ax = plt.subplots(figsize=(30,22))\n",
    "sns.barplot(x= service_given_df['TransactionDate'], \n",
    "             y= service_given_df['services_performed'],\n",
    "             ax=ax);"
   ]
  },
  {
   "cell_type": "code",
   "execution_count": null,
   "metadata": {},
   "outputs": [],
   "source": []
  },
  {
   "cell_type": "code",
   "execution_count": null,
   "metadata": {},
   "outputs": [],
   "source": []
  },
  {
   "cell_type": "markdown",
   "metadata": {},
   "source": [
    "# How many sessions did the average client from 2016-08 to 2019-08 receive?"
   ]
  },
  {
   "cell_type": "code",
   "execution_count": null,
   "metadata": {},
   "outputs": [],
   "source": [
    "session_count = client_df.groupby('clientID').nunique()['TransactionDate']"
   ]
  },
  {
   "cell_type": "markdown",
   "metadata": {},
   "source": [
    "The average number of sessions a client recieves is ~5.5.\n",
    "\n",
    "The highest number of massages received is 175 by the CEO of the company\n"
   ]
  },
  {
   "cell_type": "code",
   "execution_count": 210,
   "metadata": {},
   "outputs": [
    {
     "data": {
      "image/png": "[encoded data removed]",
      "text/plain": [
       "<Figure size 432x288 with 1 Axes>"
      ]
     },
     "metadata": {
      "needs_background": "light"
     },
     "output_type": "display_data"
    }
   ],
   "source": [
    "fig, ax = plt.subplots()\n",
    "ax.hist(session_count, bins=125, range=(1,125))\n",
    "plt.ylabel('# of clients')\n",
    "plt.xlabel('# of sessions')\n",
    "plt.title('Count of number of session');"
   ]
  },
  {
   "cell_type": "code",
   "execution_count": null,
   "metadata": {},
   "outputs": [],
   "source": [
    "client_df.groupby('clientID').nunique()"
   ]
  },
  {
   "cell_type": "markdown",
   "metadata": {},
   "source": [
    "## The average client get 5.5 sessions and sees 2.5 different therapists.\n",
    "## People tend to get 1.25 hour sessions which is almost split between the 1h and 1.5h offerings we have."
   ]
  },
  {
   "cell_type": "code",
   "execution_count": 90,
   "metadata": {},
   "outputs": [
    {
     "data": {
      "text/plain": [
       "TransactionDate     5.567647\n",
       "clientID            1.000000\n",
       "Therapist           2.577686\n",
       "Address_Zip         0.920891\n",
       "Invoice_Category    1.090646\n",
       "Service_Category    1.075064\n",
       "HrsWorked           1.242721\n",
       "Year                1.514458\n",
       "Month               2.887429\n",
       "dtype: float64"
      ]
     },
     "execution_count": 90,
     "metadata": {},
     "output_type": "execute_result"
    }
   ],
   "source": [
    "client_df.groupby('clientID').nunique().mean()"
   ]
  },
  {
   "cell_type": "markdown",
   "metadata": {},
   "source": [
    "# Mark Clients with Churned or Not Churned for further modeling"
   ]
  },
  {
   "cell_type": "code",
   "execution_count": 97,
   "metadata": {},
   "outputs": [
    {
     "data": {
      "text/plain": [
       "array([40156., 60005., 43420., ..., 83337., 83461., 28219.])"
      ]
     },
     "execution_count": 97,
     "metadata": {},
     "output_type": "execute_result"
    }
   ],
   "source": [
    "# last 2 months of unique client ids\n",
    "client_df['clientID'].unique()"
   ]
  },
  {
   "cell_type": "code",
   "execution_count": 106,
   "metadata": {},
   "outputs": [
    {
     "name": "stdout",
     "output_type": "stream",
     "text": [
      "<class 'pandas.core.frame.DataFrame'>\n",
      "Int64Index: 113021 entries, 0 to 120496\n",
      "Data columns (total 9 columns):\n",
      "TransactionDate     113021 non-null datetime64[ns]\n",
      "clientID            113021 non-null float64\n",
      "Therapist           113020 non-null object\n",
      "Address_Zip         110777 non-null object\n",
      "Invoice_Category    113021 non-null object\n",
      "Service_Category    113021 non-null object\n",
      "HrsWorked           113021 non-null float64\n",
      "Year                113021 non-null int64\n",
      "Month               113021 non-null int64\n",
      "dtypes: datetime64[ns](1), float64(2), int64(2), object(4)\n",
      "memory usage: 8.6+ MB\n"
     ]
    }
   ],
   "source": [
    "client_df.info()"
   ]
  },
  {
   "cell_type": "code",
   "execution_count": 146,
   "metadata": {},
   "outputs": [],
   "source": [
    "start = client_df['TransactionDate'].searchsorted(dt.datetime(2019, 6, 1))\n",
    "end = client_df['TransactionDate'].searchsorted(dt.datetime(2019, 8, 1))"
   ]
  },
  {
   "cell_type": "code",
   "execution_count": 147,
   "metadata": {},
   "outputs": [],
   "source": [
    "not_churn_df = client_df.iloc[start:end]"
   ]
  },
  {
   "cell_type": "code",
   "execution_count": 112,
   "metadata": {},
   "outputs": [
    {
     "name": "stderr",
     "output_type": "stream",
     "text": [
      "/anaconda3/lib/python3.7/site-packages/ipykernel_launcher.py:1: SettingWithCopyWarning: \n",
      "A value is trying to be set on a copy of a slice from a DataFrame.\n",
      "Try using .loc[row_indexer,col_indexer] = value instead\n",
      "\n",
      "See the caveats in the documentation: http://pandas.pydata.org/pandas-docs/stable/indexing.html#indexing-view-versus-copy\n",
      "  \"\"\"Entry point for launching an IPython kernel.\n"
     ]
    }
   ],
   "source": [
    "not_churn_df['churn'] = False"
   ]
  },
  {
   "cell_type": "code",
   "execution_count": 160,
   "metadata": {},
   "outputs": [],
   "source": [
    "client_ID_churn_false = pd.DataFrame(not_churn_df['clientID'].unique())\n",
    "\n",
    "client_ID_churn_false['churn'] = False\n",
    "\n",
    "client_ID_churn_false.columns\n",
    "\n",
    "client_ID_churn_false.rename({0 : 'clientID'},axis=1, inplace=True)\n",
    "\n",
    "client_ID_churn_false.shape\n",
    "\n",
    "churn_df = client_df.merge(client_ID_churn_false, how='left', on='clientID')\n",
    "\n",
    "churn_df['churn'].fillna(True, inplace=True)\n",
    "\n",
    "churn_df.drop_duplicates(subset=['clientID', \"TransactionDate_y\"], \n",
    "                     keep = False, inplace = True) \n",
    "\n"
   ]
  },
  {
   "cell_type": "code",
   "execution_count": 310,
   "metadata": {},
   "outputs": [],
   "source": [
    "churn_df.drop(['Year', 'Month'], axis=1, inplace=True)"
   ]
  },
  {
   "cell_type": "code",
   "execution_count": 313,
   "metadata": {},
   "outputs": [
    {
     "data": {
      "text/html": [
       "<div>\n",
       "<style scoped>\n",
       "    .dataframe tbody tr th:only-of-type {\n",
       "        vertical-align: middle;\n",
       "    }\n",
       "\n",
       "    .dataframe tbody tr th {\n",
       "        vertical-align: top;\n",
       "    }\n",
       "\n",
       "    .dataframe thead th {\n",
       "        text-align: right;\n",
       "    }\n",
       "</style>\n",
       "<table border=\"1\" class=\"dataframe\">\n",
       "  <thead>\n",
       "    <tr style=\"text-align: right;\">\n",
       "      <th></th>\n",
       "      <th>TransactionDate</th>\n",
       "      <th>clientID</th>\n",
       "      <th>Therapist</th>\n",
       "      <th>Address_Zip</th>\n",
       "      <th>Service_Category</th>\n",
       "      <th>HrsWorked</th>\n",
       "      <th>churn</th>\n",
       "    </tr>\n",
       "  </thead>\n",
       "  <tbody>\n",
       "    <tr>\n",
       "      <th>0</th>\n",
       "      <td>2016-08-02</td>\n",
       "      <td>40156.0</td>\n",
       "      <td>michael jacobus</td>\n",
       "      <td>98109</td>\n",
       "      <td>Massage</td>\n",
       "      <td>1.0</td>\n",
       "      <td>True</td>\n",
       "    </tr>\n",
       "    <tr>\n",
       "      <th>1</th>\n",
       "      <td>2016-08-02</td>\n",
       "      <td>60005.0</td>\n",
       "      <td>lauren anderson</td>\n",
       "      <td>98119</td>\n",
       "      <td>Massage</td>\n",
       "      <td>1.0</td>\n",
       "      <td>False</td>\n",
       "    </tr>\n",
       "    <tr>\n",
       "      <th>2</th>\n",
       "      <td>2016-08-02</td>\n",
       "      <td>43420.0</td>\n",
       "      <td>stefanie smith</td>\n",
       "      <td>98144</td>\n",
       "      <td>Massage</td>\n",
       "      <td>1.0</td>\n",
       "      <td>False</td>\n",
       "    </tr>\n",
       "    <tr>\n",
       "      <th>3</th>\n",
       "      <td>2016-08-02</td>\n",
       "      <td>56100.0</td>\n",
       "      <td>elizabeth panelo</td>\n",
       "      <td>98203</td>\n",
       "      <td>Massage</td>\n",
       "      <td>1.0</td>\n",
       "      <td>False</td>\n",
       "    </tr>\n",
       "    <tr>\n",
       "      <th>4</th>\n",
       "      <td>2016-08-02</td>\n",
       "      <td>57367.0</td>\n",
       "      <td>daniel cook</td>\n",
       "      <td>98115</td>\n",
       "      <td>Massage</td>\n",
       "      <td>1.0</td>\n",
       "      <td>True</td>\n",
       "    </tr>\n",
       "  </tbody>\n",
       "</table>\n",
       "</div>"
      ],
      "text/plain": [
       "  TransactionDate  clientID         Therapist Address_Zip Service_Category  \\\n",
       "0      2016-08-02   40156.0   michael jacobus       98109          Massage   \n",
       "1      2016-08-02   60005.0   lauren anderson       98119          Massage   \n",
       "2      2016-08-02   43420.0    stefanie smith       98144          Massage   \n",
       "3      2016-08-02   56100.0  elizabeth panelo       98203          Massage   \n",
       "4      2016-08-02   57367.0       daniel cook       98115          Massage   \n",
       "\n",
       "   HrsWorked  churn  \n",
       "0        1.0   True  \n",
       "1        1.0  False  \n",
       "2        1.0  False  \n",
       "3        1.0  False  \n",
       "4        1.0   True  "
      ]
     },
     "execution_count": 313,
     "metadata": {},
     "output_type": "execute_result"
    }
   ],
   "source": [
    "churn_df.head()"
   ]
  },
  {
   "cell_type": "code",
   "execution_count": 314,
   "metadata": {},
   "outputs": [],
   "source": [
    "therapists_seen_df = churn_df[['TransactionDate', 'clientID', 'Therapist']]"
   ]
  },
  {
   "cell_type": "code",
   "execution_count": 328,
   "metadata": {},
   "outputs": [],
   "source": [
    "therapist_ohe_df = pd.get_dummies(therapists_seen_df)"
   ]
  },
  {
   "cell_type": "code",
   "execution_count": 329,
   "metadata": {},
   "outputs": [],
   "source": [
    "same_therapist_count_df = stuff.groupby('clientID').sum()"
   ]
  },
  {
   "cell_type": "code",
   "execution_count": 330,
   "metadata": {},
   "outputs": [
    {
     "data": {
      "text/html": [
       "<div>\n",
       "<style scoped>\n",
       "    .dataframe tbody tr th:only-of-type {\n",
       "        vertical-align: middle;\n",
       "    }\n",
       "\n",
       "    .dataframe tbody tr th {\n",
       "        vertical-align: top;\n",
       "    }\n",
       "\n",
       "    .dataframe thead th {\n",
       "        text-align: right;\n",
       "    }\n",
       "</style>\n",
       "<table border=\"1\" class=\"dataframe\">\n",
       "  <thead>\n",
       "    <tr style=\"text-align: right;\">\n",
       "      <th></th>\n",
       "      <th>Therapist_abigail thomson</th>\n",
       "      <th>Therapist_aera barnette</th>\n",
       "      <th>Therapist_alex meyer</th>\n",
       "      <th>Therapist_alexa primozich</th>\n",
       "      <th>Therapist_alexandra boucher</th>\n",
       "      <th>Therapist_alisa popova</th>\n",
       "      <th>Therapist_alison post</th>\n",
       "      <th>Therapist_amanda hand</th>\n",
       "      <th>Therapist_amanda keen</th>\n",
       "      <th>Therapist_amanda scott</th>\n",
       "      <th>...</th>\n",
       "      <th>Therapist_ty green</th>\n",
       "      <th>Therapist_ty green jr</th>\n",
       "      <th>Therapist_tyler anderson</th>\n",
       "      <th>Therapist_valentina komarova</th>\n",
       "      <th>Therapist_victoria miner</th>\n",
       "      <th>Therapist_wayne trinklein</th>\n",
       "      <th>Therapist_will courtney</th>\n",
       "      <th>Therapist_willow bittner</th>\n",
       "      <th>Therapist_zachary tuthill</th>\n",
       "      <th>Therapist_zachary van ry</th>\n",
       "    </tr>\n",
       "    <tr>\n",
       "      <th>clientID</th>\n",
       "      <th></th>\n",
       "      <th></th>\n",
       "      <th></th>\n",
       "      <th></th>\n",
       "      <th></th>\n",
       "      <th></th>\n",
       "      <th></th>\n",
       "      <th></th>\n",
       "      <th></th>\n",
       "      <th></th>\n",
       "      <th></th>\n",
       "      <th></th>\n",
       "      <th></th>\n",
       "      <th></th>\n",
       "      <th></th>\n",
       "      <th></th>\n",
       "      <th></th>\n",
       "      <th></th>\n",
       "      <th></th>\n",
       "      <th></th>\n",
       "      <th></th>\n",
       "    </tr>\n",
       "  </thead>\n",
       "  <tbody>\n",
       "    <tr>\n",
       "      <th>1001.0</th>\n",
       "      <td>0</td>\n",
       "      <td>2</td>\n",
       "      <td>1</td>\n",
       "      <td>0</td>\n",
       "      <td>1</td>\n",
       "      <td>0</td>\n",
       "      <td>1</td>\n",
       "      <td>0</td>\n",
       "      <td>0</td>\n",
       "      <td>0</td>\n",
       "      <td>...</td>\n",
       "      <td>1</td>\n",
       "      <td>0</td>\n",
       "      <td>1</td>\n",
       "      <td>1</td>\n",
       "      <td>0</td>\n",
       "      <td>0</td>\n",
       "      <td>0</td>\n",
       "      <td>2</td>\n",
       "      <td>1</td>\n",
       "      <td>1</td>\n",
       "    </tr>\n",
       "    <tr>\n",
       "      <th>1030.0</th>\n",
       "      <td>0</td>\n",
       "      <td>0</td>\n",
       "      <td>0</td>\n",
       "      <td>0</td>\n",
       "      <td>0</td>\n",
       "      <td>0</td>\n",
       "      <td>0</td>\n",
       "      <td>0</td>\n",
       "      <td>0</td>\n",
       "      <td>0</td>\n",
       "      <td>...</td>\n",
       "      <td>0</td>\n",
       "      <td>0</td>\n",
       "      <td>0</td>\n",
       "      <td>0</td>\n",
       "      <td>0</td>\n",
       "      <td>0</td>\n",
       "      <td>0</td>\n",
       "      <td>0</td>\n",
       "      <td>0</td>\n",
       "      <td>1</td>\n",
       "    </tr>\n",
       "    <tr>\n",
       "      <th>1065.0</th>\n",
       "      <td>0</td>\n",
       "      <td>0</td>\n",
       "      <td>0</td>\n",
       "      <td>0</td>\n",
       "      <td>0</td>\n",
       "      <td>0</td>\n",
       "      <td>0</td>\n",
       "      <td>0</td>\n",
       "      <td>0</td>\n",
       "      <td>0</td>\n",
       "      <td>...</td>\n",
       "      <td>0</td>\n",
       "      <td>0</td>\n",
       "      <td>0</td>\n",
       "      <td>0</td>\n",
       "      <td>0</td>\n",
       "      <td>0</td>\n",
       "      <td>0</td>\n",
       "      <td>0</td>\n",
       "      <td>0</td>\n",
       "      <td>0</td>\n",
       "    </tr>\n",
       "    <tr>\n",
       "      <th>1073.0</th>\n",
       "      <td>0</td>\n",
       "      <td>0</td>\n",
       "      <td>0</td>\n",
       "      <td>0</td>\n",
       "      <td>0</td>\n",
       "      <td>0</td>\n",
       "      <td>0</td>\n",
       "      <td>0</td>\n",
       "      <td>0</td>\n",
       "      <td>0</td>\n",
       "      <td>...</td>\n",
       "      <td>1</td>\n",
       "      <td>0</td>\n",
       "      <td>0</td>\n",
       "      <td>0</td>\n",
       "      <td>0</td>\n",
       "      <td>0</td>\n",
       "      <td>0</td>\n",
       "      <td>0</td>\n",
       "      <td>0</td>\n",
       "      <td>0</td>\n",
       "    </tr>\n",
       "    <tr>\n",
       "      <th>1075.0</th>\n",
       "      <td>0</td>\n",
       "      <td>0</td>\n",
       "      <td>2</td>\n",
       "      <td>0</td>\n",
       "      <td>0</td>\n",
       "      <td>0</td>\n",
       "      <td>0</td>\n",
       "      <td>0</td>\n",
       "      <td>0</td>\n",
       "      <td>0</td>\n",
       "      <td>...</td>\n",
       "      <td>1</td>\n",
       "      <td>0</td>\n",
       "      <td>0</td>\n",
       "      <td>0</td>\n",
       "      <td>0</td>\n",
       "      <td>0</td>\n",
       "      <td>0</td>\n",
       "      <td>0</td>\n",
       "      <td>0</td>\n",
       "      <td>0</td>\n",
       "    </tr>\n",
       "  </tbody>\n",
       "</table>\n",
       "<p>5 rows × 204 columns</p>\n",
       "</div>"
      ],
      "text/plain": [
       "          Therapist_abigail thomson  Therapist_aera barnette  \\\n",
       "clientID                                                       \n",
       "1001.0                            0                        2   \n",
       "1030.0                            0                        0   \n",
       "1065.0                            0                        0   \n",
       "1073.0                            0                        0   \n",
       "1075.0                            0                        0   \n",
       "\n",
       "          Therapist_alex meyer  Therapist_alexa primozich  \\\n",
       "clientID                                                    \n",
       "1001.0                       1                          0   \n",
       "1030.0                       0                          0   \n",
       "1065.0                       0                          0   \n",
       "1073.0                       0                          0   \n",
       "1075.0                       2                          0   \n",
       "\n",
       "          Therapist_alexandra boucher  Therapist_alisa popova  \\\n",
       "clientID                                                        \n",
       "1001.0                              1                       0   \n",
       "1030.0                              0                       0   \n",
       "1065.0                              0                       0   \n",
       "1073.0                              0                       0   \n",
       "1075.0                              0                       0   \n",
       "\n",
       "          Therapist_alison post  Therapist_amanda hand  Therapist_amanda keen  \\\n",
       "clientID                                                                        \n",
       "1001.0                        1                      0                      0   \n",
       "1030.0                        0                      0                      0   \n",
       "1065.0                        0                      0                      0   \n",
       "1073.0                        0                      0                      0   \n",
       "1075.0                        0                      0                      0   \n",
       "\n",
       "          Therapist_amanda scott  ...  Therapist_ty green  \\\n",
       "clientID                          ...                       \n",
       "1001.0                         0  ...                   1   \n",
       "1030.0                         0  ...                   0   \n",
       "1065.0                         0  ...                   0   \n",
       "1073.0                         0  ...                   1   \n",
       "1075.0                         0  ...                   1   \n",
       "\n",
       "          Therapist_ty green jr  Therapist_tyler anderson  \\\n",
       "clientID                                                    \n",
       "1001.0                        0                         1   \n",
       "1030.0                        0                         0   \n",
       "1065.0                        0                         0   \n",
       "1073.0                        0                         0   \n",
       "1075.0                        0                         0   \n",
       "\n",
       "          Therapist_valentina komarova  Therapist_victoria miner  \\\n",
       "clientID                                                           \n",
       "1001.0                               1                         0   \n",
       "1030.0                               0                         0   \n",
       "1065.0                               0                         0   \n",
       "1073.0                               0                         0   \n",
       "1075.0                               0                         0   \n",
       "\n",
       "          Therapist_wayne trinklein  Therapist_will courtney  \\\n",
       "clientID                                                       \n",
       "1001.0                            0                        0   \n",
       "1030.0                            0                        0   \n",
       "1065.0                            0                        0   \n",
       "1073.0                            0                        0   \n",
       "1075.0                            0                        0   \n",
       "\n",
       "          Therapist_willow bittner  Therapist_zachary tuthill  \\\n",
       "clientID                                                        \n",
       "1001.0                           2                          1   \n",
       "1030.0                           0                          0   \n",
       "1065.0                           0                          0   \n",
       "1073.0                           0                          0   \n",
       "1075.0                           0                          0   \n",
       "\n",
       "          Therapist_zachary van ry  \n",
       "clientID                            \n",
       "1001.0                           1  \n",
       "1030.0                           1  \n",
       "1065.0                           0  \n",
       "1073.0                           0  \n",
       "1075.0                           0  \n",
       "\n",
       "[5 rows x 204 columns]"
      ]
     },
     "execution_count": 330,
     "metadata": {},
     "output_type": "execute_result"
    }
   ],
   "source": [
    "same_therapist_count_df.head()"
   ]
  },
  {
   "cell_type": "markdown",
   "metadata": {},
   "source": [
    "# train test split and first model of client churn\n"
   ]
  },
  {
   "cell_type": "code",
   "execution_count": null,
   "metadata": {},
   "outputs": [],
   "source": [
    "from sklearn.linear_model import LogisticRegression"
   ]
  },
  {
   "cell_type": "code",
   "execution_count": 214,
   "metadata": {},
   "outputs": [],
   "source": [
    "# Temporal test split\n",
    "start = churn_df['TransactionDate'].searchsorted(dt.datetime(2018, 12, 1))\n",
    "end = churn_df['TransactionDate'].searchsorted(dt.datetime(2019, 5, 31))\n",
    "test_df = churn_df.iloc[start:end]\n"
   ]
  },
  {
   "cell_type": "code",
   "execution_count": 233,
   "metadata": {},
   "outputs": [],
   "source": [
    "#Temporal train split\n",
    "end = churn_df['TransactionDate'].searchsorted(dt.datetime(2018, 11, 30))\n",
    "train_df = churn_df.iloc[:end]"
   ]
  },
  {
   "cell_type": "code",
   "execution_count": 331,
   "metadata": {},
   "outputs": [],
   "source": [
    "train_df['clientID'].unique()\n",
    "\n",
    "feature_df = train_df.groupby('clientID').nunique()\n",
    "\n",
    "feature_train_df = feature_df[['TransactionDate', 'Therapist', 'Service_Category']]"
   ]
  },
  {
   "cell_type": "code",
   "execution_count": 349,
   "metadata": {
    "scrolled": true
   },
   "outputs": [],
   "source": [
    "# Feature_train_df includes number of massages received, number of unique\n",
    "# therapists seen, number of different services recieved, how many times they have seen\n",
    "# each therapist\n",
    "feature_train_df = feature_train_df.merge(same_therapist_count_df, \n",
    "                                          right_on='clientID', \n",
    "                                          left_index=True)"
   ]
  },
  {
   "cell_type": "code",
   "execution_count": 336,
   "metadata": {},
   "outputs": [],
   "source": [
    "test_df['clientID'].unique()\n",
    "\n",
    "feature_test_df = test_df.groupby('clientID').nunique()\n",
    "\n",
    "feature_test_df = feature_test_df[['TransactionDate', \n",
    "                                   'Therapist', \n",
    "                                   'Service_Category']]\n",
    "\n"
   ]
  },
  {
   "cell_type": "code",
   "execution_count": 345,
   "metadata": {
    "scrolled": true
   },
   "outputs": [],
   "source": [
    "# feature_test_df includes number of massages received, number of unique\n",
    "# therapists seen, number of different services recieved, how many times they have seen\n",
    "# each therapist\n",
    "feature_test_df = feature_test_df.merge(same_therapist_count_df, \n",
    "                                        right_on='clientID', \n",
    "                                        left_index=True)"
   ]
  },
  {
   "cell_type": "code",
   "execution_count": 346,
   "metadata": {},
   "outputs": [
    {
     "data": {
      "text/html": [
       "<div>\n",
       "<style scoped>\n",
       "    .dataframe tbody tr th:only-of-type {\n",
       "        vertical-align: middle;\n",
       "    }\n",
       "\n",
       "    .dataframe tbody tr th {\n",
       "        vertical-align: top;\n",
       "    }\n",
       "\n",
       "    .dataframe thead th {\n",
       "        text-align: right;\n",
       "    }\n",
       "</style>\n",
       "<table border=\"1\" class=\"dataframe\">\n",
       "  <thead>\n",
       "    <tr style=\"text-align: right;\">\n",
       "      <th></th>\n",
       "      <th>TransactionDate</th>\n",
       "      <th>Therapist</th>\n",
       "      <th>Service_Category</th>\n",
       "      <th>Therapist_abigail thomson</th>\n",
       "      <th>Therapist_aera barnette</th>\n",
       "      <th>Therapist_alex meyer</th>\n",
       "      <th>Therapist_alexa primozich</th>\n",
       "      <th>Therapist_alexandra boucher</th>\n",
       "      <th>Therapist_alisa popova</th>\n",
       "      <th>Therapist_alison post</th>\n",
       "      <th>...</th>\n",
       "      <th>Therapist_ty green</th>\n",
       "      <th>Therapist_ty green jr</th>\n",
       "      <th>Therapist_tyler anderson</th>\n",
       "      <th>Therapist_valentina komarova</th>\n",
       "      <th>Therapist_victoria miner</th>\n",
       "      <th>Therapist_wayne trinklein</th>\n",
       "      <th>Therapist_will courtney</th>\n",
       "      <th>Therapist_willow bittner</th>\n",
       "      <th>Therapist_zachary tuthill</th>\n",
       "      <th>Therapist_zachary van ry</th>\n",
       "    </tr>\n",
       "    <tr>\n",
       "      <th>clientID</th>\n",
       "      <th></th>\n",
       "      <th></th>\n",
       "      <th></th>\n",
       "      <th></th>\n",
       "      <th></th>\n",
       "      <th></th>\n",
       "      <th></th>\n",
       "      <th></th>\n",
       "      <th></th>\n",
       "      <th></th>\n",
       "      <th></th>\n",
       "      <th></th>\n",
       "      <th></th>\n",
       "      <th></th>\n",
       "      <th></th>\n",
       "      <th></th>\n",
       "      <th></th>\n",
       "      <th></th>\n",
       "      <th></th>\n",
       "      <th></th>\n",
       "      <th></th>\n",
       "    </tr>\n",
       "  </thead>\n",
       "  <tbody>\n",
       "    <tr>\n",
       "      <th>1001.0</th>\n",
       "      <td>16</td>\n",
       "      <td>14</td>\n",
       "      <td>1</td>\n",
       "      <td>0</td>\n",
       "      <td>2</td>\n",
       "      <td>1</td>\n",
       "      <td>0</td>\n",
       "      <td>1</td>\n",
       "      <td>0</td>\n",
       "      <td>1</td>\n",
       "      <td>...</td>\n",
       "      <td>1</td>\n",
       "      <td>0</td>\n",
       "      <td>1</td>\n",
       "      <td>1</td>\n",
       "      <td>0</td>\n",
       "      <td>0</td>\n",
       "      <td>0</td>\n",
       "      <td>2</td>\n",
       "      <td>1</td>\n",
       "      <td>1</td>\n",
       "    </tr>\n",
       "  </tbody>\n",
       "</table>\n",
       "<p>1 rows × 207 columns</p>\n",
       "</div>"
      ],
      "text/plain": [
       "          TransactionDate  Therapist  Service_Category  \\\n",
       "clientID                                                 \n",
       "1001.0                 16         14                 1   \n",
       "\n",
       "          Therapist_abigail thomson  Therapist_aera barnette  \\\n",
       "clientID                                                       \n",
       "1001.0                            0                        2   \n",
       "\n",
       "          Therapist_alex meyer  Therapist_alexa primozich  \\\n",
       "clientID                                                    \n",
       "1001.0                       1                          0   \n",
       "\n",
       "          Therapist_alexandra boucher  Therapist_alisa popova  \\\n",
       "clientID                                                        \n",
       "1001.0                              1                       0   \n",
       "\n",
       "          Therapist_alison post  ...  Therapist_ty green  \\\n",
       "clientID                         ...                       \n",
       "1001.0                        1  ...                   1   \n",
       "\n",
       "          Therapist_ty green jr  Therapist_tyler anderson  \\\n",
       "clientID                                                    \n",
       "1001.0                        0                         1   \n",
       "\n",
       "          Therapist_valentina komarova  Therapist_victoria miner  \\\n",
       "clientID                                                           \n",
       "1001.0                               1                         0   \n",
       "\n",
       "          Therapist_wayne trinklein  Therapist_will courtney  \\\n",
       "clientID                                                       \n",
       "1001.0                            0                        0   \n",
       "\n",
       "          Therapist_willow bittner  Therapist_zachary tuthill  \\\n",
       "clientID                                                        \n",
       "1001.0                           2                          1   \n",
       "\n",
       "          Therapist_zachary van ry  \n",
       "clientID                            \n",
       "1001.0                           1  \n",
       "\n",
       "[1 rows x 207 columns]"
      ]
     },
     "execution_count": 346,
     "metadata": {},
     "output_type": "execute_result"
    }
   ],
   "source": [
    "feature_test_df.head(1)"
   ]
  },
  {
   "cell_type": "code",
   "execution_count": 339,
   "metadata": {},
   "outputs": [],
   "source": [
    "churn_df_id_churn = churn_df[['clientID', 'churn']]"
   ]
  },
  {
   "cell_type": "code",
   "execution_count": 340,
   "metadata": {},
   "outputs": [
    {
     "name": "stderr",
     "output_type": "stream",
     "text": [
      "/anaconda3/lib/python3.7/site-packages/ipykernel_launcher.py:2: SettingWithCopyWarning: \n",
      "A value is trying to be set on a copy of a slice from a DataFrame\n",
      "\n",
      "See the caveats in the documentation: http://pandas.pydata.org/pandas-docs/stable/indexing.html#indexing-view-versus-copy\n",
      "  \n"
     ]
    }
   ],
   "source": [
    "# churn or not df for all client IDS, useful for merging\n",
    "churn_df_id_churn.drop_duplicates(inplace=True)"
   ]
  },
  {
   "cell_type": "code",
   "execution_count": 347,
   "metadata": {},
   "outputs": [],
   "source": [
    "test_merge_df = feature_test_df.merge(churn_df_id_churn, \n",
    "                                      how='inner', \n",
    "                                      right_on='clientID', \n",
    "                                      left_index=True)\n",
    "\n",
    "test_merge_df.reset_index(inplace=True)\n",
    "\n",
    "test_merge_df.drop('index', axis=1, inplace=True)"
   ]
  },
  {
   "cell_type": "code",
   "execution_count": 396,
   "metadata": {},
   "outputs": [
    {
     "data": {
      "text/html": [
       "<div>\n",
       "<style scoped>\n",
       "    .dataframe tbody tr th:only-of-type {\n",
       "        vertical-align: middle;\n",
       "    }\n",
       "\n",
       "    .dataframe tbody tr th {\n",
       "        vertical-align: top;\n",
       "    }\n",
       "\n",
       "    .dataframe thead th {\n",
       "        text-align: right;\n",
       "    }\n",
       "</style>\n",
       "<table border=\"1\" class=\"dataframe\">\n",
       "  <thead>\n",
       "    <tr style=\"text-align: right;\">\n",
       "      <th></th>\n",
       "      <th>TransactionDate</th>\n",
       "      <th>Therapist</th>\n",
       "      <th>Service_Category</th>\n",
       "      <th>Therapist_abigail thomson</th>\n",
       "      <th>Therapist_aera barnette</th>\n",
       "      <th>Therapist_alex meyer</th>\n",
       "      <th>Therapist_alexa primozich</th>\n",
       "      <th>Therapist_alexandra boucher</th>\n",
       "      <th>Therapist_alisa popova</th>\n",
       "      <th>Therapist_alison post</th>\n",
       "      <th>...</th>\n",
       "      <th>Therapist_tyler anderson</th>\n",
       "      <th>Therapist_valentina komarova</th>\n",
       "      <th>Therapist_victoria miner</th>\n",
       "      <th>Therapist_wayne trinklein</th>\n",
       "      <th>Therapist_will courtney</th>\n",
       "      <th>Therapist_willow bittner</th>\n",
       "      <th>Therapist_zachary tuthill</th>\n",
       "      <th>Therapist_zachary van ry</th>\n",
       "      <th>clientID</th>\n",
       "      <th>churn</th>\n",
       "    </tr>\n",
       "  </thead>\n",
       "  <tbody>\n",
       "    <tr>\n",
       "      <th>0</th>\n",
       "      <td>16</td>\n",
       "      <td>14</td>\n",
       "      <td>1</td>\n",
       "      <td>0</td>\n",
       "      <td>2</td>\n",
       "      <td>1</td>\n",
       "      <td>0</td>\n",
       "      <td>1</td>\n",
       "      <td>0</td>\n",
       "      <td>1</td>\n",
       "      <td>...</td>\n",
       "      <td>1</td>\n",
       "      <td>1</td>\n",
       "      <td>0</td>\n",
       "      <td>0</td>\n",
       "      <td>0</td>\n",
       "      <td>2</td>\n",
       "      <td>1</td>\n",
       "      <td>1</td>\n",
       "      <td>1001.0</td>\n",
       "      <td>False</td>\n",
       "    </tr>\n",
       "    <tr>\n",
       "      <th>1</th>\n",
       "      <td>1</td>\n",
       "      <td>1</td>\n",
       "      <td>1</td>\n",
       "      <td>0</td>\n",
       "      <td>0</td>\n",
       "      <td>0</td>\n",
       "      <td>0</td>\n",
       "      <td>0</td>\n",
       "      <td>0</td>\n",
       "      <td>0</td>\n",
       "      <td>...</td>\n",
       "      <td>0</td>\n",
       "      <td>0</td>\n",
       "      <td>0</td>\n",
       "      <td>0</td>\n",
       "      <td>0</td>\n",
       "      <td>0</td>\n",
       "      <td>0</td>\n",
       "      <td>1</td>\n",
       "      <td>1030.0</td>\n",
       "      <td>True</td>\n",
       "    </tr>\n",
       "    <tr>\n",
       "      <th>2</th>\n",
       "      <td>2</td>\n",
       "      <td>2</td>\n",
       "      <td>1</td>\n",
       "      <td>0</td>\n",
       "      <td>0</td>\n",
       "      <td>0</td>\n",
       "      <td>0</td>\n",
       "      <td>0</td>\n",
       "      <td>0</td>\n",
       "      <td>0</td>\n",
       "      <td>...</td>\n",
       "      <td>0</td>\n",
       "      <td>0</td>\n",
       "      <td>0</td>\n",
       "      <td>0</td>\n",
       "      <td>0</td>\n",
       "      <td>0</td>\n",
       "      <td>0</td>\n",
       "      <td>0</td>\n",
       "      <td>1073.0</td>\n",
       "      <td>True</td>\n",
       "    </tr>\n",
       "    <tr>\n",
       "      <th>3</th>\n",
       "      <td>3</td>\n",
       "      <td>3</td>\n",
       "      <td>1</td>\n",
       "      <td>0</td>\n",
       "      <td>0</td>\n",
       "      <td>2</td>\n",
       "      <td>0</td>\n",
       "      <td>0</td>\n",
       "      <td>0</td>\n",
       "      <td>0</td>\n",
       "      <td>...</td>\n",
       "      <td>0</td>\n",
       "      <td>0</td>\n",
       "      <td>0</td>\n",
       "      <td>0</td>\n",
       "      <td>0</td>\n",
       "      <td>0</td>\n",
       "      <td>0</td>\n",
       "      <td>0</td>\n",
       "      <td>1075.0</td>\n",
       "      <td>False</td>\n",
       "    </tr>\n",
       "    <tr>\n",
       "      <th>4</th>\n",
       "      <td>1</td>\n",
       "      <td>1</td>\n",
       "      <td>1</td>\n",
       "      <td>0</td>\n",
       "      <td>0</td>\n",
       "      <td>0</td>\n",
       "      <td>0</td>\n",
       "      <td>0</td>\n",
       "      <td>0</td>\n",
       "      <td>0</td>\n",
       "      <td>...</td>\n",
       "      <td>0</td>\n",
       "      <td>0</td>\n",
       "      <td>0</td>\n",
       "      <td>0</td>\n",
       "      <td>0</td>\n",
       "      <td>0</td>\n",
       "      <td>0</td>\n",
       "      <td>0</td>\n",
       "      <td>1338.0</td>\n",
       "      <td>True</td>\n",
       "    </tr>\n",
       "  </tbody>\n",
       "</table>\n",
       "<p>5 rows × 209 columns</p>\n",
       "</div>"
      ],
      "text/plain": [
       "   TransactionDate  Therapist  Service_Category  Therapist_abigail thomson  \\\n",
       "0               16         14                 1                          0   \n",
       "1                1          1                 1                          0   \n",
       "2                2          2                 1                          0   \n",
       "3                3          3                 1                          0   \n",
       "4                1          1                 1                          0   \n",
       "\n",
       "   Therapist_aera barnette  Therapist_alex meyer  Therapist_alexa primozich  \\\n",
       "0                        2                     1                          0   \n",
       "1                        0                     0                          0   \n",
       "2                        0                     0                          0   \n",
       "3                        0                     2                          0   \n",
       "4                        0                     0                          0   \n",
       "\n",
       "   Therapist_alexandra boucher  Therapist_alisa popova  Therapist_alison post  \\\n",
       "0                            1                       0                      1   \n",
       "1                            0                       0                      0   \n",
       "2                            0                       0                      0   \n",
       "3                            0                       0                      0   \n",
       "4                            0                       0                      0   \n",
       "\n",
       "   ...  Therapist_tyler anderson  Therapist_valentina komarova  \\\n",
       "0  ...                         1                             1   \n",
       "1  ...                         0                             0   \n",
       "2  ...                         0                             0   \n",
       "3  ...                         0                             0   \n",
       "4  ...                         0                             0   \n",
       "\n",
       "   Therapist_victoria miner  Therapist_wayne trinklein  \\\n",
       "0                         0                          0   \n",
       "1                         0                          0   \n",
       "2                         0                          0   \n",
       "3                         0                          0   \n",
       "4                         0                          0   \n",
       "\n",
       "   Therapist_will courtney  Therapist_willow bittner  \\\n",
       "0                        0                         2   \n",
       "1                        0                         0   \n",
       "2                        0                         0   \n",
       "3                        0                         0   \n",
       "4                        0                         0   \n",
       "\n",
       "   Therapist_zachary tuthill  Therapist_zachary van ry  clientID  churn  \n",
       "0                          1                         1    1001.0  False  \n",
       "1                          0                         1    1030.0   True  \n",
       "2                          0                         0    1073.0   True  \n",
       "3                          0                         0    1075.0  False  \n",
       "4                          0                         0    1338.0   True  \n",
       "\n",
       "[5 rows x 209 columns]"
      ]
     },
     "execution_count": 396,
     "metadata": {},
     "output_type": "execute_result"
    }
   ],
   "source": [
    "test_merge_df.head()"
   ]
  },
  {
   "cell_type": "code",
   "execution_count": 350,
   "metadata": {},
   "outputs": [],
   "source": [
    "train_merge_df = feature_train_df.merge(churn_df_id_churn, \n",
    "                                        how='inner', \n",
    "                                        right_on='clientID', \n",
    "                                        left_index=True)\n",
    "\n",
    "train_merge_df.reset_index(inplace=True)\n",
    "\n",
    "\n",
    "train_merge_df.drop('index', axis=1, inplace=True)\n",
    "\n",
    "train_target = train_merge_df['churn']"
   ]
  },
  {
   "cell_type": "code",
   "execution_count": 351,
   "metadata": {},
   "outputs": [
    {
     "data": {
      "text/html": [
       "<div>\n",
       "<style scoped>\n",
       "    .dataframe tbody tr th:only-of-type {\n",
       "        vertical-align: middle;\n",
       "    }\n",
       "\n",
       "    .dataframe tbody tr th {\n",
       "        vertical-align: top;\n",
       "    }\n",
       "\n",
       "    .dataframe thead th {\n",
       "        text-align: right;\n",
       "    }\n",
       "</style>\n",
       "<table border=\"1\" class=\"dataframe\">\n",
       "  <thead>\n",
       "    <tr style=\"text-align: right;\">\n",
       "      <th></th>\n",
       "      <th>TransactionDate</th>\n",
       "      <th>Therapist</th>\n",
       "      <th>Service_Category</th>\n",
       "      <th>Therapist_abigail thomson</th>\n",
       "      <th>Therapist_aera barnette</th>\n",
       "      <th>Therapist_alex meyer</th>\n",
       "      <th>Therapist_alexa primozich</th>\n",
       "      <th>Therapist_alexandra boucher</th>\n",
       "      <th>Therapist_alisa popova</th>\n",
       "      <th>Therapist_alison post</th>\n",
       "      <th>...</th>\n",
       "      <th>Therapist_tyler anderson</th>\n",
       "      <th>Therapist_valentina komarova</th>\n",
       "      <th>Therapist_victoria miner</th>\n",
       "      <th>Therapist_wayne trinklein</th>\n",
       "      <th>Therapist_will courtney</th>\n",
       "      <th>Therapist_willow bittner</th>\n",
       "      <th>Therapist_zachary tuthill</th>\n",
       "      <th>Therapist_zachary van ry</th>\n",
       "      <th>clientID</th>\n",
       "      <th>churn</th>\n",
       "    </tr>\n",
       "  </thead>\n",
       "  <tbody>\n",
       "    <tr>\n",
       "      <th>0</th>\n",
       "      <td>140</td>\n",
       "      <td>106</td>\n",
       "      <td>3</td>\n",
       "      <td>0</td>\n",
       "      <td>2</td>\n",
       "      <td>1</td>\n",
       "      <td>0</td>\n",
       "      <td>1</td>\n",
       "      <td>0</td>\n",
       "      <td>1</td>\n",
       "      <td>...</td>\n",
       "      <td>1</td>\n",
       "      <td>1</td>\n",
       "      <td>0</td>\n",
       "      <td>0</td>\n",
       "      <td>0</td>\n",
       "      <td>2</td>\n",
       "      <td>1</td>\n",
       "      <td>1</td>\n",
       "      <td>1001.0</td>\n",
       "      <td>False</td>\n",
       "    </tr>\n",
       "    <tr>\n",
       "      <th>1</th>\n",
       "      <td>1</td>\n",
       "      <td>1</td>\n",
       "      <td>1</td>\n",
       "      <td>0</td>\n",
       "      <td>0</td>\n",
       "      <td>0</td>\n",
       "      <td>0</td>\n",
       "      <td>0</td>\n",
       "      <td>0</td>\n",
       "      <td>0</td>\n",
       "      <td>...</td>\n",
       "      <td>0</td>\n",
       "      <td>0</td>\n",
       "      <td>0</td>\n",
       "      <td>0</td>\n",
       "      <td>0</td>\n",
       "      <td>0</td>\n",
       "      <td>0</td>\n",
       "      <td>1</td>\n",
       "      <td>1030.0</td>\n",
       "      <td>True</td>\n",
       "    </tr>\n",
       "    <tr>\n",
       "      <th>2</th>\n",
       "      <td>1</td>\n",
       "      <td>1</td>\n",
       "      <td>1</td>\n",
       "      <td>0</td>\n",
       "      <td>0</td>\n",
       "      <td>0</td>\n",
       "      <td>0</td>\n",
       "      <td>0</td>\n",
       "      <td>0</td>\n",
       "      <td>0</td>\n",
       "      <td>...</td>\n",
       "      <td>0</td>\n",
       "      <td>0</td>\n",
       "      <td>0</td>\n",
       "      <td>0</td>\n",
       "      <td>0</td>\n",
       "      <td>0</td>\n",
       "      <td>0</td>\n",
       "      <td>0</td>\n",
       "      <td>1065.0</td>\n",
       "      <td>True</td>\n",
       "    </tr>\n",
       "    <tr>\n",
       "      <th>3</th>\n",
       "      <td>3</td>\n",
       "      <td>2</td>\n",
       "      <td>1</td>\n",
       "      <td>0</td>\n",
       "      <td>0</td>\n",
       "      <td>0</td>\n",
       "      <td>0</td>\n",
       "      <td>0</td>\n",
       "      <td>0</td>\n",
       "      <td>0</td>\n",
       "      <td>...</td>\n",
       "      <td>0</td>\n",
       "      <td>0</td>\n",
       "      <td>0</td>\n",
       "      <td>0</td>\n",
       "      <td>0</td>\n",
       "      <td>0</td>\n",
       "      <td>0</td>\n",
       "      <td>0</td>\n",
       "      <td>1073.0</td>\n",
       "      <td>True</td>\n",
       "    </tr>\n",
       "    <tr>\n",
       "      <th>4</th>\n",
       "      <td>2</td>\n",
       "      <td>2</td>\n",
       "      <td>1</td>\n",
       "      <td>0</td>\n",
       "      <td>0</td>\n",
       "      <td>2</td>\n",
       "      <td>0</td>\n",
       "      <td>0</td>\n",
       "      <td>0</td>\n",
       "      <td>0</td>\n",
       "      <td>...</td>\n",
       "      <td>0</td>\n",
       "      <td>0</td>\n",
       "      <td>0</td>\n",
       "      <td>0</td>\n",
       "      <td>0</td>\n",
       "      <td>0</td>\n",
       "      <td>0</td>\n",
       "      <td>0</td>\n",
       "      <td>1075.0</td>\n",
       "      <td>False</td>\n",
       "    </tr>\n",
       "  </tbody>\n",
       "</table>\n",
       "<p>5 rows × 209 columns</p>\n",
       "</div>"
      ],
      "text/plain": [
       "   TransactionDate  Therapist  Service_Category  Therapist_abigail thomson  \\\n",
       "0              140        106                 3                          0   \n",
       "1                1          1                 1                          0   \n",
       "2                1          1                 1                          0   \n",
       "3                3          2                 1                          0   \n",
       "4                2          2                 1                          0   \n",
       "\n",
       "   Therapist_aera barnette  Therapist_alex meyer  Therapist_alexa primozich  \\\n",
       "0                        2                     1                          0   \n",
       "1                        0                     0                          0   \n",
       "2                        0                     0                          0   \n",
       "3                        0                     0                          0   \n",
       "4                        0                     2                          0   \n",
       "\n",
       "   Therapist_alexandra boucher  Therapist_alisa popova  Therapist_alison post  \\\n",
       "0                            1                       0                      1   \n",
       "1                            0                       0                      0   \n",
       "2                            0                       0                      0   \n",
       "3                            0                       0                      0   \n",
       "4                            0                       0                      0   \n",
       "\n",
       "   ...  Therapist_tyler anderson  Therapist_valentina komarova  \\\n",
       "0  ...                         1                             1   \n",
       "1  ...                         0                             0   \n",
       "2  ...                         0                             0   \n",
       "3  ...                         0                             0   \n",
       "4  ...                         0                             0   \n",
       "\n",
       "   Therapist_victoria miner  Therapist_wayne trinklein  \\\n",
       "0                         0                          0   \n",
       "1                         0                          0   \n",
       "2                         0                          0   \n",
       "3                         0                          0   \n",
       "4                         0                          0   \n",
       "\n",
       "   Therapist_will courtney  Therapist_willow bittner  \\\n",
       "0                        0                         2   \n",
       "1                        0                         0   \n",
       "2                        0                         0   \n",
       "3                        0                         0   \n",
       "4                        0                         0   \n",
       "\n",
       "   Therapist_zachary tuthill  Therapist_zachary van ry  clientID  churn  \n",
       "0                          1                         1    1001.0  False  \n",
       "1                          0                         1    1030.0   True  \n",
       "2                          0                         0    1065.0   True  \n",
       "3                          0                         0    1073.0   True  \n",
       "4                          0                         0    1075.0  False  \n",
       "\n",
       "[5 rows x 209 columns]"
      ]
     },
     "execution_count": 351,
     "metadata": {},
     "output_type": "execute_result"
    }
   ],
   "source": [
    "train_merge_df.head()"
   ]
  },
  {
   "cell_type": "code",
   "execution_count": 278,
   "metadata": {},
   "outputs": [],
   "source": [
    "# X_train = train_merge_df[['TransactionDate', 'Therapist', 'Service_Category', 'clientID']]\n",
    "# y_train = train_merge_df['churn']\n",
    "# X_test =  test_merge_df[['TransactionDate', 'Therapist', 'Service_Category', 'clientID']]\n",
    "# y_test = test_merge_df['churn']"
   ]
  },
  {
   "cell_type": "code",
   "execution_count": 352,
   "metadata": {},
   "outputs": [],
   "source": [
    "X_train = train_merge_df.drop('churn', axis=1)\n",
    "y_train = train_merge_df['churn']\n",
    "X_test =  test_merge_df.drop('churn', axis=1)\n",
    "y_test = test_merge_df['churn']"
   ]
  },
  {
   "cell_type": "code",
   "execution_count": 353,
   "metadata": {},
   "outputs": [],
   "source": [
    "log_reg = LogisticRegression()"
   ]
  },
  {
   "cell_type": "code",
   "execution_count": 354,
   "metadata": {},
   "outputs": [
    {
     "name": "stderr",
     "output_type": "stream",
     "text": [
      "/anaconda3/lib/python3.7/site-packages/sklearn/linear_model/logistic.py:433: FutureWarning: Default solver will be changed to 'lbfgs' in 0.22. Specify a solver to silence this warning.\n",
      "  FutureWarning)\n"
     ]
    },
    {
     "data": {
      "text/plain": [
       "LogisticRegression(C=1.0, class_weight=None, dual=False, fit_intercept=True,\n",
       "          intercept_scaling=1, max_iter=100, multi_class='warn',\n",
       "          n_jobs=None, penalty='l2', random_state=None, solver='warn',\n",
       "          tol=0.0001, verbose=0, warm_start=False)"
      ]
     },
     "execution_count": 354,
     "metadata": {},
     "output_type": "execute_result"
    }
   ],
   "source": [
    "log_reg.fit(X_train, y_train)"
   ]
  },
  {
   "cell_type": "code",
   "execution_count": 355,
   "metadata": {},
   "outputs": [
    {
     "data": {
      "text/plain": [
       "0.6761683791846205"
      ]
     },
     "execution_count": 355,
     "metadata": {},
     "output_type": "execute_result"
    }
   ],
   "source": [
    "# first model is barely better then just guessing the mean\n",
    "log_reg.score(X_test, y_test)"
   ]
  },
  {
   "cell_type": "code",
   "execution_count": 356,
   "metadata": {},
   "outputs": [
    {
     "data": {
      "text/plain": [
       "0.6710308253231687"
      ]
     },
     "execution_count": 356,
     "metadata": {},
     "output_type": "execute_result"
    }
   ],
   "source": [
    "y_test.mean()"
   ]
  },
  {
   "cell_type": "code",
   "execution_count": 297,
   "metadata": {},
   "outputs": [],
   "source": [
    "from sklearn.metrics import roc_auc_score, roc_curve"
   ]
  },
  {
   "cell_type": "code",
   "execution_count": 357,
   "metadata": {},
   "outputs": [
    {
     "data": {
      "text/plain": [
       "0.6767501133781205"
      ]
     },
     "execution_count": 357,
     "metadata": {},
     "output_type": "execute_result"
    }
   ],
   "source": [
    "y_pred = log_reg.predict_proba(X_test)[:,1]\n",
    "roc_auc_score(y_test, y_pred)"
   ]
  },
  {
   "cell_type": "code",
   "execution_count": 361,
   "metadata": {
    "scrolled": true
   },
   "outputs": [
    {
     "data": {
      "image/png": "[encoded data removed]",
      "text/plain": [
       "<Figure size 432x288 with 1 Axes>"
      ]
     },
     "metadata": {
      "needs_background": "light"
     },
     "output_type": "display_data"
    }
   ],
   "source": [
    "fpr, tpr, thresholds = roc_curve(y_test, y_pred)\n",
    "plt.plot(fpr, tpr,)\n",
    "plt.xlabel(\"False Positive Rate\")\n",
    "plt.ylabel(\"True Positive Rate\")\n",
    "plt.title('ROC curve')\n",
    "plt.show();"
   ]
  },
  {
   "cell_type": "code",
   "execution_count": 383,
   "metadata": {},
   "outputs": [
    {
     "data": {
      "text/plain": [
       "array([[0.76005614, 0.23994386],\n",
       "       [0.50603062, 0.49396938],\n",
       "       [0.52386147, 0.47613853],\n",
       "       [0.54209483, 0.45790517],\n",
       "       [0.5024219 , 0.4975781 ]])"
      ]
     },
     "execution_count": 383,
     "metadata": {},
     "output_type": "execute_result"
    }
   ],
   "source": [
    "log_reg.predict_proba(X_test)[:, :][:5]"
   ]
  },
  {
   "cell_type": "code",
   "execution_count": 381,
   "metadata": {},
   "outputs": [
    {
     "data": {
      "text/html": [
       "<div>\n",
       "<style scoped>\n",
       "    .dataframe tbody tr th:only-of-type {\n",
       "        vertical-align: middle;\n",
       "    }\n",
       "\n",
       "    .dataframe tbody tr th {\n",
       "        vertical-align: top;\n",
       "    }\n",
       "\n",
       "    .dataframe thead th {\n",
       "        text-align: right;\n",
       "    }\n",
       "</style>\n",
       "<table border=\"1\" class=\"dataframe\">\n",
       "  <thead>\n",
       "    <tr style=\"text-align: right;\">\n",
       "      <th></th>\n",
       "      <th>TransactionDate</th>\n",
       "      <th>Therapist</th>\n",
       "      <th>Service_Category</th>\n",
       "      <th>Therapist_abigail thomson</th>\n",
       "      <th>Therapist_aera barnette</th>\n",
       "      <th>Therapist_alex meyer</th>\n",
       "      <th>Therapist_alexa primozich</th>\n",
       "      <th>Therapist_alexandra boucher</th>\n",
       "      <th>Therapist_alisa popova</th>\n",
       "      <th>Therapist_alison post</th>\n",
       "      <th>...</th>\n",
       "      <th>Therapist_ty green jr</th>\n",
       "      <th>Therapist_tyler anderson</th>\n",
       "      <th>Therapist_valentina komarova</th>\n",
       "      <th>Therapist_victoria miner</th>\n",
       "      <th>Therapist_wayne trinklein</th>\n",
       "      <th>Therapist_will courtney</th>\n",
       "      <th>Therapist_willow bittner</th>\n",
       "      <th>Therapist_zachary tuthill</th>\n",
       "      <th>Therapist_zachary van ry</th>\n",
       "      <th>clientID</th>\n",
       "    </tr>\n",
       "  </thead>\n",
       "  <tbody>\n",
       "    <tr>\n",
       "      <th>0</th>\n",
       "      <td>16</td>\n",
       "      <td>14</td>\n",
       "      <td>1</td>\n",
       "      <td>0</td>\n",
       "      <td>2</td>\n",
       "      <td>1</td>\n",
       "      <td>0</td>\n",
       "      <td>1</td>\n",
       "      <td>0</td>\n",
       "      <td>1</td>\n",
       "      <td>...</td>\n",
       "      <td>0</td>\n",
       "      <td>1</td>\n",
       "      <td>1</td>\n",
       "      <td>0</td>\n",
       "      <td>0</td>\n",
       "      <td>0</td>\n",
       "      <td>2</td>\n",
       "      <td>1</td>\n",
       "      <td>1</td>\n",
       "      <td>1001.0</td>\n",
       "    </tr>\n",
       "    <tr>\n",
       "      <th>1</th>\n",
       "      <td>1</td>\n",
       "      <td>1</td>\n",
       "      <td>1</td>\n",
       "      <td>0</td>\n",
       "      <td>0</td>\n",
       "      <td>0</td>\n",
       "      <td>0</td>\n",
       "      <td>0</td>\n",
       "      <td>0</td>\n",
       "      <td>0</td>\n",
       "      <td>...</td>\n",
       "      <td>0</td>\n",
       "      <td>0</td>\n",
       "      <td>0</td>\n",
       "      <td>0</td>\n",
       "      <td>0</td>\n",
       "      <td>0</td>\n",
       "      <td>0</td>\n",
       "      <td>0</td>\n",
       "      <td>1</td>\n",
       "      <td>1030.0</td>\n",
       "    </tr>\n",
       "    <tr>\n",
       "      <th>2</th>\n",
       "      <td>2</td>\n",
       "      <td>2</td>\n",
       "      <td>1</td>\n",
       "      <td>0</td>\n",
       "      <td>0</td>\n",
       "      <td>0</td>\n",
       "      <td>0</td>\n",
       "      <td>0</td>\n",
       "      <td>0</td>\n",
       "      <td>0</td>\n",
       "      <td>...</td>\n",
       "      <td>0</td>\n",
       "      <td>0</td>\n",
       "      <td>0</td>\n",
       "      <td>0</td>\n",
       "      <td>0</td>\n",
       "      <td>0</td>\n",
       "      <td>0</td>\n",
       "      <td>0</td>\n",
       "      <td>0</td>\n",
       "      <td>1073.0</td>\n",
       "    </tr>\n",
       "    <tr>\n",
       "      <th>3</th>\n",
       "      <td>3</td>\n",
       "      <td>3</td>\n",
       "      <td>1</td>\n",
       "      <td>0</td>\n",
       "      <td>0</td>\n",
       "      <td>2</td>\n",
       "      <td>0</td>\n",
       "      <td>0</td>\n",
       "      <td>0</td>\n",
       "      <td>0</td>\n",
       "      <td>...</td>\n",
       "      <td>0</td>\n",
       "      <td>0</td>\n",
       "      <td>0</td>\n",
       "      <td>0</td>\n",
       "      <td>0</td>\n",
       "      <td>0</td>\n",
       "      <td>0</td>\n",
       "      <td>0</td>\n",
       "      <td>0</td>\n",
       "      <td>1075.0</td>\n",
       "    </tr>\n",
       "    <tr>\n",
       "      <th>4</th>\n",
       "      <td>1</td>\n",
       "      <td>1</td>\n",
       "      <td>1</td>\n",
       "      <td>0</td>\n",
       "      <td>0</td>\n",
       "      <td>0</td>\n",
       "      <td>0</td>\n",
       "      <td>0</td>\n",
       "      <td>0</td>\n",
       "      <td>0</td>\n",
       "      <td>...</td>\n",
       "      <td>0</td>\n",
       "      <td>0</td>\n",
       "      <td>0</td>\n",
       "      <td>0</td>\n",
       "      <td>0</td>\n",
       "      <td>0</td>\n",
       "      <td>0</td>\n",
       "      <td>0</td>\n",
       "      <td>0</td>\n",
       "      <td>1338.0</td>\n",
       "    </tr>\n",
       "  </tbody>\n",
       "</table>\n",
       "<p>5 rows × 208 columns</p>\n",
       "</div>"
      ],
      "text/plain": [
       "   TransactionDate  Therapist  Service_Category  Therapist_abigail thomson  \\\n",
       "0               16         14                 1                          0   \n",
       "1                1          1                 1                          0   \n",
       "2                2          2                 1                          0   \n",
       "3                3          3                 1                          0   \n",
       "4                1          1                 1                          0   \n",
       "\n",
       "   Therapist_aera barnette  Therapist_alex meyer  Therapist_alexa primozich  \\\n",
       "0                        2                     1                          0   \n",
       "1                        0                     0                          0   \n",
       "2                        0                     0                          0   \n",
       "3                        0                     2                          0   \n",
       "4                        0                     0                          0   \n",
       "\n",
       "   Therapist_alexandra boucher  Therapist_alisa popova  Therapist_alison post  \\\n",
       "0                            1                       0                      1   \n",
       "1                            0                       0                      0   \n",
       "2                            0                       0                      0   \n",
       "3                            0                       0                      0   \n",
       "4                            0                       0                      0   \n",
       "\n",
       "   ...  Therapist_ty green jr  Therapist_tyler anderson  \\\n",
       "0  ...                      0                         1   \n",
       "1  ...                      0                         0   \n",
       "2  ...                      0                         0   \n",
       "3  ...                      0                         0   \n",
       "4  ...                      0                         0   \n",
       "\n",
       "   Therapist_valentina komarova  Therapist_victoria miner  \\\n",
       "0                             1                         0   \n",
       "1                             0                         0   \n",
       "2                             0                         0   \n",
       "3                             0                         0   \n",
       "4                             0                         0   \n",
       "\n",
       "   Therapist_wayne trinklein  Therapist_will courtney  \\\n",
       "0                          0                        0   \n",
       "1                          0                        0   \n",
       "2                          0                        0   \n",
       "3                          0                        0   \n",
       "4                          0                        0   \n",
       "\n",
       "   Therapist_willow bittner  Therapist_zachary tuthill  \\\n",
       "0                         2                          1   \n",
       "1                         0                          0   \n",
       "2                         0                          0   \n",
       "3                         0                          0   \n",
       "4                         0                          0   \n",
       "\n",
       "   Therapist_zachary van ry  clientID  \n",
       "0                         1    1001.0  \n",
       "1                         1    1030.0  \n",
       "2                         0    1073.0  \n",
       "3                         0    1075.0  \n",
       "4                         0    1338.0  \n",
       "\n",
       "[5 rows x 208 columns]"
      ]
     },
     "execution_count": 381,
     "metadata": {},
     "output_type": "execute_result"
    }
   ],
   "source": [
    "X_test.head()"
   ]
  },
  {
   "cell_type": "code",
   "execution_count": 382,
   "metadata": {},
   "outputs": [
    {
     "data": {
      "text/plain": [
       "0    False\n",
       "1     True\n",
       "2     True\n",
       "3    False\n",
       "4     True\n",
       "Name: churn, dtype: bool"
      ]
     },
     "execution_count": 382,
     "metadata": {},
     "output_type": "execute_result"
    }
   ],
   "source": [
    "y_test.head()"
   ]
  },
  {
   "cell_type": "code",
   "execution_count": null,
   "metadata": {},
   "outputs": [],
   "source": []
  }
 ],
 "metadata": {
  "kernelspec": {
   "display_name": "Python 3",
   "language": "python",
   "name": "python3"
  },
  "language_info": {
   "codemirror_mode": {
    "name": "ipython",
    "version": 3
   },
   "file_extension": ".py",
   "mimetype": "text/x-python",
   "name": "python",
   "nbconvert_exporter": "python",
   "pygments_lexer": "ipython3",
   "version": "3.7.3"
  }
 },
 "nbformat": 4,
 "nbformat_minor": 2
}

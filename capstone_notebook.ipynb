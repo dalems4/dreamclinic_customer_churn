{
 "cells": [
  {
   "cell_type": "markdown",
   "metadata": {},
   "source": [
    "# Dreamclinic Client Churn"
   ]
  },
  {
   "cell_type": "code",
   "execution_count": null,
   "metadata": {},
   "outputs": [],
   "source": [
    "import pandas as pd\n",
    "import numpy as np\n",
    "import matplotlib.pyplot as plt\n",
    "import seaborn as sns\n",
    "import sqlalchemy\n"
   ]
  },
  {
   "cell_type": "code",
   "execution_count": null,
   "metadata": {},
   "outputs": [],
   "source": [
    "pep8 = \"0987654321\" * 8"
   ]
  },
  {
   "cell_type": "code",
   "execution_count": null,
   "metadata": {},
   "outputs": [],
   "source": [
    "pep8"
   ]
  },
  {
   "cell_type": "code",
   "execution_count": null,
   "metadata": {},
   "outputs": [],
   "source": [
    "client_df = pd.read_excel(\"~/dales_work/clinic_services_8-1-2016_to_8-3-2019.xlsx\")\n"
   ]
  },
  {
   "cell_type": "code",
   "execution_count": null,
   "metadata": {},
   "outputs": [],
   "source": [
    "client_df.drop('Name_Full', axis=1, inplace=True)\n",
    "\n",
    "# remove rows where HrsWorked = 0 because they are just used by the front desk staff\n",
    "client_df  = client_df[client_df['HrsWorked'] != 0]\n",
    "\n",
    "# fill NaN values in 'Service_Category with 'Massage'\n",
    "client_df['Service_Category'].fillna(value='Massage', inplace=True)\n",
    "\n",
    "# remove white space from Therapist names\n",
    "client_df['Therapist'] = client_df['Therapist'].str.strip()\n",
    "\n",
    "# make all therapist names lowercase to avoid typos in data entry\n",
    "client_df['Therapist'] = client_df['Therapist'].str.lower()\n",
    "\n",
    "# make all therapist names lowercase to avoid typos in data entry\n",
    "client_df['Therapist'] = client_df['Therapist'].str.lower()\n",
    "\n",
    "# find and replace nicknames with domain knowledge\n",
    "client_df = client_df.replace('abby thomson', 'abigail thomson')\n",
    "\n",
    "#Drop Address_City and Addres_State Columns from Dataframe\n",
    "client_df.drop(['Address_City', 'Address_State'], axis=1, inplace=True)"
   ]
  },
  {
   "cell_type": "code",
   "execution_count": null,
   "metadata": {},
   "outputs": [],
   "source": [
    "# Drop rows without a clientID\n",
    "client_df.dropna(subset=['clientID'], inplace=True)"
   ]
  },
  {
   "cell_type": "code",
   "execution_count": null,
   "metadata": {},
   "outputs": [],
   "source": [
    "# Adds year and month columns to dataframe\n",
    "client_df['Year'] = client_df['TransactionDate'].map(lambda x: x.year)\n",
    "\n",
    "client_df['Month'] = client_df['TransactionDate'].map(lambda x: x.month)"
   ]
  },
  {
   "cell_type": "code",
   "execution_count": null,
   "metadata": {},
   "outputs": [],
   "source": [
    "# creates a Dataframe that groups by year and month and counts unique clients\n",
    "counts_by_month_df = client_df.groupby(['Year', 'Month']).nunique()"
   ]
  },
  {
   "cell_type": "code",
   "execution_count": null,
   "metadata": {
    "scrolled": true
   },
   "outputs": [],
   "source": [
    "# Cleans the counts_by_month_df to only include data that is applicaple to it's EDA\n",
    "counts_by_month_df.rename(columns={\"clientID\" : \"unique_client_count\", \n",
    "                                   \"Therapist\" : \"therapists_employed\", \n",
    "                                   \"Zipcode\" :\"zipcodes_reached\"}, inplace=True)"
   ]
  },
  {
   "cell_type": "code",
   "execution_count": null,
   "metadata": {
    "scrolled": true
   },
   "outputs": [],
   "source": [
    "#Drop unnessesary columns\n",
    "counts_by_month_df.drop([\"TransactionDate\", \"Invoice_Category\", \"HrsWorked\", \"Year\", \"Month\"], axis=1, inplace=True)"
   ]
  },
  {
   "cell_type": "code",
   "execution_count": null,
   "metadata": {},
   "outputs": [],
   "source": [
    "counts_by_month_df.head()"
   ]
  },
  {
   "cell_type": "code",
   "execution_count": null,
   "metadata": {},
   "outputs": [],
   "source": [
    "months = client_df.TransactionDate.dt.to_period(\"M\")"
   ]
  },
  {
   "cell_type": "code",
   "execution_count": null,
   "metadata": {},
   "outputs": [],
   "source": [
    "g = client_df.groupby(per)"
   ]
  },
  {
   "cell_type": "code",
   "execution_count": null,
   "metadata": {
    "scrolled": true
   },
   "outputs": [],
   "source": [
    "client_count_df = g.nunique()  #"
   ]
  },
  {
   "cell_type": "code",
   "execution_count": null,
   "metadata": {},
   "outputs": [],
   "source": [
    "client_count_df.drop('TransactionDate', axis=1, inplace= True)"
   ]
  },
  {
   "cell_type": "code",
   "execution_count": null,
   "metadata": {},
   "outputs": [],
   "source": [
    "client_count_df.reset_index(inplace=True)"
   ]
  },
  {
   "cell_type": "code",
   "execution_count": null,
   "metadata": {},
   "outputs": [],
   "source": [
    "client_count_df[\"client_count\"] = client_count_df['clientID']"
   ]
  },
  {
   "cell_type": "code",
   "execution_count": null,
   "metadata": {},
   "outputs": [],
   "source": [
    "client_count_df.drop('clientID', axis=1, inplace=True)"
   ]
  },
  {
   "cell_type": "code",
   "execution_count": null,
   "metadata": {},
   "outputs": [],
   "source": [
    "client_count_df['TransactionDate'] = client_count_df['TransactionDate'].astype('str')"
   ]
  },
  {
   "cell_type": "code",
   "execution_count": null,
   "metadata": {},
   "outputs": [],
   "source": [
    "client_count_df.rename(columns={\"clientID\" : \"unique_client_count\", \n",
    "                                   \"Therapist\" : \"therapists_employed\", \n",
    "                                   \"Zipcode\" :\"zipcodes_reached\"}, inplace=True)\n"
   ]
  },
  {
   "cell_type": "code",
   "execution_count": null,
   "metadata": {},
   "outputs": [],
   "source": [
    "client_count_df.drop([\"Invoice_Category\", \"HrsWorked\", \"Year\", \"Month\"], axis=1, inplace=True)\n",
    "client_count_df"
   ]
  },
  {
   "cell_type": "code",
   "execution_count": null,
   "metadata": {},
   "outputs": [],
   "source": [
    "client_count_df.drop(['Service_Category'],axis=1,  inplace=True)"
   ]
  },
  {
   "cell_type": "code",
   "execution_count": null,
   "metadata": {},
   "outputs": [],
   "source": [
    "client_count_df.head()"
   ]
  },
  {
   "cell_type": "markdown",
   "metadata": {},
   "source": [
    "# Graph of unique client counts per month from August, 2016"
   ]
  },
  {
   "cell_type": "code",
   "execution_count": null,
   "metadata": {},
   "outputs": [],
   "source": [
    "# the dip in Febuary of 2019 is explained by the 1 week snow closure of Seattle\n",
    "x = client_count_df['TransactionDate']\n",
    "y = client_count_df['client_count']\n",
    "\n",
    "\n",
    "fig, ax = plt.subplots(figsize=(30,22))\n",
    "sns.barplot(x= client_count_df['TransactionDate'], \n",
    "             y= client_count_df['client_count'],\n",
    "             ax=ax);\n"
   ]
  },
  {
   "cell_type": "code",
   "execution_count": null,
   "metadata": {},
   "outputs": [],
   "source": [
    "service_given_df = g.count()"
   ]
  },
  {
   "cell_type": "code",
   "execution_count": null,
   "metadata": {},
   "outputs": [],
   "source": [
    "service_given_df.drop(['TransactionDate', 'Address_Zip'], axis=1, inplace=True)"
   ]
  },
  {
   "cell_type": "code",
   "execution_count": null,
   "metadata": {},
   "outputs": [],
   "source": [
    "service_given_df.reset_index(inplace=True)"
   ]
  },
  {
   "cell_type": "code",
   "execution_count": null,
   "metadata": {},
   "outputs": [],
   "source": [
    "service_given_df.rename(columns={'clientID': 'services_performed'}, inplace=True)"
   ]
  },
  {
   "cell_type": "code",
   "execution_count": null,
   "metadata": {},
   "outputs": [],
   "source": [
    "services_given_df = service_given_df[[\"TransactionDate\", \"services_performed\"]]\n"
   ]
  },
  {
   "cell_type": "code",
   "execution_count": null,
   "metadata": {},
   "outputs": [],
   "source": [
    "services_given_df = services_given_df.rename(columns={\"TransactionDate\" : \"month\"})"
   ]
  },
  {
   "cell_type": "code",
   "execution_count": null,
   "metadata": {
    "scrolled": true
   },
   "outputs": [],
   "source": [
    "x = services_given_df['month']\n",
    "y = services_given_df['services_performed']\n",
    "\n",
    "\n",
    "fig, ax = plt.subplots(figsize=(30,22))\n",
    "sns.barplot(x= service_given_df['TransactionDate'], \n",
    "             y= service_given_df['services_performed'],\n",
    "             ax=ax);"
   ]
  },
  {
   "cell_type": "code",
   "execution_count": null,
   "metadata": {},
   "outputs": [],
   "source": []
  },
  {
   "cell_type": "code",
   "execution_count": null,
   "metadata": {},
   "outputs": [],
   "source": []
  },
  {
   "cell_type": "markdown",
   "metadata": {},
   "source": [
    "# How many sessions did the average client from 2016-08 to 2019-08 receive?"
   ]
  },
  {
   "cell_type": "code",
   "execution_count": null,
   "metadata": {},
   "outputs": [],
   "source": [
    "session_count = client_df.groupby('clientID').nunique()['TransactionDate']"
   ]
  },
  {
   "cell_type": "markdown",
   "metadata": {},
   "source": [
    "The average number of sessions a client recieves is ~5.5.\n",
    "\n",
    "The highest number of massages received is 175 by the CEO of the company\n"
   ]
  },
  {
   "cell_type": "code",
   "execution_count": 89,
   "metadata": {},
   "outputs": [
    {
     "data": {
      "image/png": "[encoded data removed]",
      "text/plain": [
       "<Figure size 432x288 with 1 Axes>"
      ]
     },
     "metadata": {
      "needs_background": "light"
     },
     "output_type": "display_data"
    }
   ],
   "source": [
    "fig, ax = plt.subplots()\n",
    "ax.hist(session_count, bins=10, range=(1,10))\n",
    "plt.xlabel('# of clients')\n",
    "plt.ylabel('# of sessions')\n",
    "plt.title('Count of number of session');"
   ]
  },
  {
   "cell_type": "code",
   "execution_count": null,
   "metadata": {},
   "outputs": [],
   "source": [
    "client_df.groupby('clientID').nunique()"
   ]
  },
  {
   "cell_type": "markdown",
   "metadata": {},
   "source": [
    "## The average client get 5.5 sessions and sees 2.5 different therapists.\n",
    "## People tend to get 1.25 hour sessions which is almost split between the 1h and 1.5h offerings we have."
   ]
  },
  {
   "cell_type": "code",
   "execution_count": 90,
   "metadata": {},
   "outputs": [
    {
     "data": {
      "text/plain": [
       "TransactionDate     5.567647\n",
       "clientID            1.000000\n",
       "Therapist           2.577686\n",
       "Address_Zip         0.920891\n",
       "Invoice_Category    1.090646\n",
       "Service_Category    1.075064\n",
       "HrsWorked           1.242721\n",
       "Year                1.514458\n",
       "Month               2.887429\n",
       "dtype: float64"
      ]
     },
     "execution_count": 90,
     "metadata": {},
     "output_type": "execute_result"
    }
   ],
   "source": [
    "client_df.groupby('clientID').nunique().mean()"
   ]
  },
  {
   "cell_type": "code",
   "execution_count": null,
   "metadata": {},
   "outputs": [],
   "source": []
  }
 ],
 "metadata": {
  "kernelspec": {
   "display_name": "Python 3",
   "language": "python",
   "name": "python3"
  },
  "language_info": {
   "codemirror_mode": {
    "name": "ipython",
    "version": 3
   },
   "file_extension": ".py",
   "mimetype": "text/x-python",
   "name": "python",
   "nbconvert_exporter": "python",
   "pygments_lexer": "ipython3",
   "version": "3.7.3"
  }
 },
 "nbformat": 4,
 "nbformat_minor": 2
}

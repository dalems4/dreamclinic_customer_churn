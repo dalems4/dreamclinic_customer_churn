{
 "cells": [
  {
   "cell_type": "markdown",
   "metadata": {},
   "source": [
    "# Dreamclinic Client Churn"
   ]
  },
  {
   "cell_type": "code",
   "execution_count": 57,
   "metadata": {},
   "outputs": [
    {
     "name": "stdout",
     "output_type": "stream",
     "text": [
      "The autoreload extension is already loaded. To reload it, use:\n",
      "  %reload_ext autoreload\n"
     ]
    }
   ],
   "source": [
    "%load_ext autoreload\n",
    "%autoreload 2\n",
    "\n",
    "import pandas as pd\n",
    "import numpy as np\n",
    "import matplotlib.pyplot as plt\n",
    "import seaborn as sns\n",
    "import sqlalchemy\n",
    "import datetime as dt\n",
    "from sklearn.linear_model import LogisticRegression\n",
    "from dreamclinic_churn_functions import groupby_time, clean_df, unique_client_agg, sum_client_agg, clean_agg_df, line_plot, session_count_graph\n",
    "import pickle\n",
    "from sklearn.preprocessing import OneHotEncoder"
   ]
  },
  {
   "cell_type": "code",
   "execution_count": 2,
   "metadata": {},
   "outputs": [],
   "source": [
    "client_df = pd.read_pickle('client_df.pkl')"
   ]
  },
  {
   "cell_type": "code",
   "execution_count": 3,
   "metadata": {
    "scrolled": true
   },
   "outputs": [
    {
     "name": "stderr",
     "output_type": "stream",
     "text": [
      "/Users/flatironschool/dales_work/capstone/dreamclinc_customer_churn/dreamclinic_churn_functions.py:14: SettingWithCopyWarning: \n",
      "A value is trying to be set on a copy of a slice from a DataFrame.\n",
      "Try using .loc[row_indexer,col_indexer] = value instead\n",
      "\n",
      "See the caveats in the documentation: http://pandas.pydata.org/pandas-docs/stable/indexing.html#indexing-view-versus-copy\n",
      "  df['Service_Catagory'] = df['Service_Category'].fillna(value='Massage')\n",
      "/Users/flatironschool/dales_work/capstone/dreamclinc_customer_churn/dreamclinic_churn_functions.py:16: SettingWithCopyWarning: \n",
      "A value is trying to be set on a copy of a slice from a DataFrame.\n",
      "Try using .loc[row_indexer,col_indexer] = value instead\n",
      "\n",
      "See the caveats in the documentation: http://pandas.pydata.org/pandas-docs/stable/indexing.html#indexing-view-versus-copy\n",
      "  df['Therapist'] = df['Therapist'].str.strip()\n",
      "/Users/flatironschool/dales_work/capstone/dreamclinc_customer_churn/dreamclinic_churn_functions.py:18: SettingWithCopyWarning: \n",
      "A value is trying to be set on a copy of a slice from a DataFrame.\n",
      "Try using .loc[row_indexer,col_indexer] = value instead\n",
      "\n",
      "See the caveats in the documentation: http://pandas.pydata.org/pandas-docs/stable/indexing.html#indexing-view-versus-copy\n",
      "  df['Therapist'] = df['Therapist'].str.lower()\n"
     ]
    }
   ],
   "source": [
    "clean_client_df = clean_df(client_df)"
   ]
  },
  {
   "cell_type": "code",
   "execution_count": 4,
   "metadata": {},
   "outputs": [],
   "source": [
    "g = groupby_time(clean_client_df, offset_alias='M')"
   ]
  },
  {
   "cell_type": "code",
   "execution_count": 5,
   "metadata": {},
   "outputs": [],
   "source": [
    "client_count_df = unique_client_agg(g)"
   ]
  },
  {
   "cell_type": "code",
   "execution_count": 6,
   "metadata": {
    "scrolled": true
   },
   "outputs": [],
   "source": [
    "client_count_df = clean_agg_df(client_count_df)"
   ]
  },
  {
   "cell_type": "code",
   "execution_count": 7,
   "metadata": {},
   "outputs": [
    {
     "data": {
      "text/html": [
       "<div>\n",
       "<style scoped>\n",
       "    .dataframe tbody tr th:only-of-type {\n",
       "        vertical-align: middle;\n",
       "    }\n",
       "\n",
       "    .dataframe tbody tr th {\n",
       "        vertical-align: top;\n",
       "    }\n",
       "\n",
       "    .dataframe thead th {\n",
       "        text-align: right;\n",
       "    }\n",
       "</style>\n",
       "<table border=\"1\" class=\"dataframe\">\n",
       "  <thead>\n",
       "    <tr style=\"text-align: right;\">\n",
       "      <th></th>\n",
       "      <th>TransactionDate</th>\n",
       "      <th>therapists_employed</th>\n",
       "      <th>Address_Zip</th>\n",
       "      <th>Service_Catagory</th>\n",
       "      <th>month</th>\n",
       "      <th>client_count</th>\n",
       "    </tr>\n",
       "  </thead>\n",
       "  <tbody>\n",
       "    <tr>\n",
       "      <th>0</th>\n",
       "      <td>2016-08</td>\n",
       "      <td>59</td>\n",
       "      <td>163</td>\n",
       "      <td>6</td>\n",
       "      <td>2016-08</td>\n",
       "      <td>1651</td>\n",
       "    </tr>\n",
       "    <tr>\n",
       "      <th>1</th>\n",
       "      <td>2016-09</td>\n",
       "      <td>55</td>\n",
       "      <td>166</td>\n",
       "      <td>5</td>\n",
       "      <td>2016-09</td>\n",
       "      <td>1670</td>\n",
       "    </tr>\n",
       "    <tr>\n",
       "      <th>2</th>\n",
       "      <td>2016-10</td>\n",
       "      <td>54</td>\n",
       "      <td>153</td>\n",
       "      <td>5</td>\n",
       "      <td>2016-10</td>\n",
       "      <td>1670</td>\n",
       "    </tr>\n",
       "    <tr>\n",
       "      <th>3</th>\n",
       "      <td>2016-11</td>\n",
       "      <td>56</td>\n",
       "      <td>158</td>\n",
       "      <td>6</td>\n",
       "      <td>2016-11</td>\n",
       "      <td>1604</td>\n",
       "    </tr>\n",
       "    <tr>\n",
       "      <th>4</th>\n",
       "      <td>2016-12</td>\n",
       "      <td>57</td>\n",
       "      <td>155</td>\n",
       "      <td>5</td>\n",
       "      <td>2016-12</td>\n",
       "      <td>1664</td>\n",
       "    </tr>\n",
       "  </tbody>\n",
       "</table>\n",
       "</div>"
      ],
      "text/plain": [
       "  TransactionDate  therapists_employed  Address_Zip  Service_Catagory  \\\n",
       "0         2016-08                   59          163                 6   \n",
       "1         2016-09                   55          166                 5   \n",
       "2         2016-10                   54          153                 5   \n",
       "3         2016-11                   56          158                 6   \n",
       "4         2016-12                   57          155                 5   \n",
       "\n",
       "     month  client_count  \n",
       "0  2016-08          1651  \n",
       "1  2016-09          1670  \n",
       "2  2016-10          1670  \n",
       "3  2016-11          1604  \n",
       "4  2016-12          1664  "
      ]
     },
     "execution_count": 7,
     "metadata": {},
     "output_type": "execute_result"
    }
   ],
   "source": [
    "client_count_df.head()"
   ]
  },
  {
   "cell_type": "markdown",
   "metadata": {},
   "source": [
    "# Graph of unique client counts per month from August, 2016"
   ]
  },
  {
   "cell_type": "code",
   "execution_count": 8,
   "metadata": {},
   "outputs": [
    {
     "data": {
      "image/png": "[encoded data removed]",
      "text/plain": [
       "<Figure size 2160x504 with 1 Axes>"
      ]
     },
     "metadata": {
      "needs_background": "light"
     },
     "output_type": "display_data"
    }
   ],
   "source": [
    "line_plot(df=client_count_df, \n",
    "          title='Unique Clients Served Per Month',\n",
    "          x_label='Month',\n",
    "          y_label='Unique Clients',\n",
    "          x_column='month',\n",
    "          y_column='client_count')"
   ]
  },
  {
   "cell_type": "code",
   "execution_count": 9,
   "metadata": {},
   "outputs": [
    {
     "data": {
      "image/png": "[encoded data removed]",
      "text/plain": [
       "<Figure size 2160x504 with 1 Axes>"
      ]
     },
     "metadata": {
      "needs_background": "light"
     },
     "output_type": "display_data"
    }
   ],
   "source": [
    "line_plot(df=client_count_df, \n",
    "          title='Unique Zipcodes Served Per Month', \n",
    "          x_label='Month', \n",
    "          y_label='Unique Clients',\n",
    "          x_column='month',\n",
    "          y_column='Address_Zip')"
   ]
  },
  {
   "cell_type": "code",
   "execution_count": 10,
   "metadata": {},
   "outputs": [],
   "source": [
    "service_given_df = sum_client_agg(g)"
   ]
  },
  {
   "cell_type": "code",
   "execution_count": 11,
   "metadata": {},
   "outputs": [
    {
     "data": {
      "text/html": [
       "<div>\n",
       "<style scoped>\n",
       "    .dataframe tbody tr th:only-of-type {\n",
       "        vertical-align: middle;\n",
       "    }\n",
       "\n",
       "    .dataframe tbody tr th {\n",
       "        vertical-align: top;\n",
       "    }\n",
       "\n",
       "    .dataframe thead th {\n",
       "        text-align: right;\n",
       "    }\n",
       "</style>\n",
       "<table border=\"1\" class=\"dataframe\">\n",
       "  <thead>\n",
       "    <tr style=\"text-align: right;\">\n",
       "      <th></th>\n",
       "      <th>TransactionDate</th>\n",
       "      <th>clientID</th>\n",
       "      <th>Therapist</th>\n",
       "      <th>Address_Zip</th>\n",
       "      <th>Service_Category</th>\n",
       "      <th>HrsWorked</th>\n",
       "      <th>Service_Catagory</th>\n",
       "    </tr>\n",
       "    <tr>\n",
       "      <th>TransactionDate</th>\n",
       "      <th></th>\n",
       "      <th></th>\n",
       "      <th></th>\n",
       "      <th></th>\n",
       "      <th></th>\n",
       "      <th></th>\n",
       "      <th></th>\n",
       "    </tr>\n",
       "  </thead>\n",
       "  <tbody>\n",
       "    <tr>\n",
       "      <th>2016-08</th>\n",
       "      <td>2576</td>\n",
       "      <td>2576</td>\n",
       "      <td>2576</td>\n",
       "      <td>2519</td>\n",
       "      <td>1302</td>\n",
       "      <td>2576</td>\n",
       "      <td>2576</td>\n",
       "    </tr>\n",
       "    <tr>\n",
       "      <th>2016-09</th>\n",
       "      <td>2607</td>\n",
       "      <td>2607</td>\n",
       "      <td>2607</td>\n",
       "      <td>2567</td>\n",
       "      <td>1322</td>\n",
       "      <td>2607</td>\n",
       "      <td>2607</td>\n",
       "    </tr>\n",
       "    <tr>\n",
       "      <th>2016-10</th>\n",
       "      <td>2662</td>\n",
       "      <td>2662</td>\n",
       "      <td>2662</td>\n",
       "      <td>2621</td>\n",
       "      <td>1280</td>\n",
       "      <td>2662</td>\n",
       "      <td>2662</td>\n",
       "    </tr>\n",
       "    <tr>\n",
       "      <th>2016-11</th>\n",
       "      <td>2648</td>\n",
       "      <td>2648</td>\n",
       "      <td>2648</td>\n",
       "      <td>2622</td>\n",
       "      <td>1172</td>\n",
       "      <td>2648</td>\n",
       "      <td>2648</td>\n",
       "    </tr>\n",
       "    <tr>\n",
       "      <th>2016-12</th>\n",
       "      <td>2772</td>\n",
       "      <td>2772</td>\n",
       "      <td>2772</td>\n",
       "      <td>2729</td>\n",
       "      <td>1206</td>\n",
       "      <td>2772</td>\n",
       "      <td>2772</td>\n",
       "    </tr>\n",
       "  </tbody>\n",
       "</table>\n",
       "</div>"
      ],
      "text/plain": [
       "                 TransactionDate  clientID  Therapist  Address_Zip  \\\n",
       "TransactionDate                                                      \n",
       "2016-08                     2576      2576       2576         2519   \n",
       "2016-09                     2607      2607       2607         2567   \n",
       "2016-10                     2662      2662       2662         2621   \n",
       "2016-11                     2648      2648       2648         2622   \n",
       "2016-12                     2772      2772       2772         2729   \n",
       "\n",
       "                 Service_Category  HrsWorked  Service_Catagory  \n",
       "TransactionDate                                                 \n",
       "2016-08                      1302       2576              2576  \n",
       "2016-09                      1322       2607              2607  \n",
       "2016-10                      1280       2662              2662  \n",
       "2016-11                      1172       2648              2648  \n",
       "2016-12                      1206       2772              2772  "
      ]
     },
     "execution_count": 11,
     "metadata": {},
     "output_type": "execute_result"
    }
   ],
   "source": [
    "service_given_df.head()"
   ]
  },
  {
   "cell_type": "code",
   "execution_count": 12,
   "metadata": {},
   "outputs": [],
   "source": [
    "service_given_df = clean_agg_df(service_given_df)"
   ]
  },
  {
   "cell_type": "code",
   "execution_count": 13,
   "metadata": {
    "scrolled": true
   },
   "outputs": [
    {
     "data": {
      "image/png": "[encoded data removed]",
      "text/plain": [
       "<Figure size 2160x504 with 1 Axes>"
      ]
     },
     "metadata": {
      "needs_background": "light"
     },
     "output_type": "display_data"
    }
   ],
   "source": [
    "line_plot(df=service_given_df, \n",
    "          title='Total Clients Served Per Month', \n",
    "          x_label='Month', \n",
    "          y_label='# of Clients',\n",
    "          x_column='month',\n",
    "          y_column='Service_Catagory')"
   ]
  },
  {
   "cell_type": "markdown",
   "metadata": {},
   "source": [
    "The average number of sessions a client recieves is ~5.5.\n",
    "\n",
    "The highest number of massages received is 175 by the CEO of the company\n"
   ]
  },
  {
   "cell_type": "code",
   "execution_count": 14,
   "metadata": {},
   "outputs": [],
   "source": [
    "session_count = client_df.groupby('clientID').nunique()['TransactionDate']"
   ]
  },
  {
   "cell_type": "code",
   "execution_count": 15,
   "metadata": {},
   "outputs": [
    {
     "data": {
      "text/plain": [
       "<function matplotlib.pyplot.show(*args, **kw)>"
      ]
     },
     "execution_count": 15,
     "metadata": {},
     "output_type": "execute_result"
    },
    {
     "data": {
      "image/png": "[encoded data removed]",
      "text/plain": [
       "<Figure size 432x288 with 1 Axes>"
      ]
     },
     "metadata": {
      "needs_background": "light"
     },
     "output_type": "display_data"
    }
   ],
   "source": [
    "session_count_graph(session_count=session_count, min_sessions=1, max_sessions=10)"
   ]
  },
  {
   "cell_type": "markdown",
   "metadata": {},
   "source": [
    "## The average client get 5.5 sessions and sees 2.5 different therapists.\n",
    "## People tend to get 1.25 hour sessions which is almost split between the 1h and 1.5h offerings we have."
   ]
  },
  {
   "cell_type": "code",
   "execution_count": 16,
   "metadata": {},
   "outputs": [
    {
     "data": {
      "text/plain": [
       "TransactionDate     5.462503\n",
       "clientID            1.000000\n",
       "Therapist           2.605174\n",
       "Address_City        0.907621\n",
       "Address_State       0.907481\n",
       "Address_Zip         0.898439\n",
       "Invoice_Category    1.119506\n",
       "Service_Category    0.887579\n",
       "HrsWorked           1.375670\n",
       "dtype: float64"
      ]
     },
     "execution_count": 16,
     "metadata": {},
     "output_type": "execute_result"
    }
   ],
   "source": [
    "client_df.groupby('clientID').nunique().mean()"
   ]
  },
  {
   "cell_type": "code",
   "execution_count": 17,
   "metadata": {},
   "outputs": [],
   "source": [
    "from dreamclinic_churn_functions import temporal_split"
   ]
  },
  {
   "cell_type": "markdown",
   "metadata": {},
   "source": [
    "# Mark Clients with Churned or Not Churned for further modeling"
   ]
  },
  {
   "cell_type": "code",
   "execution_count": 18,
   "metadata": {},
   "outputs": [
    {
     "name": "stderr",
     "output_type": "stream",
     "text": [
      "/Users/flatironschool/dales_work/capstone/dreamclinc_customer_churn/dreamclinic_churn_functions.py:116: SettingWithCopyWarning: \n",
      "A value is trying to be set on a copy of a slice from a DataFrame.\n",
      "Try using .loc[row_indexer,col_indexer] = value instead\n",
      "\n",
      "See the caveats in the documentation: http://pandas.pydata.org/pandas-docs/stable/indexing.html#indexing-view-versus-copy\n",
      "  not_churn_df['churn'] = False\n"
     ]
    }
   ],
   "source": [
    "churn_df = temporal_split(df=client_df)"
   ]
  },
  {
   "cell_type": "code",
   "execution_count": 19,
   "metadata": {},
   "outputs": [],
   "source": [
    "churn_df['Service_Category'].replace(np.nan, 'Massage', inplace=True)"
   ]
  },
  {
   "cell_type": "code",
   "execution_count": 64,
   "metadata": {},
   "outputs": [],
   "source": [
    "cleaned_churn_df = churn_df.dropna()"
   ]
  },
  {
   "cell_type": "code",
   "execution_count": 58,
   "metadata": {},
   "outputs": [],
   "source": [
    "ohe = OneHotEncoder()"
   ]
  },
  {
   "cell_type": "code",
   "execution_count": 71,
   "metadata": {},
   "outputs": [],
   "source": [
    "# test_df = test_df.dropna()\n",
    "# train_df = train_df.dropna()"
   ]
  },
  {
   "cell_type": "code",
   "execution_count": 74,
   "metadata": {},
   "outputs": [
    {
     "data": {
      "text/plain": [
       "OneHotEncoder(categorical_features=None, categories=None,\n",
       "       dtype=<class 'numpy.float64'>, handle_unknown='error',\n",
       "       n_values=None, sparse=True)"
      ]
     },
     "execution_count": 74,
     "metadata": {},
     "output_type": "execute_result"
    }
   ],
   "source": [
    "ohe.fit(train_df[['Therapist', 'Address_Zip']])"
   ]
  },
  {
   "cell_type": "code",
   "execution_count": 75,
   "metadata": {},
   "outputs": [],
   "source": [
    "ohe_train_df = ohe.transform(train_df[['Therapist', 'Address_Zip']]).todense()"
   ]
  },
  {
   "cell_type": "code",
   "execution_count": 82,
   "metadata": {
    "scrolled": true
   },
   "outputs": [],
   "source": [
    "ohe_therapist_zip_df = pd.DataFrame(ohe_train_df, columns=ohe.get_feature_names())"
   ]
  },
  {
   "cell_type": "code",
   "execution_count": 83,
   "metadata": {},
   "outputs": [
    {
     "data": {
      "text/plain": [
       "Index(['x0_Abby Thomson', 'x0_Abigail Thomson', 'x0_Alexa Primozich',\n",
       "       'x0_Alexandra Boucher', 'x0_Alisa Popova', 'x0_Alison Post',\n",
       "       'x0_Amanda Hand', 'x0_Amanda Keen', 'x0_Amanda Scott', 'x0_Amy Ross',\n",
       "       ...\n",
       "       'x1_UK', 'x1_V1Z 2T7', 'x1_V6B0E6', 'x1_V6J2E6', 'x1_V7L3E8',\n",
       "       'x1_V7V2H8', 'x1_V8P1A5', 'x1_VIY6Y7', 'x1_VSK 153 Canada', 'x1_WA'],\n",
       "      dtype='object', length=1647)"
      ]
     },
     "execution_count": 83,
     "metadata": {},
     "output_type": "execute_result"
    }
   ],
   "source": [
    "ohe_therapist_zip_df.columns"
   ]
  },
  {
   "cell_type": "code",
   "execution_count": null,
   "metadata": {},
   "outputs": [],
   "source": []
  },
  {
   "cell_type": "code",
   "execution_count": null,
   "metadata": {},
   "outputs": [],
   "source": []
  },
  {
   "cell_type": "code",
   "execution_count": null,
   "metadata": {},
   "outputs": [],
   "source": []
  },
  {
   "cell_type": "code",
   "execution_count": null,
   "metadata": {},
   "outputs": [],
   "source": []
  },
  {
   "cell_type": "code",
   "execution_count": null,
   "metadata": {},
   "outputs": [],
   "source": []
  },
  {
   "cell_type": "code",
   "execution_count": null,
   "metadata": {},
   "outputs": [],
   "source": []
  },
  {
   "cell_type": "code",
   "execution_count": 20,
   "metadata": {},
   "outputs": [],
   "source": [
    "from sklearn.linear_model import LogisticRegression"
   ]
  },
  {
   "cell_type": "code",
   "execution_count": 21,
   "metadata": {},
   "outputs": [],
   "source": [
    "def temporal_test_split(churn_df,\n",
    "                        start_year=2018, \n",
    "                        start_month=12, \n",
    "                        start_day=1, \n",
    "                        end_year=2019, \n",
    "                        end_month=5, \n",
    "                        end_day=31):\n",
    "    \n",
    "    \"\"\"needs churn_df, outputs temporal test_df for train_test_split\"\"\"# Temporal test split\n",
    "    start = churn_df['TransactionDate'].searchsorted(dt.datetime(start_year, start_month, start_day))\n",
    "    end = churn_df['TransactionDate'].searchsorted(dt.datetime(end_year, end_month, end_day))\n",
    "    test_df = churn_df.iloc[start:end]\n",
    "    return test_df\n",
    "test_df = temporal_test_split(churn_df)"
   ]
  },
  {
   "cell_type": "code",
   "execution_count": 22,
   "metadata": {
    "scrolled": true
   },
   "outputs": [],
   "source": [
    "def temporal_train_split(churn_df, \n",
    "                         end_year=2018, \n",
    "                         end_month=11, \n",
    "                         end_day=30):\n",
    "    #Temporal train split\n",
    "    end = churn_df['TransactionDate'].searchsorted(dt.datetime(end_year, end_month, end_day))\n",
    "    train_df = churn_df.iloc[:end]\n",
    "    return train_df\n",
    "train_df = temporal_train_split(churn_df)"
   ]
  },
  {
   "cell_type": "code",
   "execution_count": 23,
   "metadata": {},
   "outputs": [],
   "source": [
    "def aggregate(df, unique_col='clientID', to_aggregate=['TransactionDate', 'Therapist', 'Service_Category']):\n",
    "    aggregated_df = df.groupby(unique_col).nunique()\n",
    "    aggregated_df = aggregated_df[to_aggregate]\n",
    "    return aggregated_df\n",
    "\n",
    "train_agg_df = aggregate(train_df)\n",
    "test_agg_df = aggregate(test_df)"
   ]
  },
  {
   "cell_type": "code",
   "execution_count": 24,
   "metadata": {},
   "outputs": [],
   "source": [
    "churn_df_id_churn = churn_df[['clientID', \n",
    "                              'churn']]"
   ]
  },
  {
   "cell_type": "code",
   "execution_count": 25,
   "metadata": {},
   "outputs": [
    {
     "name": "stderr",
     "output_type": "stream",
     "text": [
      "/anaconda3/lib/python3.7/site-packages/ipykernel_launcher.py:2: SettingWithCopyWarning: \n",
      "A value is trying to be set on a copy of a slice from a DataFrame\n",
      "\n",
      "See the caveats in the documentation: http://pandas.pydata.org/pandas-docs/stable/indexing.html#indexing-view-versus-copy\n",
      "  \n"
     ]
    }
   ],
   "source": [
    "# churn or not df for all client IDS, useful for merging\n",
    "churn_df_id_churn.drop_duplicates(inplace=True)"
   ]
  },
  {
   "cell_type": "code",
   "execution_count": 26,
   "metadata": {},
   "outputs": [],
   "source": [
    "test_merge_df = test_agg_df.merge(churn_df_id_churn, \n",
    "                                    how='inner', \n",
    "                                    right_on='clientID', \n",
    "                                    left_index=True)\n",
    "test_merge_df.reset_index(inplace=True)\n",
    "test_merge_df.drop('index', axis=1, inplace=True)"
   ]
  },
  {
   "cell_type": "code",
   "execution_count": 27,
   "metadata": {},
   "outputs": [],
   "source": [
    "train_merge_df = train_agg_df.merge(churn_df_id_churn, \n",
    "                                      how='inner', \n",
    "                                      right_on='clientID', \n",
    "                                      left_index=True)\n",
    "train_merge_df.reset_index(inplace=True)\n",
    "train_merge_df.drop('index', axis=1, inplace=True)\n",
    "train_target = train_merge_df['churn']"
   ]
  },
  {
   "cell_type": "code",
   "execution_count": 28,
   "metadata": {},
   "outputs": [],
   "source": [
    "X_train = train_merge_df[['TransactionDate', 'Therapist', 'Service_Category']]\n",
    "y_train = train_merge_df['churn']\n",
    "X_test =  test_merge_df[['TransactionDate', 'Therapist', 'Service_Category']]\n",
    "y_test = test_merge_df['churn']"
   ]
  },
  {
   "cell_type": "code",
   "execution_count": 29,
   "metadata": {},
   "outputs": [],
   "source": [
    "log_reg = LogisticRegression()"
   ]
  },
  {
   "cell_type": "code",
   "execution_count": 30,
   "metadata": {},
   "outputs": [
    {
     "name": "stderr",
     "output_type": "stream",
     "text": [
      "/anaconda3/lib/python3.7/site-packages/sklearn/linear_model/logistic.py:433: FutureWarning: Default solver will be changed to 'lbfgs' in 0.22. Specify a solver to silence this warning.\n",
      "  FutureWarning)\n"
     ]
    },
    {
     "data": {
      "text/plain": [
       "LogisticRegression(C=1.0, class_weight=None, dual=False, fit_intercept=True,\n",
       "          intercept_scaling=1, max_iter=100, multi_class='warn',\n",
       "          n_jobs=None, penalty='l2', random_state=None, solver='warn',\n",
       "          tol=0.0001, verbose=0, warm_start=False)"
      ]
     },
     "execution_count": 30,
     "metadata": {},
     "output_type": "execute_result"
    }
   ],
   "source": [
    "log_reg.fit(X_train, y_train)"
   ]
  },
  {
   "cell_type": "code",
   "execution_count": 81,
   "metadata": {},
   "outputs": [
    {
     "data": {
      "text/html": [
       "<div>\n",
       "<style scoped>\n",
       "    .dataframe tbody tr th:only-of-type {\n",
       "        vertical-align: middle;\n",
       "    }\n",
       "\n",
       "    .dataframe tbody tr th {\n",
       "        vertical-align: top;\n",
       "    }\n",
       "\n",
       "    .dataframe thead th {\n",
       "        text-align: right;\n",
       "    }\n",
       "</style>\n",
       "<table border=\"1\" class=\"dataframe\">\n",
       "  <thead>\n",
       "    <tr style=\"text-align: right;\">\n",
       "      <th></th>\n",
       "      <th>TransactionDate</th>\n",
       "      <th>Therapist</th>\n",
       "      <th>Service_Category</th>\n",
       "    </tr>\n",
       "  </thead>\n",
       "  <tbody>\n",
       "    <tr>\n",
       "      <th>0</th>\n",
       "      <td>142</td>\n",
       "      <td>107</td>\n",
       "      <td>3</td>\n",
       "    </tr>\n",
       "    <tr>\n",
       "      <th>1</th>\n",
       "      <td>1</td>\n",
       "      <td>1</td>\n",
       "      <td>1</td>\n",
       "    </tr>\n",
       "    <tr>\n",
       "      <th>2</th>\n",
       "      <td>1</td>\n",
       "      <td>1</td>\n",
       "      <td>1</td>\n",
       "    </tr>\n",
       "    <tr>\n",
       "      <th>3</th>\n",
       "      <td>3</td>\n",
       "      <td>2</td>\n",
       "      <td>1</td>\n",
       "    </tr>\n",
       "    <tr>\n",
       "      <th>4</th>\n",
       "      <td>2</td>\n",
       "      <td>2</td>\n",
       "      <td>1</td>\n",
       "    </tr>\n",
       "  </tbody>\n",
       "</table>\n",
       "</div>"
      ],
      "text/plain": [
       "   TransactionDate  Therapist  Service_Category\n",
       "0              142        107                 3\n",
       "1                1          1                 1\n",
       "2                1          1                 1\n",
       "3                3          2                 1\n",
       "4                2          2                 1"
      ]
     },
     "execution_count": 81,
     "metadata": {},
     "output_type": "execute_result"
    }
   ],
   "source": [
    "X_train.head()"
   ]
  },
  {
   "cell_type": "code",
   "execution_count": 31,
   "metadata": {},
   "outputs": [
    {
     "data": {
      "text/plain": [
       "0.6823273179838207"
      ]
     },
     "execution_count": 31,
     "metadata": {},
     "output_type": "execute_result"
    }
   ],
   "source": [
    "# first model is barely better then just guessing the mean\n",
    "log_reg.score(X_test, y_test)"
   ]
  },
  {
   "cell_type": "code",
   "execution_count": 32,
   "metadata": {},
   "outputs": [
    {
     "data": {
      "text/plain": [
       "0.6810827629122589"
      ]
     },
     "execution_count": 32,
     "metadata": {},
     "output_type": "execute_result"
    }
   ],
   "source": [
    "y_test.mean()"
   ]
  },
  {
   "cell_type": "code",
   "execution_count": 33,
   "metadata": {},
   "outputs": [],
   "source": [
    "X_prob = log_reg.predict_proba(X_test)[:, -1]"
   ]
  },
  {
   "cell_type": "code",
   "execution_count": 34,
   "metadata": {},
   "outputs": [],
   "source": [
    "from sklearn.metrics import roc_auc_score, roc_curve"
   ]
  },
  {
   "cell_type": "code",
   "execution_count": 35,
   "metadata": {
    "scrolled": true
   },
   "outputs": [
    {
     "data": {
      "text/plain": [
       "0.7858039086786484"
      ]
     },
     "execution_count": 35,
     "metadata": {},
     "output_type": "execute_result"
    }
   ],
   "source": [
    "roc_auc_score(y_test, X_prob)"
   ]
  },
  {
   "cell_type": "code",
   "execution_count": 36,
   "metadata": {
    "scrolled": true
   },
   "outputs": [
    {
     "data": {
      "image/png": "[encoded data removed]",
      "text/plain": [
       "<Figure size 432x288 with 1 Axes>"
      ]
     },
     "metadata": {
      "needs_background": "light"
     },
     "output_type": "display_data"
    }
   ],
   "source": [
    "fpr, tpr, thresholds = roc_curve(y_test, X_prob)\n",
    "plt.plot(fpr, tpr, marker='.')\n",
    "plt.xlabel(\"False Positive Rate\")\n",
    "plt.ylabel(\"True Positive Rate\")\n",
    "plt.title(\"ROC curve for Predicting Client Churn\")\n",
    "plt.show();"
   ]
  },
  {
   "cell_type": "code",
   "execution_count": 37,
   "metadata": {},
   "outputs": [],
   "source": [
    "fpr, tpr, thresholds = roc_curve(y_test, X_prob)"
   ]
  },
  {
   "cell_type": "code",
   "execution_count": 38,
   "metadata": {},
   "outputs": [],
   "source": [
    "from sklearn.metrics import confusion_matrix"
   ]
  },
  {
   "cell_type": "code",
   "execution_count": 39,
   "metadata": {},
   "outputs": [],
   "source": [
    "predictions_df = pd.DataFrame(log_reg.predict_proba(X_test))"
   ]
  },
  {
   "cell_type": "code",
   "execution_count": 40,
   "metadata": {},
   "outputs": [],
   "source": [
    "predictions_df['prediction'] = 0"
   ]
  },
  {
   "cell_type": "code",
   "execution_count": 41,
   "metadata": {},
   "outputs": [],
   "source": [
    "predictions_df['prediction'] = predictions_df[1] >= .9"
   ]
  },
  {
   "cell_type": "code",
   "execution_count": 42,
   "metadata": {},
   "outputs": [
    {
     "data": {
      "text/plain": [
       "array([[ 578, 1472],\n",
       "       [ 206, 4172]])"
      ]
     },
     "execution_count": 42,
     "metadata": {},
     "output_type": "execute_result"
    }
   ],
   "source": [
    "confusion_matrix(y_test, predictions_df['prediction'])"
   ]
  },
  {
   "cell_type": "code",
   "execution_count": 43,
   "metadata": {},
   "outputs": [],
   "source": [
    "y_pred = predictions_df['prediction']"
   ]
  },
  {
   "cell_type": "code",
   "execution_count": 44,
   "metadata": {},
   "outputs": [],
   "source": [
    "def plot_confusion_matrix(y_true, y_pred, classes,\n",
    "                          normalize=False,\n",
    "                          title=None,\n",
    "                          cmap=plt.cm.Blues):\n",
    "    \"\"\"\n",
    "    This function prints and plots the confusion matrix.\n",
    "    Normalization can be applied by setting `normalize=True`.\n",
    "    \"\"\"\n",
    "    if not title:\n",
    "        if normalize:\n",
    "            title = 'Normalized confusion matrix'\n",
    "        else:\n",
    "            title = 'Confusion matrix, without normalization'\n",
    "\n",
    "    # Compute confusion matrix\n",
    "    cm = confusion_matrix(y_true, y_pred)\n",
    "    # Only use the labels that appear in the data\n",
    "#     classes = classes[unique_labels(y_true, y_pred)]\n",
    "    if normalize:\n",
    "        cm = cm.astype('float') / cm.sum(axis=1)[:, np.newaxis]\n",
    "        print(\"Normalized confusion matrix\")\n",
    "    else:\n",
    "        print('Confusion matrix, without normalization')\n",
    "\n",
    "    print(cm)\n",
    "\n",
    "    fig, ax = plt.subplots()\n",
    "    im = ax.imshow(cm, interpolation='nearest', cmap=cmap)\n",
    "    ax.figure.colorbar(im, ax=ax)\n",
    "    # We want to show all ticks...\n",
    "    ax.set(xticks=np.arange(cm.shape[1]),\n",
    "           yticks=np.arange(cm.shape[0]),\n",
    "           # ... and label them with the respective list entries\n",
    "           xticklabels=classes, yticklabels=classes,\n",
    "           title=title,\n",
    "           ylabel='True label',\n",
    "           xlabel='Predicted label')\n",
    "\n",
    "    # Rotate the tick labels and set their alignment.\n",
    "    plt.setp(ax.get_xticklabels(), rotation=45, ha=\"right\",\n",
    "             rotation_mode=\"anchor\")\n",
    "\n",
    "    # Loop over data dimensions and create text annotations.\n",
    "    fmt = '.2f' if normalize else 'd'\n",
    "    thresh = cm.max() / 2.\n",
    "    for i in range(cm.shape[0]):\n",
    "        for j in range(cm.shape[1]):\n",
    "            ax.text(j, i, format(cm[i, j], fmt),\n",
    "                    ha=\"center\", va=\"center\",\n",
    "                    color=\"white\" if cm[i, j] > thresh else \"black\")\n",
    "    fig.tight_layout()\n",
    "    return ax"
   ]
  },
  {
   "cell_type": "code",
   "execution_count": 45,
   "metadata": {},
   "outputs": [
    {
     "name": "stdout",
     "output_type": "stream",
     "text": [
      "Confusion matrix, without normalization\n",
      "[[ 578 1472]\n",
      " [ 206 4172]]\n"
     ]
    },
    {
     "data": {
      "text/plain": [
       "<matplotlib.axes._subplots.AxesSubplot at 0x122d67278>"
      ]
     },
     "execution_count": 45,
     "metadata": {},
     "output_type": "execute_result"
    },
    {
     "data": {
      "image/png": "[encoded data removed]",
      "text/plain": [
       "<Figure size 432x288 with 2 Axes>"
      ]
     },
     "metadata": {
      "needs_background": "light"
     },
     "output_type": "display_data"
    }
   ],
   "source": [
    "plot_confusion_matrix(y_test, y_pred, [False, True],\n",
    "                          normalize=False,\n",
    "                          title='Dreamclinic Logistic Regression Confusion matrix',\n",
    "                          cmap=plt.cm.Blues)"
   ]
  },
  {
   "cell_type": "code",
   "execution_count": null,
   "metadata": {},
   "outputs": [],
   "source": []
  },
  {
   "cell_type": "code",
   "execution_count": null,
   "metadata": {},
   "outputs": [],
   "source": []
  },
  {
   "cell_type": "code",
   "execution_count": null,
   "metadata": {},
   "outputs": [],
   "source": []
  },
  {
   "cell_type": "code",
   "execution_count": null,
   "metadata": {},
   "outputs": [],
   "source": []
  },
  {
   "cell_type": "code",
   "execution_count": null,
   "metadata": {},
   "outputs": [],
   "source": []
  },
  {
   "cell_type": "code",
   "execution_count": null,
   "metadata": {},
   "outputs": [],
   "source": []
  },
  {
   "cell_type": "code",
   "execution_count": 46,
   "metadata": {},
   "outputs": [],
   "source": [
    "ten_or_more_ids = session_count[session_count > 9]\n",
    "ten_or_more_ids = ten_or_more_ids.T\n",
    "client_history_10_more_df = client_df.merge(ten_or_more_ids, how='right', left_on='clientID', right_index=True)\n",
    "client_history_10_more_df.reset_index(inplace=True)"
   ]
  },
  {
   "cell_type": "code",
   "execution_count": 47,
   "metadata": {},
   "outputs": [
    {
     "data": {
      "text/plain": [
       "array([[0.51266739, 0.48733261],\n",
       "       [0.0575956 , 0.9424044 ],\n",
       "       [0.06905418, 0.93094582],\n",
       "       ...,\n",
       "       [0.0575956 , 0.9424044 ],\n",
       "       [0.0575956 , 0.9424044 ],\n",
       "       [0.0575956 , 0.9424044 ]])"
      ]
     },
     "execution_count": 47,
     "metadata": {},
     "output_type": "execute_result"
    }
   ],
   "source": [
    "log_reg.predict_proba(X_test)"
   ]
  },
  {
   "cell_type": "code",
   "execution_count": 48,
   "metadata": {},
   "outputs": [],
   "source": [
    "client_history_10_more_df = client_df.merge(ten_or_more_ids, how='right', left_on='clientID', right_index=True)\n",
    "client_history_10_more_df.reset_index(inplace=True)"
   ]
  },
  {
   "cell_type": "code",
   "execution_count": 49,
   "metadata": {},
   "outputs": [
    {
     "data": {
      "text/html": [
       "<div>\n",
       "<style scoped>\n",
       "    .dataframe tbody tr th:only-of-type {\n",
       "        vertical-align: middle;\n",
       "    }\n",
       "\n",
       "    .dataframe tbody tr th {\n",
       "        vertical-align: top;\n",
       "    }\n",
       "\n",
       "    .dataframe thead th {\n",
       "        text-align: right;\n",
       "    }\n",
       "</style>\n",
       "<table border=\"1\" class=\"dataframe\">\n",
       "  <thead>\n",
       "    <tr style=\"text-align: right;\">\n",
       "      <th></th>\n",
       "      <th>index</th>\n",
       "      <th>TransactionDate_x</th>\n",
       "      <th>clientID</th>\n",
       "      <th>Therapist</th>\n",
       "      <th>Address_City</th>\n",
       "      <th>Address_State</th>\n",
       "      <th>Address_Zip</th>\n",
       "      <th>Invoice_Category</th>\n",
       "      <th>Service_Category</th>\n",
       "      <th>HrsWorked</th>\n",
       "      <th>TransactionDate_y</th>\n",
       "    </tr>\n",
       "  </thead>\n",
       "  <tbody>\n",
       "    <tr>\n",
       "      <th>0</th>\n",
       "      <td>0</td>\n",
       "      <td>2016-08-02</td>\n",
       "      <td>40156.0</td>\n",
       "      <td>Michael Jacobus</td>\n",
       "      <td>Seattle</td>\n",
       "      <td>Wa</td>\n",
       "      <td>98109</td>\n",
       "      <td>Clinic_Ins</td>\n",
       "      <td>NaN</td>\n",
       "      <td>1.0</td>\n",
       "      <td>20</td>\n",
       "    </tr>\n",
       "    <tr>\n",
       "      <th>1</th>\n",
       "      <td>1603</td>\n",
       "      <td>2016-08-19</td>\n",
       "      <td>40156.0</td>\n",
       "      <td>Rilla Al-Haddar</td>\n",
       "      <td>Seattle</td>\n",
       "      <td>Wa</td>\n",
       "      <td>98109</td>\n",
       "      <td>Clinic_Ins</td>\n",
       "      <td>NaN</td>\n",
       "      <td>1.0</td>\n",
       "      <td>20</td>\n",
       "    </tr>\n",
       "    <tr>\n",
       "      <th>2</th>\n",
       "      <td>2244</td>\n",
       "      <td>2016-08-26</td>\n",
       "      <td>40156.0</td>\n",
       "      <td>Rilla Al-Haddar</td>\n",
       "      <td>Seattle</td>\n",
       "      <td>Wa</td>\n",
       "      <td>98109</td>\n",
       "      <td>Clinic_Ins</td>\n",
       "      <td>NaN</td>\n",
       "      <td>1.0</td>\n",
       "      <td>20</td>\n",
       "    </tr>\n",
       "    <tr>\n",
       "      <th>3</th>\n",
       "      <td>5791</td>\n",
       "      <td>2016-10-05</td>\n",
       "      <td>40156.0</td>\n",
       "      <td>Rilla Al-Haddar</td>\n",
       "      <td>Seattle</td>\n",
       "      <td>Wa</td>\n",
       "      <td>98109</td>\n",
       "      <td>Clinic_Ins</td>\n",
       "      <td>NaN</td>\n",
       "      <td>1.0</td>\n",
       "      <td>20</td>\n",
       "    </tr>\n",
       "    <tr>\n",
       "      <th>4</th>\n",
       "      <td>7969</td>\n",
       "      <td>2016-10-28</td>\n",
       "      <td>40156.0</td>\n",
       "      <td>Rilla Al-Haddar</td>\n",
       "      <td>Seattle</td>\n",
       "      <td>Wa</td>\n",
       "      <td>98109</td>\n",
       "      <td>Clinic_Ins</td>\n",
       "      <td>NaN</td>\n",
       "      <td>1.0</td>\n",
       "      <td>20</td>\n",
       "    </tr>\n",
       "    <tr>\n",
       "      <th>5</th>\n",
       "      <td>8501</td>\n",
       "      <td>2016-11-04</td>\n",
       "      <td>40156.0</td>\n",
       "      <td>Rilla Al-Haddar</td>\n",
       "      <td>Seattle</td>\n",
       "      <td>Wa</td>\n",
       "      <td>98109</td>\n",
       "      <td>Clinic_Ins</td>\n",
       "      <td>NaN</td>\n",
       "      <td>1.0</td>\n",
       "      <td>20</td>\n",
       "    </tr>\n",
       "    <tr>\n",
       "      <th>6</th>\n",
       "      <td>9234</td>\n",
       "      <td>2016-11-11</td>\n",
       "      <td>40156.0</td>\n",
       "      <td>Rilla Al-Haddar</td>\n",
       "      <td>Seattle</td>\n",
       "      <td>Wa</td>\n",
       "      <td>98109</td>\n",
       "      <td>Clinic_Ins</td>\n",
       "      <td>NaN</td>\n",
       "      <td>1.0</td>\n",
       "      <td>20</td>\n",
       "    </tr>\n",
       "    <tr>\n",
       "      <th>7</th>\n",
       "      <td>10117</td>\n",
       "      <td>2016-11-21</td>\n",
       "      <td>40156.0</td>\n",
       "      <td>Stefanie Smith</td>\n",
       "      <td>Seattle</td>\n",
       "      <td>Wa</td>\n",
       "      <td>98109</td>\n",
       "      <td>Clinic_Ins</td>\n",
       "      <td>NaN</td>\n",
       "      <td>1.0</td>\n",
       "      <td>20</td>\n",
       "    </tr>\n",
       "    <tr>\n",
       "      <th>8</th>\n",
       "      <td>14138</td>\n",
       "      <td>2017-01-02</td>\n",
       "      <td>40156.0</td>\n",
       "      <td>Abigail Thomson</td>\n",
       "      <td>Seattle</td>\n",
       "      <td>Wa</td>\n",
       "      <td>98109</td>\n",
       "      <td>Clinic_Ins</td>\n",
       "      <td>NaN</td>\n",
       "      <td>1.0</td>\n",
       "      <td>20</td>\n",
       "    </tr>\n",
       "    <tr>\n",
       "      <th>9</th>\n",
       "      <td>14750</td>\n",
       "      <td>2017-01-08</td>\n",
       "      <td>40156.0</td>\n",
       "      <td>Dina Gosse</td>\n",
       "      <td>Seattle</td>\n",
       "      <td>Wa</td>\n",
       "      <td>98109</td>\n",
       "      <td>Clinic_Ins</td>\n",
       "      <td>Acupuncture</td>\n",
       "      <td>1.0</td>\n",
       "      <td>20</td>\n",
       "    </tr>\n",
       "    <tr>\n",
       "      <th>10</th>\n",
       "      <td>16172</td>\n",
       "      <td>2017-01-23</td>\n",
       "      <td>40156.0</td>\n",
       "      <td>Abigail Thomson</td>\n",
       "      <td>Seattle</td>\n",
       "      <td>Wa</td>\n",
       "      <td>98109</td>\n",
       "      <td>Clinic_Ins</td>\n",
       "      <td>NaN</td>\n",
       "      <td>1.0</td>\n",
       "      <td>20</td>\n",
       "    </tr>\n",
       "    <tr>\n",
       "      <th>11</th>\n",
       "      <td>16829</td>\n",
       "      <td>2017-01-30</td>\n",
       "      <td>40156.0</td>\n",
       "      <td>Abigail Thomson</td>\n",
       "      <td>Seattle</td>\n",
       "      <td>Wa</td>\n",
       "      <td>98109</td>\n",
       "      <td>Clinic_Ins</td>\n",
       "      <td>NaN</td>\n",
       "      <td>1.0</td>\n",
       "      <td>20</td>\n",
       "    </tr>\n",
       "    <tr>\n",
       "      <th>12</th>\n",
       "      <td>18139</td>\n",
       "      <td>2017-02-13</td>\n",
       "      <td>40156.0</td>\n",
       "      <td>Abigail Thomson</td>\n",
       "      <td>Seattle</td>\n",
       "      <td>Wa</td>\n",
       "      <td>98109</td>\n",
       "      <td>Clinic_Ins</td>\n",
       "      <td>NaN</td>\n",
       "      <td>1.0</td>\n",
       "      <td>20</td>\n",
       "    </tr>\n",
       "    <tr>\n",
       "      <th>13</th>\n",
       "      <td>19574</td>\n",
       "      <td>2017-02-27</td>\n",
       "      <td>40156.0</td>\n",
       "      <td>Abigail Thomson</td>\n",
       "      <td>Seattle</td>\n",
       "      <td>Wa</td>\n",
       "      <td>98109</td>\n",
       "      <td>Clinic_Ins</td>\n",
       "      <td>NaN</td>\n",
       "      <td>1.0</td>\n",
       "      <td>20</td>\n",
       "    </tr>\n",
       "    <tr>\n",
       "      <th>14</th>\n",
       "      <td>20311</td>\n",
       "      <td>2017-03-06</td>\n",
       "      <td>40156.0</td>\n",
       "      <td>Abigail Thomson</td>\n",
       "      <td>Seattle</td>\n",
       "      <td>Wa</td>\n",
       "      <td>98109</td>\n",
       "      <td>Clinic_Ins</td>\n",
       "      <td>NaN</td>\n",
       "      <td>1.0</td>\n",
       "      <td>20</td>\n",
       "    </tr>\n",
       "    <tr>\n",
       "      <th>15</th>\n",
       "      <td>22552</td>\n",
       "      <td>2017-03-27</td>\n",
       "      <td>40156.0</td>\n",
       "      <td>Abigail Thomson</td>\n",
       "      <td>Seattle</td>\n",
       "      <td>Wa</td>\n",
       "      <td>98109</td>\n",
       "      <td>Clinic_Ins</td>\n",
       "      <td>NaN</td>\n",
       "      <td>1.0</td>\n",
       "      <td>20</td>\n",
       "    </tr>\n",
       "    <tr>\n",
       "      <th>16</th>\n",
       "      <td>24772</td>\n",
       "      <td>2017-04-17</td>\n",
       "      <td>40156.0</td>\n",
       "      <td>Dina Gosse</td>\n",
       "      <td>Seattle</td>\n",
       "      <td>Wa</td>\n",
       "      <td>98109</td>\n",
       "      <td>Clinic_Ins</td>\n",
       "      <td>NaN</td>\n",
       "      <td>1.0</td>\n",
       "      <td>20</td>\n",
       "    </tr>\n",
       "    <tr>\n",
       "      <th>17</th>\n",
       "      <td>25801</td>\n",
       "      <td>2017-04-27</td>\n",
       "      <td>40156.0</td>\n",
       "      <td>Rilla Al-Haddar</td>\n",
       "      <td>Seattle</td>\n",
       "      <td>Wa</td>\n",
       "      <td>98109</td>\n",
       "      <td>Clinic_Ins</td>\n",
       "      <td>NaN</td>\n",
       "      <td>1.0</td>\n",
       "      <td>20</td>\n",
       "    </tr>\n",
       "    <tr>\n",
       "      <th>18</th>\n",
       "      <td>26429</td>\n",
       "      <td>2017-05-03</td>\n",
       "      <td>40156.0</td>\n",
       "      <td>Steven Frisina</td>\n",
       "      <td>Seattle</td>\n",
       "      <td>Wa</td>\n",
       "      <td>98109</td>\n",
       "      <td>Clinic_Ins</td>\n",
       "      <td>NaN</td>\n",
       "      <td>1.0</td>\n",
       "      <td>20</td>\n",
       "    </tr>\n",
       "    <tr>\n",
       "      <th>19</th>\n",
       "      <td>28110</td>\n",
       "      <td>2017-05-18</td>\n",
       "      <td>40156.0</td>\n",
       "      <td>Erin Burgman</td>\n",
       "      <td>Seattle</td>\n",
       "      <td>Wa</td>\n",
       "      <td>98109</td>\n",
       "      <td>Clinic_Ins</td>\n",
       "      <td>NaN</td>\n",
       "      <td>1.0</td>\n",
       "      <td>20</td>\n",
       "    </tr>\n",
       "    <tr>\n",
       "      <th>20</th>\n",
       "      <td>1</td>\n",
       "      <td>2016-08-02</td>\n",
       "      <td>60005.0</td>\n",
       "      <td>Lauren Anderson</td>\n",
       "      <td>seattle</td>\n",
       "      <td>wa</td>\n",
       "      <td>98119</td>\n",
       "      <td>Clinic_CA</td>\n",
       "      <td>Massage</td>\n",
       "      <td>1.0</td>\n",
       "      <td>43</td>\n",
       "    </tr>\n",
       "    <tr>\n",
       "      <th>21</th>\n",
       "      <td>654</td>\n",
       "      <td>2016-08-09</td>\n",
       "      <td>60005.0</td>\n",
       "      <td>Alisa Popova</td>\n",
       "      <td>seattle</td>\n",
       "      <td>wa</td>\n",
       "      <td>98119</td>\n",
       "      <td>Clinic_CA</td>\n",
       "      <td>Massage</td>\n",
       "      <td>1.0</td>\n",
       "      <td>43</td>\n",
       "    </tr>\n",
       "    <tr>\n",
       "      <th>22</th>\n",
       "      <td>1288</td>\n",
       "      <td>2016-08-16</td>\n",
       "      <td>60005.0</td>\n",
       "      <td>Lauren Anderson</td>\n",
       "      <td>seattle</td>\n",
       "      <td>wa</td>\n",
       "      <td>98119</td>\n",
       "      <td>Clinic_CA</td>\n",
       "      <td>Massage</td>\n",
       "      <td>1.0</td>\n",
       "      <td>43</td>\n",
       "    </tr>\n",
       "    <tr>\n",
       "      <th>23</th>\n",
       "      <td>1895</td>\n",
       "      <td>2016-08-23</td>\n",
       "      <td>60005.0</td>\n",
       "      <td>Lauren Anderson</td>\n",
       "      <td>seattle</td>\n",
       "      <td>wa</td>\n",
       "      <td>98119</td>\n",
       "      <td>Clinic_CA</td>\n",
       "      <td>Massage</td>\n",
       "      <td>1.0</td>\n",
       "      <td>43</td>\n",
       "    </tr>\n",
       "    <tr>\n",
       "      <th>24</th>\n",
       "      <td>2531</td>\n",
       "      <td>2016-08-30</td>\n",
       "      <td>60005.0</td>\n",
       "      <td>Lauren Anderson</td>\n",
       "      <td>seattle</td>\n",
       "      <td>wa</td>\n",
       "      <td>98119</td>\n",
       "      <td>Clinic_CA</td>\n",
       "      <td>Massage</td>\n",
       "      <td>1.0</td>\n",
       "      <td>43</td>\n",
       "    </tr>\n",
       "    <tr>\n",
       "      <th>25</th>\n",
       "      <td>3138</td>\n",
       "      <td>2016-09-06</td>\n",
       "      <td>60005.0</td>\n",
       "      <td>Lauren Anderson</td>\n",
       "      <td>seattle</td>\n",
       "      <td>wa</td>\n",
       "      <td>98119</td>\n",
       "      <td>Clinic_CA</td>\n",
       "      <td>Massage</td>\n",
       "      <td>1.0</td>\n",
       "      <td>43</td>\n",
       "    </tr>\n",
       "    <tr>\n",
       "      <th>26</th>\n",
       "      <td>10093</td>\n",
       "      <td>2016-11-20</td>\n",
       "      <td>60005.0</td>\n",
       "      <td>Kristan Rutski</td>\n",
       "      <td>seattle</td>\n",
       "      <td>wa</td>\n",
       "      <td>98119</td>\n",
       "      <td>Clinic_CA</td>\n",
       "      <td>Massage</td>\n",
       "      <td>1.5</td>\n",
       "      <td>43</td>\n",
       "    </tr>\n",
       "    <tr>\n",
       "      <th>27</th>\n",
       "      <td>11488</td>\n",
       "      <td>2016-12-06</td>\n",
       "      <td>60005.0</td>\n",
       "      <td>Lauren Anderson</td>\n",
       "      <td>seattle</td>\n",
       "      <td>wa</td>\n",
       "      <td>98119</td>\n",
       "      <td>Clinic_CA</td>\n",
       "      <td>Massage</td>\n",
       "      <td>1.0</td>\n",
       "      <td>43</td>\n",
       "    </tr>\n",
       "    <tr>\n",
       "      <th>28</th>\n",
       "      <td>13022</td>\n",
       "      <td>2016-12-21</td>\n",
       "      <td>60005.0</td>\n",
       "      <td>Alexandra Boucher</td>\n",
       "      <td>seattle</td>\n",
       "      <td>wa</td>\n",
       "      <td>98119</td>\n",
       "      <td>Clinic_CA</td>\n",
       "      <td>Massage</td>\n",
       "      <td>1.0</td>\n",
       "      <td>43</td>\n",
       "    </tr>\n",
       "    <tr>\n",
       "      <th>29</th>\n",
       "      <td>13686</td>\n",
       "      <td>2016-12-28</td>\n",
       "      <td>60005.0</td>\n",
       "      <td>Alexandra Boucher</td>\n",
       "      <td>seattle</td>\n",
       "      <td>wa</td>\n",
       "      <td>98119</td>\n",
       "      <td>Clinic_CA</td>\n",
       "      <td>Massage</td>\n",
       "      <td>1.0</td>\n",
       "      <td>43</td>\n",
       "    </tr>\n",
       "    <tr>\n",
       "      <th>...</th>\n",
       "      <td>...</td>\n",
       "      <td>...</td>\n",
       "      <td>...</td>\n",
       "      <td>...</td>\n",
       "      <td>...</td>\n",
       "      <td>...</td>\n",
       "      <td>...</td>\n",
       "      <td>...</td>\n",
       "      <td>...</td>\n",
       "      <td>...</td>\n",
       "      <td>...</td>\n",
       "    </tr>\n",
       "    <tr>\n",
       "      <th>79133</th>\n",
       "      <td>112201</td>\n",
       "      <td>2019-05-23</td>\n",
       "      <td>81861.0</td>\n",
       "      <td>Brenna Lowery</td>\n",
       "      <td>Seattle</td>\n",
       "      <td>WA</td>\n",
       "      <td>98103</td>\n",
       "      <td>Clinic_Ins</td>\n",
       "      <td>NaN</td>\n",
       "      <td>1.0</td>\n",
       "      <td>12</td>\n",
       "    </tr>\n",
       "    <tr>\n",
       "      <th>79134</th>\n",
       "      <td>112625</td>\n",
       "      <td>2019-05-27</td>\n",
       "      <td>81861.0</td>\n",
       "      <td>Charles Lewis</td>\n",
       "      <td>Seattle</td>\n",
       "      <td>WA</td>\n",
       "      <td>98103</td>\n",
       "      <td>Clinic_Ins</td>\n",
       "      <td>NaN</td>\n",
       "      <td>1.0</td>\n",
       "      <td>12</td>\n",
       "    </tr>\n",
       "    <tr>\n",
       "      <th>79135</th>\n",
       "      <td>112788</td>\n",
       "      <td>2019-05-28</td>\n",
       "      <td>81861.0</td>\n",
       "      <td>Michelle Pearson</td>\n",
       "      <td>Seattle</td>\n",
       "      <td>WA</td>\n",
       "      <td>98103</td>\n",
       "      <td>Clinic_Ins</td>\n",
       "      <td>NaN</td>\n",
       "      <td>1.0</td>\n",
       "      <td>12</td>\n",
       "    </tr>\n",
       "    <tr>\n",
       "      <th>79136</th>\n",
       "      <td>112912</td>\n",
       "      <td>2019-05-29</td>\n",
       "      <td>81861.0</td>\n",
       "      <td>Michelle Pearson</td>\n",
       "      <td>Seattle</td>\n",
       "      <td>WA</td>\n",
       "      <td>98103</td>\n",
       "      <td>Clinic_Ins</td>\n",
       "      <td>NaN</td>\n",
       "      <td>1.0</td>\n",
       "      <td>12</td>\n",
       "    </tr>\n",
       "    <tr>\n",
       "      <th>79137</th>\n",
       "      <td>114139</td>\n",
       "      <td>2019-06-09</td>\n",
       "      <td>81861.0</td>\n",
       "      <td>Ana Roar</td>\n",
       "      <td>Seattle</td>\n",
       "      <td>WA</td>\n",
       "      <td>98103</td>\n",
       "      <td>Clinic_Ins</td>\n",
       "      <td>NaN</td>\n",
       "      <td>1.0</td>\n",
       "      <td>12</td>\n",
       "    </tr>\n",
       "    <tr>\n",
       "      <th>79138</th>\n",
       "      <td>116196</td>\n",
       "      <td>2019-06-26</td>\n",
       "      <td>81861.0</td>\n",
       "      <td>Ana Roar</td>\n",
       "      <td>Seattle</td>\n",
       "      <td>WA</td>\n",
       "      <td>98103</td>\n",
       "      <td>Clinic_Ins</td>\n",
       "      <td>NaN</td>\n",
       "      <td>1.0</td>\n",
       "      <td>12</td>\n",
       "    </tr>\n",
       "    <tr>\n",
       "      <th>79139</th>\n",
       "      <td>118795</td>\n",
       "      <td>2019-07-21</td>\n",
       "      <td>81861.0</td>\n",
       "      <td>Dale Kellegrew</td>\n",
       "      <td>Seattle</td>\n",
       "      <td>WA</td>\n",
       "      <td>98103</td>\n",
       "      <td>Clinic_Ins</td>\n",
       "      <td>NaN</td>\n",
       "      <td>1.0</td>\n",
       "      <td>12</td>\n",
       "    </tr>\n",
       "    <tr>\n",
       "      <th>79140</th>\n",
       "      <td>111814</td>\n",
       "      <td>2019-05-20</td>\n",
       "      <td>81922.0</td>\n",
       "      <td>Amy Ross</td>\n",
       "      <td>Seattle</td>\n",
       "      <td>WA</td>\n",
       "      <td>98109</td>\n",
       "      <td>Clinic_Ins</td>\n",
       "      <td>NaN</td>\n",
       "      <td>1.0</td>\n",
       "      <td>11</td>\n",
       "    </tr>\n",
       "    <tr>\n",
       "      <th>79141</th>\n",
       "      <td>112087</td>\n",
       "      <td>2019-05-22</td>\n",
       "      <td>81922.0</td>\n",
       "      <td>Dakota Anglin</td>\n",
       "      <td>Seattle</td>\n",
       "      <td>WA</td>\n",
       "      <td>98109</td>\n",
       "      <td>Clinic_Ins</td>\n",
       "      <td>NaN</td>\n",
       "      <td>1.0</td>\n",
       "      <td>11</td>\n",
       "    </tr>\n",
       "    <tr>\n",
       "      <th>79142</th>\n",
       "      <td>112889</td>\n",
       "      <td>2019-05-29</td>\n",
       "      <td>81922.0</td>\n",
       "      <td>Dakota Anglin</td>\n",
       "      <td>Seattle</td>\n",
       "      <td>WA</td>\n",
       "      <td>98109</td>\n",
       "      <td>Clinic_Ins</td>\n",
       "      <td>NaN</td>\n",
       "      <td>1.0</td>\n",
       "      <td>11</td>\n",
       "    </tr>\n",
       "    <tr>\n",
       "      <th>79143</th>\n",
       "      <td>113689</td>\n",
       "      <td>2019-06-05</td>\n",
       "      <td>81922.0</td>\n",
       "      <td>Dakota Anglin</td>\n",
       "      <td>Seattle</td>\n",
       "      <td>WA</td>\n",
       "      <td>98109</td>\n",
       "      <td>Clinic_Ins</td>\n",
       "      <td>NaN</td>\n",
       "      <td>1.0</td>\n",
       "      <td>11</td>\n",
       "    </tr>\n",
       "    <tr>\n",
       "      <th>79144</th>\n",
       "      <td>114539</td>\n",
       "      <td>2019-06-12</td>\n",
       "      <td>81922.0</td>\n",
       "      <td>Dakota Anglin</td>\n",
       "      <td>Seattle</td>\n",
       "      <td>WA</td>\n",
       "      <td>98109</td>\n",
       "      <td>Clinic_Ins</td>\n",
       "      <td>NaN</td>\n",
       "      <td>1.0</td>\n",
       "      <td>11</td>\n",
       "    </tr>\n",
       "    <tr>\n",
       "      <th>79145</th>\n",
       "      <td>115380</td>\n",
       "      <td>2019-06-19</td>\n",
       "      <td>81922.0</td>\n",
       "      <td>Dakota Anglin</td>\n",
       "      <td>Seattle</td>\n",
       "      <td>WA</td>\n",
       "      <td>98109</td>\n",
       "      <td>Clinic_Ins</td>\n",
       "      <td>NaN</td>\n",
       "      <td>1.0</td>\n",
       "      <td>11</td>\n",
       "    </tr>\n",
       "    <tr>\n",
       "      <th>79146</th>\n",
       "      <td>115947</td>\n",
       "      <td>2019-06-24</td>\n",
       "      <td>81922.0</td>\n",
       "      <td>Amy Ross</td>\n",
       "      <td>Seattle</td>\n",
       "      <td>WA</td>\n",
       "      <td>98109</td>\n",
       "      <td>Clinic_Ins</td>\n",
       "      <td>NaN</td>\n",
       "      <td>1.0</td>\n",
       "      <td>11</td>\n",
       "    </tr>\n",
       "    <tr>\n",
       "      <th>79147</th>\n",
       "      <td>116715</td>\n",
       "      <td>2019-07-01</td>\n",
       "      <td>81922.0</td>\n",
       "      <td>Amy Ross</td>\n",
       "      <td>Seattle</td>\n",
       "      <td>WA</td>\n",
       "      <td>98109</td>\n",
       "      <td>Clinic_Ins</td>\n",
       "      <td>NaN</td>\n",
       "      <td>1.0</td>\n",
       "      <td>11</td>\n",
       "    </tr>\n",
       "    <tr>\n",
       "      <th>79148</th>\n",
       "      <td>117417</td>\n",
       "      <td>2019-07-08</td>\n",
       "      <td>81922.0</td>\n",
       "      <td>Amy Ross</td>\n",
       "      <td>Seattle</td>\n",
       "      <td>WA</td>\n",
       "      <td>98109</td>\n",
       "      <td>Clinic_Ins</td>\n",
       "      <td>NaN</td>\n",
       "      <td>1.0</td>\n",
       "      <td>11</td>\n",
       "    </tr>\n",
       "    <tr>\n",
       "      <th>79149</th>\n",
       "      <td>118158</td>\n",
       "      <td>2019-07-15</td>\n",
       "      <td>81922.0</td>\n",
       "      <td>Olivia San Diego</td>\n",
       "      <td>Seattle</td>\n",
       "      <td>WA</td>\n",
       "      <td>98109</td>\n",
       "      <td>Clinic_Ins</td>\n",
       "      <td>NaN</td>\n",
       "      <td>1.0</td>\n",
       "      <td>11</td>\n",
       "    </tr>\n",
       "    <tr>\n",
       "      <th>79150</th>\n",
       "      <td>118887</td>\n",
       "      <td>2019-07-22</td>\n",
       "      <td>81922.0</td>\n",
       "      <td>Amy Ross</td>\n",
       "      <td>Seattle</td>\n",
       "      <td>WA</td>\n",
       "      <td>98109</td>\n",
       "      <td>Clinic_Ins</td>\n",
       "      <td>NaN</td>\n",
       "      <td>0.0</td>\n",
       "      <td>11</td>\n",
       "    </tr>\n",
       "    <tr>\n",
       "      <th>79151</th>\n",
       "      <td>116077</td>\n",
       "      <td>2019-06-25</td>\n",
       "      <td>82569.0</td>\n",
       "      <td>Michelle Pearson</td>\n",
       "      <td>Seattle</td>\n",
       "      <td>WA</td>\n",
       "      <td>98105</td>\n",
       "      <td>Clinic_Ins</td>\n",
       "      <td>NaN</td>\n",
       "      <td>1.0</td>\n",
       "      <td>11</td>\n",
       "    </tr>\n",
       "    <tr>\n",
       "      <th>79152</th>\n",
       "      <td>116325</td>\n",
       "      <td>2019-06-27</td>\n",
       "      <td>82569.0</td>\n",
       "      <td>Juli Koplan</td>\n",
       "      <td>Seattle</td>\n",
       "      <td>WA</td>\n",
       "      <td>98105</td>\n",
       "      <td>Clinic_Ins</td>\n",
       "      <td>NaN</td>\n",
       "      <td>1.0</td>\n",
       "      <td>11</td>\n",
       "    </tr>\n",
       "    <tr>\n",
       "      <th>79153</th>\n",
       "      <td>116881</td>\n",
       "      <td>2019-07-02</td>\n",
       "      <td>82569.0</td>\n",
       "      <td>Jude Ulmschneider</td>\n",
       "      <td>Seattle</td>\n",
       "      <td>WA</td>\n",
       "      <td>98105</td>\n",
       "      <td>Clinic_Ins</td>\n",
       "      <td>NaN</td>\n",
       "      <td>1.0</td>\n",
       "      <td>11</td>\n",
       "    </tr>\n",
       "    <tr>\n",
       "      <th>79154</th>\n",
       "      <td>117130</td>\n",
       "      <td>2019-07-05</td>\n",
       "      <td>82569.0</td>\n",
       "      <td>MIchelle Hinojosa</td>\n",
       "      <td>Seattle</td>\n",
       "      <td>WA</td>\n",
       "      <td>98105</td>\n",
       "      <td>Clinic_Ins</td>\n",
       "      <td>NaN</td>\n",
       "      <td>1.0</td>\n",
       "      <td>11</td>\n",
       "    </tr>\n",
       "    <tr>\n",
       "      <th>79155</th>\n",
       "      <td>117372</td>\n",
       "      <td>2019-07-08</td>\n",
       "      <td>82569.0</td>\n",
       "      <td>Jason Vernon</td>\n",
       "      <td>Seattle</td>\n",
       "      <td>WA</td>\n",
       "      <td>98105</td>\n",
       "      <td>Clinic_Ins</td>\n",
       "      <td>NaN</td>\n",
       "      <td>1.0</td>\n",
       "      <td>11</td>\n",
       "    </tr>\n",
       "    <tr>\n",
       "      <th>79156</th>\n",
       "      <td>117784</td>\n",
       "      <td>2019-07-11</td>\n",
       "      <td>82569.0</td>\n",
       "      <td>Edward Kim</td>\n",
       "      <td>Seattle</td>\n",
       "      <td>WA</td>\n",
       "      <td>98105</td>\n",
       "      <td>Clinic_Ins</td>\n",
       "      <td>NaN</td>\n",
       "      <td>1.0</td>\n",
       "      <td>11</td>\n",
       "    </tr>\n",
       "    <tr>\n",
       "      <th>79157</th>\n",
       "      <td>117797</td>\n",
       "      <td>2019-07-11</td>\n",
       "      <td>82569.0</td>\n",
       "      <td>Edward Kim</td>\n",
       "      <td>Seattle</td>\n",
       "      <td>WA</td>\n",
       "      <td>98105</td>\n",
       "      <td>Clinic_CA</td>\n",
       "      <td>NaN</td>\n",
       "      <td>0.0</td>\n",
       "      <td>11</td>\n",
       "    </tr>\n",
       "    <tr>\n",
       "      <th>79158</th>\n",
       "      <td>118288</td>\n",
       "      <td>2019-07-16</td>\n",
       "      <td>82569.0</td>\n",
       "      <td>Jason Vernon</td>\n",
       "      <td>Seattle</td>\n",
       "      <td>WA</td>\n",
       "      <td>98105</td>\n",
       "      <td>Clinic_Ins</td>\n",
       "      <td>NaN</td>\n",
       "      <td>1.0</td>\n",
       "      <td>11</td>\n",
       "    </tr>\n",
       "    <tr>\n",
       "      <th>79159</th>\n",
       "      <td>119018</td>\n",
       "      <td>2019-07-23</td>\n",
       "      <td>82569.0</td>\n",
       "      <td>Marjanii McCline</td>\n",
       "      <td>Seattle</td>\n",
       "      <td>WA</td>\n",
       "      <td>98105</td>\n",
       "      <td>Clinic_Ins</td>\n",
       "      <td>NaN</td>\n",
       "      <td>1.0</td>\n",
       "      <td>11</td>\n",
       "    </tr>\n",
       "    <tr>\n",
       "      <th>79160</th>\n",
       "      <td>119323</td>\n",
       "      <td>2019-07-25</td>\n",
       "      <td>82569.0</td>\n",
       "      <td>Edward Kim</td>\n",
       "      <td>Seattle</td>\n",
       "      <td>WA</td>\n",
       "      <td>98105</td>\n",
       "      <td>Clinic_Ins</td>\n",
       "      <td>NaN</td>\n",
       "      <td>1.0</td>\n",
       "      <td>11</td>\n",
       "    </tr>\n",
       "    <tr>\n",
       "      <th>79161</th>\n",
       "      <td>119844</td>\n",
       "      <td>2019-07-30</td>\n",
       "      <td>82569.0</td>\n",
       "      <td>Marjanii McCline</td>\n",
       "      <td>Seattle</td>\n",
       "      <td>WA</td>\n",
       "      <td>98105</td>\n",
       "      <td>Clinic_Ins</td>\n",
       "      <td>NaN</td>\n",
       "      <td>1.0</td>\n",
       "      <td>11</td>\n",
       "    </tr>\n",
       "    <tr>\n",
       "      <th>79162</th>\n",
       "      <td>120184</td>\n",
       "      <td>2019-08-01</td>\n",
       "      <td>82569.0</td>\n",
       "      <td>Edward Kim</td>\n",
       "      <td>Seattle</td>\n",
       "      <td>WA</td>\n",
       "      <td>98105</td>\n",
       "      <td>Clinic_Ins</td>\n",
       "      <td>NaN</td>\n",
       "      <td>1.0</td>\n",
       "      <td>11</td>\n",
       "    </tr>\n",
       "  </tbody>\n",
       "</table>\n",
       "<p>79163 rows × 11 columns</p>\n",
       "</div>"
      ],
      "text/plain": [
       "        index TransactionDate_x  clientID          Therapist Address_City  \\\n",
       "0           0        2016-08-02   40156.0    Michael Jacobus      Seattle   \n",
       "1        1603        2016-08-19   40156.0    Rilla Al-Haddar      Seattle   \n",
       "2        2244        2016-08-26   40156.0    Rilla Al-Haddar      Seattle   \n",
       "3        5791        2016-10-05   40156.0    Rilla Al-Haddar      Seattle   \n",
       "4        7969        2016-10-28   40156.0    Rilla Al-Haddar      Seattle   \n",
       "5        8501        2016-11-04   40156.0    Rilla Al-Haddar      Seattle   \n",
       "6        9234        2016-11-11   40156.0    Rilla Al-Haddar      Seattle   \n",
       "7       10117        2016-11-21   40156.0     Stefanie Smith      Seattle   \n",
       "8       14138        2017-01-02   40156.0    Abigail Thomson      Seattle   \n",
       "9       14750        2017-01-08   40156.0         Dina Gosse      Seattle   \n",
       "10      16172        2017-01-23   40156.0    Abigail Thomson      Seattle   \n",
       "11      16829        2017-01-30   40156.0    Abigail Thomson      Seattle   \n",
       "12      18139        2017-02-13   40156.0    Abigail Thomson      Seattle   \n",
       "13      19574        2017-02-27   40156.0    Abigail Thomson      Seattle   \n",
       "14      20311        2017-03-06   40156.0    Abigail Thomson      Seattle   \n",
       "15      22552        2017-03-27   40156.0    Abigail Thomson      Seattle   \n",
       "16      24772        2017-04-17   40156.0         Dina Gosse      Seattle   \n",
       "17      25801        2017-04-27   40156.0    Rilla Al-Haddar      Seattle   \n",
       "18      26429        2017-05-03   40156.0     Steven Frisina      Seattle   \n",
       "19      28110        2017-05-18   40156.0       Erin Burgman      Seattle   \n",
       "20          1        2016-08-02   60005.0    Lauren Anderson      seattle   \n",
       "21        654        2016-08-09   60005.0       Alisa Popova      seattle   \n",
       "22       1288        2016-08-16   60005.0    Lauren Anderson      seattle   \n",
       "23       1895        2016-08-23   60005.0    Lauren Anderson      seattle   \n",
       "24       2531        2016-08-30   60005.0    Lauren Anderson      seattle   \n",
       "25       3138        2016-09-06   60005.0    Lauren Anderson      seattle   \n",
       "26      10093        2016-11-20   60005.0     Kristan Rutski      seattle   \n",
       "27      11488        2016-12-06   60005.0    Lauren Anderson      seattle   \n",
       "28      13022        2016-12-21   60005.0  Alexandra Boucher      seattle   \n",
       "29      13686        2016-12-28   60005.0  Alexandra Boucher      seattle   \n",
       "...       ...               ...       ...                ...          ...   \n",
       "79133  112201        2019-05-23   81861.0      Brenna Lowery      Seattle   \n",
       "79134  112625        2019-05-27   81861.0      Charles Lewis      Seattle   \n",
       "79135  112788        2019-05-28   81861.0   Michelle Pearson      Seattle   \n",
       "79136  112912        2019-05-29   81861.0   Michelle Pearson      Seattle   \n",
       "79137  114139        2019-06-09   81861.0           Ana Roar      Seattle   \n",
       "79138  116196        2019-06-26   81861.0           Ana Roar      Seattle   \n",
       "79139  118795        2019-07-21   81861.0     Dale Kellegrew      Seattle   \n",
       "79140  111814        2019-05-20   81922.0           Amy Ross      Seattle   \n",
       "79141  112087        2019-05-22   81922.0      Dakota Anglin      Seattle   \n",
       "79142  112889        2019-05-29   81922.0      Dakota Anglin      Seattle   \n",
       "79143  113689        2019-06-05   81922.0      Dakota Anglin      Seattle   \n",
       "79144  114539        2019-06-12   81922.0      Dakota Anglin      Seattle   \n",
       "79145  115380        2019-06-19   81922.0      Dakota Anglin      Seattle   \n",
       "79146  115947        2019-06-24   81922.0           Amy Ross      Seattle   \n",
       "79147  116715        2019-07-01   81922.0           Amy Ross      Seattle   \n",
       "79148  117417        2019-07-08   81922.0           Amy Ross      Seattle   \n",
       "79149  118158        2019-07-15   81922.0   Olivia San Diego      Seattle   \n",
       "79150  118887        2019-07-22   81922.0           Amy Ross      Seattle   \n",
       "79151  116077        2019-06-25   82569.0   Michelle Pearson      Seattle   \n",
       "79152  116325        2019-06-27   82569.0        Juli Koplan      Seattle   \n",
       "79153  116881        2019-07-02   82569.0  Jude Ulmschneider      Seattle   \n",
       "79154  117130        2019-07-05   82569.0  MIchelle Hinojosa      Seattle   \n",
       "79155  117372        2019-07-08   82569.0       Jason Vernon      Seattle   \n",
       "79156  117784        2019-07-11   82569.0         Edward Kim      Seattle   \n",
       "79157  117797        2019-07-11   82569.0         Edward Kim      Seattle   \n",
       "79158  118288        2019-07-16   82569.0       Jason Vernon      Seattle   \n",
       "79159  119018        2019-07-23   82569.0   Marjanii McCline      Seattle   \n",
       "79160  119323        2019-07-25   82569.0         Edward Kim      Seattle   \n",
       "79161  119844        2019-07-30   82569.0   Marjanii McCline      Seattle   \n",
       "79162  120184        2019-08-01   82569.0         Edward Kim      Seattle   \n",
       "\n",
       "      Address_State Address_Zip Invoice_Category Service_Category  HrsWorked  \\\n",
       "0                Wa       98109       Clinic_Ins              NaN        1.0   \n",
       "1                Wa       98109       Clinic_Ins              NaN        1.0   \n",
       "2                Wa       98109       Clinic_Ins              NaN        1.0   \n",
       "3                Wa       98109       Clinic_Ins              NaN        1.0   \n",
       "4                Wa       98109       Clinic_Ins              NaN        1.0   \n",
       "5                Wa       98109       Clinic_Ins              NaN        1.0   \n",
       "6                Wa       98109       Clinic_Ins              NaN        1.0   \n",
       "7                Wa       98109       Clinic_Ins              NaN        1.0   \n",
       "8                Wa       98109       Clinic_Ins              NaN        1.0   \n",
       "9                Wa       98109       Clinic_Ins      Acupuncture        1.0   \n",
       "10               Wa       98109       Clinic_Ins              NaN        1.0   \n",
       "11               Wa       98109       Clinic_Ins              NaN        1.0   \n",
       "12               Wa       98109       Clinic_Ins              NaN        1.0   \n",
       "13               Wa       98109       Clinic_Ins              NaN        1.0   \n",
       "14               Wa       98109       Clinic_Ins              NaN        1.0   \n",
       "15               Wa       98109       Clinic_Ins              NaN        1.0   \n",
       "16               Wa       98109       Clinic_Ins              NaN        1.0   \n",
       "17               Wa       98109       Clinic_Ins              NaN        1.0   \n",
       "18               Wa       98109       Clinic_Ins              NaN        1.0   \n",
       "19               Wa       98109       Clinic_Ins              NaN        1.0   \n",
       "20               wa       98119        Clinic_CA          Massage        1.0   \n",
       "21               wa       98119        Clinic_CA          Massage        1.0   \n",
       "22               wa       98119        Clinic_CA          Massage        1.0   \n",
       "23               wa       98119        Clinic_CA          Massage        1.0   \n",
       "24               wa       98119        Clinic_CA          Massage        1.0   \n",
       "25               wa       98119        Clinic_CA          Massage        1.0   \n",
       "26               wa       98119        Clinic_CA          Massage        1.5   \n",
       "27               wa       98119        Clinic_CA          Massage        1.0   \n",
       "28               wa       98119        Clinic_CA          Massage        1.0   \n",
       "29               wa       98119        Clinic_CA          Massage        1.0   \n",
       "...             ...         ...              ...              ...        ...   \n",
       "79133            WA       98103       Clinic_Ins              NaN        1.0   \n",
       "79134            WA       98103       Clinic_Ins              NaN        1.0   \n",
       "79135            WA       98103       Clinic_Ins              NaN        1.0   \n",
       "79136            WA       98103       Clinic_Ins              NaN        1.0   \n",
       "79137            WA       98103       Clinic_Ins              NaN        1.0   \n",
       "79138            WA       98103       Clinic_Ins              NaN        1.0   \n",
       "79139            WA       98103       Clinic_Ins              NaN        1.0   \n",
       "79140            WA       98109       Clinic_Ins              NaN        1.0   \n",
       "79141            WA       98109       Clinic_Ins              NaN        1.0   \n",
       "79142            WA       98109       Clinic_Ins              NaN        1.0   \n",
       "79143            WA       98109       Clinic_Ins              NaN        1.0   \n",
       "79144            WA       98109       Clinic_Ins              NaN        1.0   \n",
       "79145            WA       98109       Clinic_Ins              NaN        1.0   \n",
       "79146            WA       98109       Clinic_Ins              NaN        1.0   \n",
       "79147            WA       98109       Clinic_Ins              NaN        1.0   \n",
       "79148            WA       98109       Clinic_Ins              NaN        1.0   \n",
       "79149            WA       98109       Clinic_Ins              NaN        1.0   \n",
       "79150            WA       98109       Clinic_Ins              NaN        0.0   \n",
       "79151            WA       98105       Clinic_Ins              NaN        1.0   \n",
       "79152            WA       98105       Clinic_Ins              NaN        1.0   \n",
       "79153            WA       98105       Clinic_Ins              NaN        1.0   \n",
       "79154            WA       98105       Clinic_Ins              NaN        1.0   \n",
       "79155            WA       98105       Clinic_Ins              NaN        1.0   \n",
       "79156            WA       98105       Clinic_Ins              NaN        1.0   \n",
       "79157            WA       98105        Clinic_CA              NaN        0.0   \n",
       "79158            WA       98105       Clinic_Ins              NaN        1.0   \n",
       "79159            WA       98105       Clinic_Ins              NaN        1.0   \n",
       "79160            WA       98105       Clinic_Ins              NaN        1.0   \n",
       "79161            WA       98105       Clinic_Ins              NaN        1.0   \n",
       "79162            WA       98105       Clinic_Ins              NaN        1.0   \n",
       "\n",
       "       TransactionDate_y  \n",
       "0                     20  \n",
       "1                     20  \n",
       "2                     20  \n",
       "3                     20  \n",
       "4                     20  \n",
       "5                     20  \n",
       "6                     20  \n",
       "7                     20  \n",
       "8                     20  \n",
       "9                     20  \n",
       "10                    20  \n",
       "11                    20  \n",
       "12                    20  \n",
       "13                    20  \n",
       "14                    20  \n",
       "15                    20  \n",
       "16                    20  \n",
       "17                    20  \n",
       "18                    20  \n",
       "19                    20  \n",
       "20                    43  \n",
       "21                    43  \n",
       "22                    43  \n",
       "23                    43  \n",
       "24                    43  \n",
       "25                    43  \n",
       "26                    43  \n",
       "27                    43  \n",
       "28                    43  \n",
       "29                    43  \n",
       "...                  ...  \n",
       "79133                 12  \n",
       "79134                 12  \n",
       "79135                 12  \n",
       "79136                 12  \n",
       "79137                 12  \n",
       "79138                 12  \n",
       "79139                 12  \n",
       "79140                 11  \n",
       "79141                 11  \n",
       "79142                 11  \n",
       "79143                 11  \n",
       "79144                 11  \n",
       "79145                 11  \n",
       "79146                 11  \n",
       "79147                 11  \n",
       "79148                 11  \n",
       "79149                 11  \n",
       "79150                 11  \n",
       "79151                 11  \n",
       "79152                 11  \n",
       "79153                 11  \n",
       "79154                 11  \n",
       "79155                 11  \n",
       "79156                 11  \n",
       "79157                 11  \n",
       "79158                 11  \n",
       "79159                 11  \n",
       "79160                 11  \n",
       "79161                 11  \n",
       "79162                 11  \n",
       "\n",
       "[79163 rows x 11 columns]"
      ]
     },
     "execution_count": 49,
     "metadata": {},
     "output_type": "execute_result"
    }
   ],
   "source": [
    "client_history_10_more_df"
   ]
  },
  {
   "cell_type": "code",
   "execution_count": null,
   "metadata": {},
   "outputs": [],
   "source": []
  },
  {
   "cell_type": "code",
   "execution_count": 50,
   "metadata": {},
   "outputs": [],
   "source": [
    "client_history_10_more_df.drop('index', axis=1, inplace=True)"
   ]
  },
  {
   "cell_type": "code",
   "execution_count": 51,
   "metadata": {},
   "outputs": [],
   "source": [
    "client_history_10_more_df.rename({'TransactionDate_y' : 'session_count', 'TransactionDate_x' : \"date\"}, axis=1, inplace=True)"
   ]
  },
  {
   "cell_type": "code",
   "execution_count": 52,
   "metadata": {},
   "outputs": [],
   "source": [
    "client_history_10_more_df['since_last'] = None"
   ]
  },
  {
   "cell_type": "code",
   "execution_count": 53,
   "metadata": {},
   "outputs": [],
   "source": [
    "# finds interval lengths for clients who have been in at least 10 times,  O(n) time O(n) space\n",
    "interval = []\n",
    "for i in range(0, len(client_history_10_more_df)):\n",
    "    if client_history_10_more_df.iloc[i]['clientID'] == id:\n",
    "        diff = client_history_10_more_df.iloc[i]['date'] - client_history_10_more_df.iloc[i-1]['date']\n",
    "        interval.append(diff)\n",
    "    else:\n",
    "        id = client_history_10_more_df.iloc[i]['clientID']\n",
    "        interval.append(0)\n",
    "\n",
    "client_history_10_more_df['since_last'] = interval"
   ]
  },
  {
   "cell_type": "code",
   "execution_count": 54,
   "metadata": {},
   "outputs": [
    {
     "ename": "AttributeError",
     "evalue": "'int' object has no attribute 'days'",
     "output_type": "error",
     "traceback": [
      "\u001b[0;31m---------------------------------------------------------------------------\u001b[0m",
      "\u001b[0;31mAttributeError\u001b[0m                            Traceback (most recent call last)",
      "\u001b[0;32m<ipython-input-54-f8954c07b452>\u001b[0m in \u001b[0;36m<module>\u001b[0;34m\u001b[0m\n\u001b[0;32m----> 1\u001b[0;31m \u001b[0mclient_history_10_more_df\u001b[0m\u001b[0;34m[\u001b[0m\u001b[0;34m'since_last'\u001b[0m\u001b[0;34m]\u001b[0m\u001b[0;34m[\u001b[0m\u001b[0;36m0\u001b[0m\u001b[0;34m]\u001b[0m\u001b[0;34m.\u001b[0m\u001b[0mdays\u001b[0m\u001b[0;34m\u001b[0m\u001b[0;34m\u001b[0m\u001b[0m\n\u001b[0m",
      "\u001b[0;31mAttributeError\u001b[0m: 'int' object has no attribute 'days'"
     ]
    }
   ],
   "source": [
    "client_history_10_more_df['since_last'][0].days"
   ]
  },
  {
   "cell_type": "code",
   "execution_count": null,
   "metadata": {},
   "outputs": [],
   "source": [
    "def extract_day(x):\n",
    "    \"\"\"extract day from the element.\"\"\"\n",
    "    if isinstance(x, int):\n",
    "        return x\n",
    "    else:\n",
    "        return x.days"
   ]
  },
  {
   "cell_type": "code",
   "execution_count": null,
   "metadata": {},
   "outputs": [],
   "source": [
    "client_history_10_more_df[\"clean_since_last\"] = client_history_10_more_df['since_last'].apply(extract_day)"
   ]
  },
  {
   "cell_type": "code",
   "execution_count": null,
   "metadata": {},
   "outputs": [],
   "source": [
    "grouped_df = client_history_10_more_df.groupby('clientID')['clean_since_last'].mean()"
   ]
  },
  {
   "cell_type": "code",
   "execution_count": null,
   "metadata": {},
   "outputs": [],
   "source": []
  },
  {
   "cell_type": "code",
   "execution_count": null,
   "metadata": {},
   "outputs": [],
   "source": [
    "first_time_df = pd.DataFrame(client_df.groupby('clientID')['TransactionDate'].min())"
   ]
  },
  {
   "cell_type": "code",
   "execution_count": null,
   "metadata": {},
   "outputs": [],
   "source": [
    "first_time_df['month'] = first_time_df['TransactionDate'].dt.month"
   ]
  },
  {
   "cell_type": "code",
   "execution_count": null,
   "metadata": {},
   "outputs": [],
   "source": [
    "first_time_df['year'] = first_time_df['TransactionDate'].dt.year"
   ]
  },
  {
   "cell_type": "code",
   "execution_count": null,
   "metadata": {},
   "outputs": [],
   "source": [
    "count_first_time_by_month_df = first_time_df.groupby(['year', 'month']).count()"
   ]
  },
  {
   "cell_type": "code",
   "execution_count": null,
   "metadata": {
    "scrolled": true
   },
   "outputs": [],
   "source": [
    "count_first_time_by_month_df.reset_index(inplace=True)"
   ]
  },
  {
   "cell_type": "code",
   "execution_count": null,
   "metadata": {},
   "outputs": [],
   "source": [
    "count_first_time_by_month_df['datetime']= pd.to_datetime(count_first_time_by_month_df['year'].astype(str) + count_first_time_by_month_df['month'].astype(str), format='%Y%m')"
   ]
  },
  {
   "cell_type": "code",
   "execution_count": null,
   "metadata": {
    "scrolled": true
   },
   "outputs": [],
   "source": [
    "fig, ax = plt.subplots(figsize=(30,7))\n",
    "sns.lineplot(count_first_time_by_month_df['datetime'], count_first_time_by_month_df['TransactionDate'])\n",
    "plt.xlabel('Month')\n",
    "plt.ylabel('# of new clients')\n",
    "plt.title(\"New clients by month for the last 3 years\");"
   ]
  },
  {
   "cell_type": "code",
   "execution_count": null,
   "metadata": {},
   "outputs": [],
   "source": []
  },
  {
   "cell_type": "code",
   "execution_count": null,
   "metadata": {},
   "outputs": [],
   "source": [
    "first_time_df = clean_client_df.groupby('clientID').min()"
   ]
  },
  {
   "cell_type": "code",
   "execution_count": null,
   "metadata": {},
   "outputs": [],
   "source": [
    "zip_code_count = first_time_df['Address_Zip'].value_counts()"
   ]
  },
  {
   "cell_type": "code",
   "execution_count": null,
   "metadata": {},
   "outputs": [],
   "source": [
    "zip_code_count_df = pd.DataFrame([zip_code_count]).T"
   ]
  },
  {
   "cell_type": "code",
   "execution_count": null,
   "metadata": {},
   "outputs": [],
   "source": [
    "zip_code_count_df"
   ]
  },
  {
   "cell_type": "code",
   "execution_count": null,
   "metadata": {},
   "outputs": [],
   "source": [
    "sns.barplot(x=zip_code_count_df[zip_code_count_df['Address_Zip'] > 400].index, y=zip_code_count_df[zip_code_count_df['Address_Zip'] > 400]['Address_Zip'])"
   ]
  },
  {
   "cell_type": "code",
   "execution_count": null,
   "metadata": {},
   "outputs": [],
   "source": [
    "plt.hist(zip_code_count_df[zip_code_count_df['Address_Zip'] > 400])\n"
   ]
  },
  {
   "cell_type": "code",
   "execution_count": null,
   "metadata": {},
   "outputs": [],
   "source": []
  },
  {
   "cell_type": "code",
   "execution_count": 85,
   "metadata": {},
   "outputs": [],
   "source": [
    "clean_client_df.drop('Service_Category', axis=1, inplace=True)"
   ]
  },
  {
   "cell_type": "code",
   "execution_count": 89,
   "metadata": {},
   "outputs": [
    {
     "ename": "KeyError",
     "evalue": "\"['Servive_Catagory'] not found in axis\"",
     "output_type": "error",
     "traceback": [
      "\u001b[0;31m---------------------------------------------------------------------------\u001b[0m",
      "\u001b[0;31mKeyError\u001b[0m                                  Traceback (most recent call last)",
      "\u001b[0;32m<ipython-input-89-be1132d06df2>\u001b[0m in \u001b[0;36m<module>\u001b[0;34m\u001b[0m\n\u001b[0;32m----> 1\u001b[0;31m \u001b[0mclean_client_df\u001b[0m\u001b[0;34m.\u001b[0m\u001b[0mdrop\u001b[0m\u001b[0;34m(\u001b[0m\u001b[0;34m'Servive_Catagory'\u001b[0m\u001b[0;34m,\u001b[0m \u001b[0maxis\u001b[0m\u001b[0;34m=\u001b[0m\u001b[0;36m1\u001b[0m\u001b[0;34m,\u001b[0m \u001b[0minplace\u001b[0m\u001b[0;34m=\u001b[0m\u001b[0;32mTrue\u001b[0m\u001b[0;34m)\u001b[0m\u001b[0;34m\u001b[0m\u001b[0;34m\u001b[0m\u001b[0m\n\u001b[0m",
      "\u001b[0;32m/anaconda3/lib/python3.7/site-packages/pandas/core/frame.py\u001b[0m in \u001b[0;36mdrop\u001b[0;34m(self, labels, axis, index, columns, level, inplace, errors)\u001b[0m\n\u001b[1;32m   3938\u001b[0m                                            \u001b[0mindex\u001b[0m\u001b[0;34m=\u001b[0m\u001b[0mindex\u001b[0m\u001b[0;34m,\u001b[0m \u001b[0mcolumns\u001b[0m\u001b[0;34m=\u001b[0m\u001b[0mcolumns\u001b[0m\u001b[0;34m,\u001b[0m\u001b[0;34m\u001b[0m\u001b[0;34m\u001b[0m\u001b[0m\n\u001b[1;32m   3939\u001b[0m                                            \u001b[0mlevel\u001b[0m\u001b[0;34m=\u001b[0m\u001b[0mlevel\u001b[0m\u001b[0;34m,\u001b[0m \u001b[0minplace\u001b[0m\u001b[0;34m=\u001b[0m\u001b[0minplace\u001b[0m\u001b[0;34m,\u001b[0m\u001b[0;34m\u001b[0m\u001b[0;34m\u001b[0m\u001b[0m\n\u001b[0;32m-> 3940\u001b[0;31m                                            errors=errors)\n\u001b[0m\u001b[1;32m   3941\u001b[0m \u001b[0;34m\u001b[0m\u001b[0m\n\u001b[1;32m   3942\u001b[0m     @rewrite_axis_style_signature('mapper', [('copy', True),\n",
      "\u001b[0;32m/anaconda3/lib/python3.7/site-packages/pandas/core/generic.py\u001b[0m in \u001b[0;36mdrop\u001b[0;34m(self, labels, axis, index, columns, level, inplace, errors)\u001b[0m\n\u001b[1;32m   3778\u001b[0m         \u001b[0;32mfor\u001b[0m \u001b[0maxis\u001b[0m\u001b[0;34m,\u001b[0m \u001b[0mlabels\u001b[0m \u001b[0;32min\u001b[0m \u001b[0maxes\u001b[0m\u001b[0;34m.\u001b[0m\u001b[0mitems\u001b[0m\u001b[0;34m(\u001b[0m\u001b[0;34m)\u001b[0m\u001b[0;34m:\u001b[0m\u001b[0;34m\u001b[0m\u001b[0;34m\u001b[0m\u001b[0m\n\u001b[1;32m   3779\u001b[0m             \u001b[0;32mif\u001b[0m \u001b[0mlabels\u001b[0m \u001b[0;32mis\u001b[0m \u001b[0;32mnot\u001b[0m \u001b[0;32mNone\u001b[0m\u001b[0;34m:\u001b[0m\u001b[0;34m\u001b[0m\u001b[0;34m\u001b[0m\u001b[0m\n\u001b[0;32m-> 3780\u001b[0;31m                 \u001b[0mobj\u001b[0m \u001b[0;34m=\u001b[0m \u001b[0mobj\u001b[0m\u001b[0;34m.\u001b[0m\u001b[0m_drop_axis\u001b[0m\u001b[0;34m(\u001b[0m\u001b[0mlabels\u001b[0m\u001b[0;34m,\u001b[0m \u001b[0maxis\u001b[0m\u001b[0;34m,\u001b[0m \u001b[0mlevel\u001b[0m\u001b[0;34m=\u001b[0m\u001b[0mlevel\u001b[0m\u001b[0;34m,\u001b[0m \u001b[0merrors\u001b[0m\u001b[0;34m=\u001b[0m\u001b[0merrors\u001b[0m\u001b[0;34m)\u001b[0m\u001b[0;34m\u001b[0m\u001b[0;34m\u001b[0m\u001b[0m\n\u001b[0m\u001b[1;32m   3781\u001b[0m \u001b[0;34m\u001b[0m\u001b[0m\n\u001b[1;32m   3782\u001b[0m         \u001b[0;32mif\u001b[0m \u001b[0minplace\u001b[0m\u001b[0;34m:\u001b[0m\u001b[0;34m\u001b[0m\u001b[0;34m\u001b[0m\u001b[0m\n",
      "\u001b[0;32m/anaconda3/lib/python3.7/site-packages/pandas/core/generic.py\u001b[0m in \u001b[0;36m_drop_axis\u001b[0;34m(self, labels, axis, level, errors)\u001b[0m\n\u001b[1;32m   3810\u001b[0m                 \u001b[0mnew_axis\u001b[0m \u001b[0;34m=\u001b[0m \u001b[0maxis\u001b[0m\u001b[0;34m.\u001b[0m\u001b[0mdrop\u001b[0m\u001b[0;34m(\u001b[0m\u001b[0mlabels\u001b[0m\u001b[0;34m,\u001b[0m \u001b[0mlevel\u001b[0m\u001b[0;34m=\u001b[0m\u001b[0mlevel\u001b[0m\u001b[0;34m,\u001b[0m \u001b[0merrors\u001b[0m\u001b[0;34m=\u001b[0m\u001b[0merrors\u001b[0m\u001b[0;34m)\u001b[0m\u001b[0;34m\u001b[0m\u001b[0;34m\u001b[0m\u001b[0m\n\u001b[1;32m   3811\u001b[0m             \u001b[0;32melse\u001b[0m\u001b[0;34m:\u001b[0m\u001b[0;34m\u001b[0m\u001b[0;34m\u001b[0m\u001b[0m\n\u001b[0;32m-> 3812\u001b[0;31m                 \u001b[0mnew_axis\u001b[0m \u001b[0;34m=\u001b[0m \u001b[0maxis\u001b[0m\u001b[0;34m.\u001b[0m\u001b[0mdrop\u001b[0m\u001b[0;34m(\u001b[0m\u001b[0mlabels\u001b[0m\u001b[0;34m,\u001b[0m \u001b[0merrors\u001b[0m\u001b[0;34m=\u001b[0m\u001b[0merrors\u001b[0m\u001b[0;34m)\u001b[0m\u001b[0;34m\u001b[0m\u001b[0;34m\u001b[0m\u001b[0m\n\u001b[0m\u001b[1;32m   3813\u001b[0m             \u001b[0mresult\u001b[0m \u001b[0;34m=\u001b[0m \u001b[0mself\u001b[0m\u001b[0;34m.\u001b[0m\u001b[0mreindex\u001b[0m\u001b[0;34m(\u001b[0m\u001b[0;34m**\u001b[0m\u001b[0;34m{\u001b[0m\u001b[0maxis_name\u001b[0m\u001b[0;34m:\u001b[0m \u001b[0mnew_axis\u001b[0m\u001b[0;34m}\u001b[0m\u001b[0;34m)\u001b[0m\u001b[0;34m\u001b[0m\u001b[0;34m\u001b[0m\u001b[0m\n\u001b[1;32m   3814\u001b[0m \u001b[0;34m\u001b[0m\u001b[0m\n",
      "\u001b[0;32m/anaconda3/lib/python3.7/site-packages/pandas/core/indexes/base.py\u001b[0m in \u001b[0;36mdrop\u001b[0;34m(self, labels, errors)\u001b[0m\n\u001b[1;32m   4963\u001b[0m             \u001b[0;32mif\u001b[0m \u001b[0merrors\u001b[0m \u001b[0;34m!=\u001b[0m \u001b[0;34m'ignore'\u001b[0m\u001b[0;34m:\u001b[0m\u001b[0;34m\u001b[0m\u001b[0;34m\u001b[0m\u001b[0m\n\u001b[1;32m   4964\u001b[0m                 raise KeyError(\n\u001b[0;32m-> 4965\u001b[0;31m                     '{} not found in axis'.format(labels[mask]))\n\u001b[0m\u001b[1;32m   4966\u001b[0m             \u001b[0mindexer\u001b[0m \u001b[0;34m=\u001b[0m \u001b[0mindexer\u001b[0m\u001b[0;34m[\u001b[0m\u001b[0;34m~\u001b[0m\u001b[0mmask\u001b[0m\u001b[0;34m]\u001b[0m\u001b[0;34m\u001b[0m\u001b[0;34m\u001b[0m\u001b[0m\n\u001b[1;32m   4967\u001b[0m         \u001b[0;32mreturn\u001b[0m \u001b[0mself\u001b[0m\u001b[0;34m.\u001b[0m\u001b[0mdelete\u001b[0m\u001b[0;34m(\u001b[0m\u001b[0mindexer\u001b[0m\u001b[0;34m)\u001b[0m\u001b[0;34m\u001b[0m\u001b[0;34m\u001b[0m\u001b[0m\n",
      "\u001b[0;31mKeyError\u001b[0m: \"['Servive_Catagory'] not found in axis\""
     ]
    }
   ],
   "source": [
    "clean_client_df.drop('Servive_Catagory', axis=1, inplace=True)"
   ]
  },
  {
   "cell_type": "code",
   "execution_count": null,
   "metadata": {},
   "outputs": [],
   "source": [
    "ohe"
   ]
  }
 ],
 "metadata": {
  "kernelspec": {
   "display_name": "Python 3",
   "language": "python",
   "name": "python3"
  },
  "language_info": {
   "codemirror_mode": {
    "name": "ipython",
    "version": 3
   },
   "file_extension": ".py",
   "mimetype": "text/x-python",
   "name": "python",
   "nbconvert_exporter": "python",
   "pygments_lexer": "ipython3",
   "version": "3.7.3"
  }
 },
 "nbformat": 4,
 "nbformat_minor": 2
}
